{
 "cells": [
  {
   "cell_type": "code",
   "execution_count": 2,
   "id": "ad4b8be7-d37c-4517-a0bf-192110c2cd30",
   "metadata": {
    "editable": true,
    "slideshow": {
     "slide_type": ""
    },
    "tags": []
   },
   "outputs": [
    {
     "name": "stdout",
     "output_type": "stream",
     "text": [
      "map1 size: 3\n",
      "map1 Map(3) { 'a' => 1, 'b' => 2, 'c' => 3 }\n",
      "map1 2\n",
      "map1 has b as key: true\n",
      "map1 after delete: Map(2) { 'a' => 1, 'c' => 3 }\n",
      "map1 size after clear: 0\n"
     ]
    }
   ],
   "source": [
    "// Maps: creation\n",
    "const map1 = new Map([\n",
    "    ['a', 1]\n",
    "]);\n",
    "map1.set('b', 2);\n",
    "map1.set('c', 3);\n",
    "console.log('map1 size:', map1.size);\n",
    "console.log('map1', map1);\n",
    "const mi = map1.get('b');\n",
    "console.log('map1', mi);\n",
    "console.log('map1 has b as key:', map1.has('b'));\n",
    "map1.delete('b');\n",
    "console.log('map1 after delete:', map1);\n",
    "map1.clear();\n",
    "console.log('map1 size after clear:', map1.size);\n",
    "const map2 = new Map([\n",
    "    ['a', 1],\n",
    "    ['b', 2],\n",
    "    ['c', 3],\n",
    "]);"
   ]
  },
  {
   "cell_type": "code",
   "execution_count": 4,
   "id": "8a934990-785e-4966-a7e5-ef4c700fd275",
   "metadata": {
    "editable": true,
    "slideshow": {
     "slide_type": ""
    },
    "tags": []
   },
   "outputs": [
    {
     "name": "stdout",
     "output_type": "stream",
     "text": [
      "map1 items: [ 'a', 1 ]\n",
      "map1 items: [ 'b', 2 ]\n",
      "map1 items: [ 'c', 3 ]\n",
      "map1 entries: [ 'a', 1 ]\n",
      "map1 entries: [ 'b', 2 ]\n",
      "map1 entries: [ 'c', 3 ]\n",
      "map1 keys: a\n",
      "map1 keys: b\n",
      "map1 keys: c\n",
      "map1 values: 1\n",
      "map1 values: 2\n",
      "map1 values: 3\n",
      "map1 values and keys: 1 a\n",
      "map1 values and keys: 2 b\n",
      "map1 values and keys: 3 c\n"
     ]
    }
   ],
   "source": [
    "// Maps: iteration\n",
    "for(const e of map2) console.log('map items:',  e)\n",
    "for(const e of map2.entries()) console.log('map entries:',  e)\n",
    "for(const e of map2.keys()) console.log('map keys:',  e)\n",
    "for(const e of map2.values()) console.log('map values:',  e)\n",
    "map2.forEach((v, k) => console.log('map values and keys:',  v, k))"
   ]
  },
  {
   "cell_type": "code",
   "execution_count": 5,
   "id": "2e154b34-f65d-4e06-93c3-3774e7ff125b",
   "metadata": {
    "editable": true,
    "slideshow": {
     "slide_type": ""
    },
    "tags": []
   },
   "outputs": [
    {
     "name": "stdout",
     "output_type": "stream",
     "text": [
      "[ [ 'a', 1 ], [ 'b', 2 ], [ 'c', 3 ] ]\n"
     ]
    }
   ],
   "source": [
    "// Map: unpacking\n",
    "const entries = [...map2];\n",
    "console.log(entries);  // Output: [['a', 1], ['b', 2], ['c', 3]]"
   ]
  },
  {
   "cell_type": "code",
   "execution_count": null,
   "id": "9105ade2-a902-4406-afaa-f5798b6cfd96",
   "metadata": {},
   "outputs": [],
   "source": []
  }
 ],
 "metadata": {
  "kernelspec": {
   "display_name": "JavaScript (Node.js)",
   "language": "javascript",
   "name": "javascript"
  },
  "language_info": {
   "file_extension": ".js",
   "mimetype": "application/javascript",
   "name": "javascript",
   "version": "18.14.2"
  }
 },
 "nbformat": 4,
 "nbformat_minor": 5
}
