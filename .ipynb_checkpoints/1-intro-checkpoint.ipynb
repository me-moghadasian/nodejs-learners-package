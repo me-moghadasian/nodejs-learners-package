{
 "cells": [
  {
   "cell_type": "code",
   "execution_count": 1,
   "id": "74a685f2-799c-4465-9aa7-e6e86287580a",
   "metadata": {
    "editable": true,
    "slideshow": {
     "slide_type": ""
    },
    "tags": []
   },
   "outputs": [
    {
     "name": "stdout",
     "output_type": "stream",
     "text": [
      "undefined\n",
      "6\n",
      "true\n",
      "true\n",
      "true\n"
     ]
    }
   ],
   "source": [
    "// Working with variables and constants.\n",
    "const c = 5;\n",
    "let v; // Bound to block it is difined in.\n",
    "console.log(v);\n",
    "v = 5;\n",
    "v = v + 1;\n",
    "console.log(v);\n",
    "let anan = NaN; // a is Not-a-Number\n",
    "let bnull = null; // b is explicitly set to null\n",
    "let cund; // c is undefined by default\n",
    "\n",
    "console.log(Number.isNaN(anan));  // true\n",
    "console.log(null === null);       // true\n",
    "console.log(cund === undefined);  // true"
   ]
  },
  {
   "cell_type": "code",
   "execution_count": 2,
   "id": "d5b1e1da-9d3a-4a76-b179-6f126e3a8cff",
   "metadata": {
    "editable": true,
    "slideshow": {
     "slide_type": ""
    },
    "tags": []
   },
   "outputs": [
    {
     "name": "stdout",
     "output_type": "stream",
     "text": [
      "This is v: 6\n"
     ]
    }
   ],
   "source": [
    "// String binding\n",
    "let s = `This is v: ${v}`;\n",
    "console.log(s);"
   ]
  },
  {
   "cell_type": "code",
   "execution_count": 3,
   "id": "f0b00fd3-2bd4-4738-88ed-bf3a3861949f",
   "metadata": {
    "editable": true,
    "slideshow": {
     "slide_type": ""
    },
    "tags": []
   },
   "outputs": [
    {
     "name": "stdout",
     "output_type": "stream",
     "text": [
      "If condition was true\n",
      "If condition was wrong\n",
      "If condition was true\n",
      "Switch condition is B.\n"
     ]
    }
   ],
   "source": [
    "// If and switch \n",
    "if (true) {\n",
    "    console.log(`If condition was true`);\n",
    "} else {\n",
    "    console.log(`If condition was wrong`);\n",
    "}\n",
    "\n",
    "let undv; // <-- Undefined variable\n",
    "if (undv) {\n",
    "    console.log(`If condition was true`);\n",
    "} else {\n",
    "    console.log(`If condition was wrong`);\n",
    "}\n",
    "if (!undv) {\n",
    "    console.log(`If condition was true`);\n",
    "} else {\n",
    "    console.log(`If condition was wrong`);\n",
    "}\n",
    "    \n",
    "const sc = 'B';\n",
    "switch(sc) {\n",
    "    case 'A':\n",
    "        console.log('Switch condition is A.');\n",
    "        break;\n",
    "    case 'B':\n",
    "        console.log('Switch condition is B.');\n",
    "        break;\n",
    "    default:\n",
    "        console.log('Switch condition is default.');\n",
    "}"
   ]
  },
  {
   "cell_type": "code",
   "execution_count": 4,
   "id": "cf894201-45cd-4be1-b492-77210fdeb818",
   "metadata": {},
   "outputs": [
    {
     "name": "stdout",
     "output_type": "stream",
     "text": [
      "for: 0\n",
      "for: 1\n",
      "for: 2\n",
      "for: 3\n",
      "for: 4\n",
      "while: 0\n",
      "while: 1\n",
      "while: 2\n",
      "while: 3\n",
      "while: 4\n"
     ]
    },
    {
     "data": {
      "text/plain": [
       "4"
      ]
     },
     "execution_count": 4,
     "metadata": {},
     "output_type": "execute_result"
    }
   ],
   "source": [
    "// Loops\n",
    "for (let fc = 0; fc < 5; fc++) {\n",
    "    console.log('for:', fc);\n",
    "}\n",
    "let whc = 0;\n",
    "while(whc < 5) {\n",
    "    console.log('while:', whc);\n",
    "    whc++;\n",
    "}"
   ]
  },
  {
   "cell_type": "code",
   "execution_count": 5,
   "id": "2baf44de-d575-4f49-8142-c61bbf5b7377",
   "metadata": {
    "editable": true,
    "slideshow": {
     "slide_type": ""
    },
    "tags": []
   },
   "outputs": [
    {
     "name": "stdout",
     "output_type": "stream",
     "text": [
      "log some log\n",
      "log some info\n"
     ]
    },
    {
     "name": "stderr",
     "output_type": "stream",
     "text": [
      "log some log\n",
      "log some error\n"
     ]
    }
   ],
   "source": [
    "// Logs\n",
    "console.log('log', 'some log');\n",
    "console.info('log', 'some info');\n",
    "console.warn('log', 'some log');\n",
    "console.error('log', 'some error');"
   ]
  },
  {
   "cell_type": "code",
   "execution_count": 6,
   "id": "69209a88-1ee3-4615-94c5-417510a3fac3",
   "metadata": {},
   "outputs": [
    {
     "name": "stdout",
     "output_type": "stream",
     "text": [
      "is equal false\n",
      "is equal true\n"
     ]
    }
   ],
   "source": [
    "// Equality\n",
    "const s1 = '1';\n",
    "const s2 = 1;\n",
    "console.log('is equal', s1 === s2); // Does not convert\n",
    "console.log('is equal', s1 == s2);"
   ]
  },
  {
   "cell_type": "code",
   "execution_count": 7,
   "id": "f4034661-666a-40c1-995c-a1bf685e1953",
   "metadata": {},
   "outputs": [
    {
     "name": "stdout",
     "output_type": "stream",
     "text": [
      "Current timestamp: 1723919081467\n",
      "Direct Date object: Sat Aug 17 2024 21:54:41 GMT+0330 (Iran Standard Time)\n",
      "Timestamp from Date object: 1723919081468\n",
      "Sat, 17 Aug 2024 18:24:41 GMT\n",
      "2024-08-17T18:24:41.468Z\n",
      "Direct Date object: Sat Aug 17 2024 15:30:00 GMT+0330 (Iran Standard Time)\n",
      "Sat, 17 Aug 2024 12:00:00 GMT\n",
      "Direct Date object: Sat Aug 17 2024 15:30:00 GMT+0330 (Iran Standard Time)\n",
      "Timestamp from date string: 1723896000000\n",
      "Date from timestamp: Sat Apr 20 2024 04:30:00 GMT+0330 (Iran Standard Time)\n"
     ]
    }
   ],
   "source": [
    "// Date and Time\n",
    "const timestamp1 = Date.now(); // UTC\n",
    "console.log('Current timestamp:', timestamp1);\n",
    "\n",
    "const date1 = new Date();  // Locale datetime\n",
    "console.log('Direct Date object:', date1.toString());\n",
    "const timestamp2 = date1.getTime(); // Converts to UTC timestamp\n",
    "console.log('Timestamp from Date object:', timestamp2); \n",
    "console.log(date1.toUTCString()); // Displays the date and time in UTC\n",
    "console.log(date1.toISOString()); // Displays the date and time in ISO 8601 format (UTC)\n",
    "\n",
    "const byUtcDate = new Date(Date.UTC(2024, 7, 17, 12, 0, 0)); // August is month 7 (0-based);Date.UTC() returns timestamp\n",
    "console.log('Direct Date object:', byUtcDate.toString()); // Locale datetime\n",
    "console.log(byUtcDate.toUTCString()); // Displays the date and time in UTC\n",
    "\n",
    "const dateString = '2024-08-17T12:00:00Z';  // ISO 8601 format\n",
    "const date2 = new Date(dateString); // Locale datetime\n",
    "console.log('Direct Date object:', date2.toString()); // Locale datetime\n",
    "const timestamp3 = date2.getTime(); // UTC\n",
    "console.log('Timestamp from date string:', timestamp3);\n",
    "\n",
    "const timestamp4 = 1713574800000;  // Example timestamp\n",
    "const date3 = new Date(timestamp4);\n",
    "console.log('Date from timestamp:', date3.toString());\n"
   ]
  }
 ],
 "metadata": {
  "kernelspec": {
   "display_name": "JavaScript (Node.js)",
   "language": "javascript",
   "name": "javascript"
  },
  "language_info": {
   "file_extension": ".js",
   "mimetype": "application/javascript",
   "name": "javascript",
   "version": "18.14.2"
  }
 },
 "nbformat": 4,
 "nbformat_minor": 5
}
