{
 "cells": [
  {
   "cell_type": "code",
   "execution_count": 1,
   "id": "bb6eb041-a83d-4fe0-b40a-20011cae8b95",
   "metadata": {},
   "outputs": [],
   "source": [
    "const fs = require('fs');\n",
    "const path = require('path');\n",
    "const axios = require('axios');"
   ]
  },
  {
   "cell_type": "code",
   "execution_count": 2,
   "id": "a7cd2029-7816-4ddc-9edf-0960e3fe9389",
   "metadata": {},
   "outputs": [],
   "source": [
    "const cwd = process.cwd();"
   ]
  },
  {
   "cell_type": "code",
   "execution_count": 3,
   "id": "38e4b159-35a8-400b-bb5f-0cbfb9cbf85b",
   "metadata": {
    "editable": true,
    "slideshow": {
     "slide_type": ""
    },
    "tags": []
   },
   "outputs": [
    {
     "data": {
      "text/plain": [
       "Promise { <pending> }"
      ]
     },
     "execution_count": 3,
     "metadata": {},
     "output_type": "execute_result"
    },
    {
     "name": "stdout",
     "output_type": "stream",
     "text": [
      "Data received: Hello World pathname: \"/some-path/\", query: \"{}\", \n"
     ]
    }
   ],
   "source": [
    "// Fetch simple GET request using fetch\n",
    "fetch('http://localhost:1234/some-path/', {\n",
    "    method: 'GET'\n",
    "}).then(response => {\n",
    "    if (!response.ok) {\n",
    "        throw new Error('Network response was not ok');\n",
    "    }\n",
    "    return response.text(); // or response.json() if you expect JSON data\n",
    "})\n",
    ".then(data => {\n",
    "    console.log('Data received:', data);\n",
    "})\n",
    ".catch(error => {\n",
    "    console.error('There was a problem with the fetch operation:', error);\n",
    "});"
   ]
  },
  {
   "cell_type": "code",
   "execution_count": 8,
   "id": "09a652a4-d8c7-4737-bc2b-b45d99dc9eda",
   "metadata": {},
   "outputs": [
    {
     "data": {
      "text/plain": [
       "Promise { <pending> }"
      ]
     },
     "execution_count": 8,
     "metadata": {},
     "output_type": "execute_result"
    },
    {
     "name": "stdout",
     "output_type": "stream",
     "text": [
      "Data received: Hello World pathname: \"/some-path/\", query: \"{}\", \n"
     ]
    }
   ],
   "source": [
    "// Fetch simple GET request using axios\n",
    "axios({\n",
    "    method: 'GET',\n",
    "    url: 'http://localhost:1234/some-path/',\n",
    "    responseType: 'text'\n",
    "}).then(response => {\n",
    "    if (response.status != 200) {\n",
    "        throw new Error('Network response was not ok');\n",
    "    }\n",
    "    \n",
    "    console.log('Data received:', response.data);\n",
    "})\n",
    ".catch(error => {\n",
    "    console.error('There was a problem with the request:', error.message);\n",
    "});"
   ]
  },
  {
   "cell_type": "code",
   "execution_count": 4,
   "id": "07711e1d-0c27-41a5-b473-e2ad19e37140",
   "metadata": {
    "editable": true,
    "slideshow": {
     "slide_type": ""
    },
    "tags": []
   },
   "outputs": [
    {
     "data": {
      "text/plain": [
       "Promise { <pending> }"
      ]
     },
     "execution_count": 4,
     "metadata": {},
     "output_type": "execute_result"
    },
    {
     "name": "stdout",
     "output_type": "stream",
     "text": [
      "Data received: {\n",
      "  name: 'John',\n",
      "  age: 30,\n",
      "  city: 'New York',\n",
      "  responseTimestamp: 1724152236957\n",
      "}\n"
     ]
    }
   ],
   "source": [
    "// Getting simple JSON data using fetch\n",
    "fetch('http://localhost:1234/json-response/', {\n",
    "    method: 'GET'\n",
    "}).then(response => {\n",
    "    if (!response.ok) {\n",
    "        throw new Error('Network response was not ok');\n",
    "    }\n",
    "    return response.json(); // or response.json() if you expect JSON data\n",
    "})\n",
    ".then(data => {\n",
    "    console.log('Data received:', data);\n",
    "})\n",
    ".catch(error => {\n",
    "    console.error('There was a problem with the fetch operation:', error);\n",
    "});"
   ]
  },
  {
   "cell_type": "code",
   "execution_count": 10,
   "id": "3bdda2ca-2418-4d7c-9c83-c88b284c21db",
   "metadata": {},
   "outputs": [
    {
     "data": {
      "text/plain": [
       "Promise { <pending> }"
      ]
     },
     "execution_count": 10,
     "metadata": {},
     "output_type": "execute_result"
    },
    {
     "name": "stdout",
     "output_type": "stream",
     "text": [
      "Data received: object\n",
      "Data received: {\n",
      "  name: 'John',\n",
      "  age: 30,\n",
      "  city: 'New York',\n",
      "  responseTimestamp: 1724157740588\n",
      "}\n"
     ]
    }
   ],
   "source": [
    "// Getting simple JSON data using axios\n",
    "axios({\n",
    "    method: 'GET',\n",
    "    url: 'http://localhost:1234/json-response/',\n",
    "    responseType: 'json'\n",
    "}).then(response => {\n",
    "    if (response.status != 200) {\n",
    "        throw new Error('Network response was not ok');\n",
    "    }\n",
    "    \n",
    "    console.log('Data received:', response.data);\n",
    "})\n",
    ".catch(error => {\n",
    "    console.error('There was a problem with the request:', error.message);\n",
    "});"
   ]
  },
  {
   "cell_type": "code",
   "execution_count": 22,
   "id": "2cdeb9b7-a7dc-45c8-9750-6dbf0f22d344",
   "metadata": {},
   "outputs": [
    {
     "data": {
      "text/plain": [
       "Promise { <pending> }"
      ]
     },
     "execution_count": 22,
     "metadata": {},
     "output_type": "execute_result"
    },
    {
     "name": "stdout",
     "output_type": "stream",
     "text": [
      "Data received: { name: 'John', age: 30, city: 'New York' }\n",
      "File saved successfully!\n"
     ]
    }
   ],
   "source": [
    "// Getting JSON data as file using fetch\n",
    "fetch('http://localhost:1234/download-data/', {\n",
    "    method: 'GET'\n",
    "})\n",
    ".then(response => {\n",
    "    if (!response.ok) {\n",
    "        throw new Error('Network response was not ok');\n",
    "    }\n",
    "    return response.arrayBuffer(); // Use arrayBuffer() for binary data\n",
    "})\n",
    ".then(arrayBuffer => {\n",
    "    const buffer = Buffer.from(arrayBuffer);\n",
    "    const textDecoder = new TextDecoder();\n",
    "    const text = textDecoder.decode(buffer);\n",
    "    \n",
    "    // Parse the text as JSON\n",
    "    const data = JSON.parse(text);\n",
    "    console.log('Data received:', data);\n",
    "\n",
    "    // Save the binary data to a file: Good for small files\n",
    "    const downloadFileFullAbsolutePath = path.join(cwd, 'downloads', 'server-download-data.json')\n",
    "    fs.writeFile(downloadFileFullAbsolutePath, buffer, (err) => {\n",
    "        if (err) {\n",
    "            console.error('Error writing file:', err);\n",
    "        } else {\n",
    "            console.log('File saved successfully!');\n",
    "        }\n",
    "    });\n",
    "})\n",
    ".catch(error => {\n",
    "    console.error('There was a problem with the fetch operation:', error);\n",
    "});"
   ]
  },
  {
   "cell_type": "code",
   "execution_count": 23,
   "id": "bd8e2682-11e5-4027-8f3c-cf02bee7210c",
   "metadata": {},
   "outputs": [
    {
     "data": {
      "text/plain": [
       "Promise { <pending> }"
      ]
     },
     "execution_count": 23,
     "metadata": {},
     "output_type": "execute_result"
    },
    {
     "name": "stdout",
     "output_type": "stream",
     "text": [
      "Data received: { name: 'John', age: 30, city: 'New York' }\n",
      "File saved successfully!\n"
     ]
    }
   ],
   "source": [
    "// Getting JSON data as file using axios\n",
    "axios({\n",
    "    method: 'GET',\n",
    "    url: 'http://localhost:1234/download-data/',\n",
    "    responseType: 'arrayBuffer'\n",
    "}).then(response => {\n",
    "    if (response.status != 200) {\n",
    "        throw new Error('Network response was not ok');\n",
    "    }\n",
    "    \n",
    "    const buffer = Buffer.from(response.data);\n",
    "    const textDecoder = new TextDecoder();\n",
    "    const text = textDecoder.decode(buffer);\n",
    "   \n",
    "    \n",
    "    // Parse the text as JSON\n",
    "    const data = JSON.parse(text);\n",
    "    console.log('Data received:', data);\n",
    "\n",
    "    // Save the binary data to a file\n",
    "    const downloadFileFullAbsolutePath = path.join(__dirname, 'downloads', 'server-download-data.json');\n",
    "    fs.writeFile(downloadFileFullAbsolutePath, buffer, (err) => {\n",
    "        if (err) {\n",
    "            console.error('Error writing file:', err);\n",
    "        } else {\n",
    "            console.log('File saved successfully!');\n",
    "        }\n",
    "    });\n",
    "})\n",
    ".catch(error => {\n",
    "    console.error('There was a problem with the request:', error.message);\n",
    "});"
   ]
  },
  {
   "cell_type": "code",
   "execution_count": 7,
   "id": "92d67bb2-41f5-4ac7-956d-313a816e0254",
   "metadata": {},
   "outputs": [
    {
     "data": {
      "text/plain": [
       "Promise { <pending> }"
      ]
     },
     "execution_count": 7,
     "metadata": {},
     "output_type": "execute_result"
    },
    {
     "name": "stdout",
     "output_type": "stream",
     "text": [
      "File saved successfully!\n"
     ]
    }
   ],
   "source": [
    "// Downloading PNG file using axios\n",
    "axios({\n",
    "    method: 'GET',\n",
    "    url: 'http://localhost:1234/download-image/',\n",
    "    responseType: 'stream' // can be stream, json, text, arraybuffer, blob\n",
    "})\n",
    ".then(response => {\n",
    "    if (response.status != 200) {\n",
    "        throw new Error('Network response was not ok');\n",
    "    }\n",
    "    // Handle binary data (e.g., PNG)\n",
    "    const downloadFileFullAbsolutePath = path.join(cwd, 'downloads', 'server-download-image.png')\n",
    "    const fileStream = fs.createWriteStream(downloadFileFullAbsolutePath);\n",
    "    response.data.pipe(fileStream);\n",
    "\n",
    "    fileStream.on('finish', () => {\n",
    "        console.log('File saved successfully!');\n",
    "    });\n",
    "\n",
    "    fileStream.on('error', err => {\n",
    "        console.error('Error writing file:', err);\n",
    "    });\n",
    "})\n",
    ".catch(error => {\n",
    "    console.error('There was a problem with the fetch operation:', error);\n",
    "});"
   ]
  }
 ],
 "metadata": {
  "kernelspec": {
   "display_name": "JavaScript (Node.js)",
   "language": "javascript",
   "name": "javascript"
  },
  "language_info": {
   "file_extension": ".js",
   "mimetype": "application/javascript",
   "name": "javascript",
   "version": "18.14.2"
  }
 },
 "nbformat": 4,
 "nbformat_minor": 5
}
