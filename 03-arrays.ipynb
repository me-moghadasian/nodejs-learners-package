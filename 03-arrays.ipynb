{
 "cells": [
  {
   "cell_type": "markdown",
   "id": "8e8214aa-cb91-4981-b203-a2668b7848ee",
   "metadata": {},
   "source": [
    "# Working with Arrays"
   ]
  },
  {
   "cell_type": "markdown",
   "id": "2f2ec30a-770b-46d3-bf72-b4078d398983",
   "metadata": {},
   "source": [
    "## Creating and modifying arrays"
   ]
  },
  {
   "cell_type": "code",
   "execution_count": 1,
   "id": "3faf352d-4e14-4d86-bd27-adb36e1c8318",
   "metadata": {
    "editable": true,
    "slideshow": {
     "slide_type": ""
    },
    "tags": []
   },
   "outputs": [
    {
     "name": "stdout",
     "output_type": "stream",
     "text": [
      "arr1 afer push:  [\n",
      "  -1, 0, 11, 2, 3,\n",
      "   4, 5,  6, 7, 8\n",
      "]\n",
      "arr1 after pop:  [\n",
      "  -1, 0, 11, 2, 3,\n",
      "   4, 5,  6, 7\n",
      "]\n",
      "arr1 after shift:  [\n",
      "  0, 11, 2, 3,\n",
      "  4,  5, 6, 7\n",
      "]\n"
     ]
    }
   ],
   "source": [
    "// Arrays: defining\n",
    "const arr1 = [1, 2, 3]; // new Array(3); Creates an array with 3 empty slots; we can also use new Array(1, 2, 3)\n",
    "arr1[0] = 11;\n",
    "arr1.push(4); //  adds an element to the end\n",
    "arr1.push(5, 6); //  adds elements to the end\n",
    "arr1.unshift(-1, 0); // adds elements to the beginning\n",
    "const arr2 = [7, 8];\n",
    "arr1.push(...arr2); // Unpaks and adds elements\n",
    "console.log('arr1 afer push: ', arr1);\n",
    "\n",
    "arr1.pop(); // Removes he last element\n",
    "console.log('arr1 after pop: ', arr1);\n",
    "\n",
    "arr1.shift();  // Removes the first element from the array\n",
    "console.log('arr1 after shift: ', arr1);    // Outputs: arr1 after shift: [2, 3, 4]"
   ]
  },
  {
   "cell_type": "markdown",
   "id": "2c310945-e375-433b-be7b-afe6fd47483f",
   "metadata": {},
   "source": [
    "## Querying arrays"
   ]
  },
  {
   "cell_type": "code",
   "execution_count": 2,
   "id": "6c359cdc-f51a-4bd1-921c-91c79da06d06",
   "metadata": {
    "editable": true,
    "slideshow": {
     "slide_type": ""
    },
    "tags": []
   },
   "outputs": [
    {
     "name": "stdout",
     "output_type": "stream",
     "text": [
      "arr5 length:  5\n",
      "index of:  1\n",
      "includes:  true\n",
      "find first:  2\n",
      "find first index:  1\n"
     ]
    }
   ],
   "source": [
    "// Arrays: querying\n",
    "\n",
    "const arr3 = [1, 2, 3, 4, 5];\n",
    "\n",
    "console.log('arr5 length: ', arr3.length);  // Get the length of the array\n",
    "console.log('index of: ', arr3.indexOf(2));  // Find the index of the first occurrence of the element 2\n",
    "console.log('includes: ', arr3.includes(2));  // Check if the array includes the element 2\n",
    "console.log('find first: ', arr3.find(num => num > 1));  // Find the first element that satisfies the condition (num > 1)\n",
    "console.log('find first index: ', arr3.findIndex(num => num > 1));  // Find the index of the first element that satisfies the condition (num > 1)"
   ]
  },
  {
   "cell_type": "markdown",
   "id": "22f1fbfb-c95a-4246-8747-a1e8d8a98844",
   "metadata": {},
   "source": [
    "## Looping and iterations on arrays"
   ]
  },
  {
   "cell_type": "code",
   "execution_count": 4,
   "id": "1d091aec-1ea9-46dd-91c5-950f828a55e5",
   "metadata": {
    "editable": true,
    "slideshow": {
     "slide_type": ""
    },
    "tags": []
   },
   "outputs": [
    {
     "name": "stdout",
     "output_type": "stream",
     "text": [
      "arr3 elements: 1\n",
      "arr3 elements: 2\n",
      "arr3 elements: 3\n",
      "arr3 elements: 4\n",
      "arr3 elements: 5\n",
      "arr3 entries: [ 0, 1 ]\n",
      "arr3 entries: [ 1, 2 ]\n",
      "arr3 entries: [ 2, 3 ]\n",
      "arr3 entries: [ 3, 4 ]\n",
      "arr3 entries: [ 4, 5 ]\n",
      "arr3 keys: 0\n",
      "arr3 keys: 1\n",
      "arr3 keys: 2\n",
      "arr3 keys: 3\n",
      "arr3 keys: 4\n",
      "arr3 values: 1\n",
      "arr3 values: 2\n",
      "arr3 values: 3\n",
      "arr3 values: 4\n",
      "arr3 values: 5\n",
      "arr3 v, i: 1 0\n",
      "arr3 v, i: 2 1\n",
      "arr3 v, i: 3 2\n",
      "arr3 v, i: 4 3\n",
      "arr3 v, i: 5 4\n",
      "arr3 mapped: [ 2, 4, 6, 8, 10 ]\n",
      "arr3 mapped: [ 4, 5 ]\n",
      "arr3 some: true\n",
      "arr3 every: false\n"
     ]
    }
   ],
   "source": [
    "// Arrays: iterations\n",
    "\n",
    "// Iterate over elements\n",
    "for (const e of arr3) {\n",
    "    console.log('arr3 elements:', e);  // Output: arr3 elements: 1, arr3 elements: 2, etc.\n",
    "}\n",
    "\n",
    "// Iterate over entries (key-value pairs)\n",
    "for (const e of arr3.entries()) {\n",
    "    console.log('arr3 entries:', e);  // Output: arr3 entries: [0, 1], arr3 entries: [1, 2], etc.\n",
    "    // Each 'e' is an array containing the index and value: [index, value]\n",
    "}\n",
    "\n",
    "// Iterate over keys (indices)\n",
    "for (const e of arr3.keys()) {\n",
    "    console.log('arr3 keys:', e);  // Output: arr3 keys: 0, arr3 keys: 1, etc.\n",
    "}\n",
    "\n",
    "// Iterate over values\n",
    "for (const e of arr3.values()) {\n",
    "    console.log('arr3 values:', e);  // Output: arr3 values: 1, arr3 values: 2, etc.\n",
    "}\n",
    "\n",
    "// Iterate with forEach (accessing value and index)\n",
    "arr3.forEach((v, i) => {\n",
    "    console.log('arr3 v, i:', v, i); // Output: arr3 v, i: 1 0, arr3 v, i: 2 1, etc.\n",
    "});\n",
    "\n",
    "// Map - create a new array with transformed elements\n",
    "console.log('arr3 mapped:', arr3.map(v => v * 2));  // Output: arr3 mapped: [2, 4, 6, 8, 10]\n",
    "\n",
    "// Filter - create a new array with elements that pass a test\n",
    "console.log('arr3 mapped:', arr3.filter(v => v > 3));  // Output: arr3 mapped: [4, 5]\n",
    "\n",
    "// Some - check if at least one element passes a test\n",
    "console.log('arr3 some:', arr3.some(v => v === 3));  // Output: arr3 some: true\n",
    "\n",
    "// Every - check if all elements pass a test\n",
    "console.log('arr3 every:', arr3.every(v => v > 2));  // Output: arr3 every: false (not all elements are greater than 2)"
   ]
  },
  {
   "cell_type": "markdown",
   "id": "bba28977-eb86-48d4-b22d-9caa72def640",
   "metadata": {},
   "source": [
    "## Trasnformation and sorting arrays"
   ]
  },
  {
   "cell_type": "code",
   "execution_count": 5,
   "id": "1db90792-f79b-4870-a161-e484e8512a59",
   "metadata": {},
   "outputs": [
    {
     "name": "stdout",
     "output_type": "stream",
     "text": [
      "arr4 as slice of arr3: [ 2, 3, 4 ]\n",
      "arr5 as concat of arr3 and arr4: [\n",
      "  2, 3, 4, 1,\n",
      "  2, 3, 4, 5\n",
      "]\n",
      "arr5 sorted: [\n",
      "  1, 2, 2, 3,\n",
      "  3, 4, 4, 5\n",
      "]\n",
      "arr5 reverse: [\n",
      "  5, 4, 4, 3,\n",
      "  3, 2, 2, 1\n",
      "]\n"
     ]
    }
   ],
   "source": [
    "// Arrays: manipulation\n",
    "\n",
    "const arr4 = arr3.slice(1, 4); // Creates a new array starting from index 1 to 3 (exclusive)\n",
    "console.log('arr4 as slice of arr3:', arr4);\n",
    "\n",
    "const arr5 = arr4.concat(arr3);\n",
    "console.log('arr5 as concat of arr3 and arr4:', arr5);\n",
    "\n",
    "console.log('arr5 sorted:', arr5.sort());  // Sorts the array in ascending order based on string comparison\n",
    "console.log('arr5 reverse:', arr5.reverse()); // Reverses the order of the elements in the array"
   ]
  },
  {
   "cell_type": "markdown",
   "id": "17b182ee-1b6d-49f3-ab30-fee089e05455",
   "metadata": {},
   "source": [
    "## Destructuring and clearing arrays"
   ]
  },
  {
   "cell_type": "code",
   "execution_count": 2,
   "id": "f99de1e1-a13e-425c-a3ea-6d26e0580733",
   "metadata": {},
   "outputs": [
    {
     "name": "stdout",
     "output_type": "stream",
     "text": [
      "1 2\n"
     ]
    }
   ],
   "source": [
    "// Arrays: destructuring\n",
    "const arr6 = [1, 2, 3];\n",
    "const [a, b] = arr6;\n",
    "console.log(a, b); // Output: 1 2"
   ]
  },
  {
   "cell_type": "code",
   "execution_count": 3,
   "id": "0eec2d7f-2ee7-4f77-ab39-debe3df148ef",
   "metadata": {},
   "outputs": [
    {
     "data": {
      "text/plain": [
       "0"
      ]
     },
     "execution_count": 3,
     "metadata": {},
     "output_type": "execute_result"
    }
   ],
   "source": [
    "// Arrays: clear array\n",
    "arr6.length = 0"
   ]
  },
  {
   "cell_type": "code",
   "execution_count": null,
   "id": "643ae153-abcb-4fc8-b57d-f9d6a399e508",
   "metadata": {},
   "outputs": [],
   "source": []
  }
 ],
 "metadata": {
  "kernelspec": {
   "display_name": "JavaScript (Node.js)",
   "language": "javascript",
   "name": "javascript"
  },
  "language_info": {
   "file_extension": ".js",
   "mimetype": "application/javascript",
   "name": "javascript",
   "version": "18.14.2"
  }
 },
 "nbformat": 4,
 "nbformat_minor": 5
}
