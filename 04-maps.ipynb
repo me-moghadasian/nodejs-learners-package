{
 "cells": [
  {
   "cell_type": "markdown",
   "id": "5f29a2da-12a5-4478-bb00-fbb452df867a",
   "metadata": {},
   "source": [
    "# Working with Maps"
   ]
  },
  {
   "cell_type": "markdown",
   "id": "33c86117-1c6b-485b-8c94-176059b49f2d",
   "metadata": {},
   "source": [
    "## Creating and modifying maps"
   ]
  },
  {
   "cell_type": "code",
   "execution_count": 2,
   "id": "ad4b8be7-d37c-4517-a0bf-192110c2cd30",
   "metadata": {
    "editable": true,
    "slideshow": {
     "slide_type": ""
    },
    "tags": []
   },
   "outputs": [
    {
     "name": "stdout",
     "output_type": "stream",
     "text": [
      "map1 size: 3\n",
      "map1 Map(3) { 'a' => 1, 'b' => 2, 'c' => 3 }\n",
      "map1 2\n",
      "map1 has b as key: true\n",
      "map1 after delete: Map(2) { 'a' => 1, 'c' => 3 }\n",
      "map1 size after clear: 0\n"
     ]
    }
   ],
   "source": [
    "// Maps: creation\n",
    "const map1 = new Map([\n",
    "    ['a', 1]\n",
    "]);\n",
    "map1.set('b', 2);\n",
    "map1.set('c', 3);\n",
    "console.log('map1 size:', map1.size);\n",
    "console.log('map1', map1);\n",
    "\n",
    "const mi = map1.get('b');\n",
    "console.log('map1', mi);\n",
    "console.log('map1 has b as key:', map1.has('b'));\n",
    "\n",
    "map1.delete('b');\n",
    "console.log('map1 after delete:', map1);\n",
    "\n",
    "map1.clear();\n",
    "console.log('map1 size after clear:', map1.size);\n",
    "\n",
    "const map2 = new Map([\n",
    "    ['a', 1],\n",
    "    ['b', 2],\n",
    "    ['c', 3],\n",
    "]);\n",
    "// Map: unpacking\n",
    "const entries = [...map2];\n",
    "console.log(entries);  // Output: [['a', 1], ['b', 2], ['c', 3]]"
   ]
  },
  {
   "cell_type": "markdown",
   "id": "2b1f7ca8-7f98-4f6c-a147-fdbe3a2e6f3d",
   "metadata": {},
   "source": [
    "## Looping and iterations on maps"
   ]
  },
  {
   "cell_type": "code",
   "execution_count": 4,
   "id": "8a934990-785e-4966-a7e5-ef4c700fd275",
   "metadata": {
    "editable": true,
    "slideshow": {
     "slide_type": ""
    },
    "tags": []
   },
   "outputs": [
    {
     "name": "stdout",
     "output_type": "stream",
     "text": [
      "map1 items: [ 'a', 1 ]\n",
      "map1 items: [ 'b', 2 ]\n",
      "map1 items: [ 'c', 3 ]\n",
      "map1 entries: [ 'a', 1 ]\n",
      "map1 entries: [ 'b', 2 ]\n",
      "map1 entries: [ 'c', 3 ]\n",
      "map1 keys: a\n",
      "map1 keys: b\n",
      "map1 keys: c\n",
      "map1 values: 1\n",
      "map1 values: 2\n",
      "map1 values: 3\n",
      "map1 values and keys: 1 a\n",
      "map1 values and keys: 2 b\n",
      "map1 values and keys: 3 c\n"
     ]
    }
   ],
   "source": [
    "// Maps: iteration\n",
    "for(const e of map2) console.log('map items:',  e)\n",
    "for(const e of map2.entries()) console.log('map entries:',  e)\n",
    "for(const e of map2.keys()) console.log('map keys:',  e)\n",
    "for(const e of map2.values()) console.log('map values:',  e)\n",
    "map2.forEach((v, k) => console.log('map values and keys:',  v, k))"
   ]
  }
 ],
 "metadata": {
  "kernelspec": {
   "display_name": "JavaScript (Node.js)",
   "language": "javascript",
   "name": "javascript"
  },
  "language_info": {
   "file_extension": ".js",
   "mimetype": "application/javascript",
   "name": "javascript",
   "version": "18.14.2"
  }
 },
 "nbformat": 4,
 "nbformat_minor": 5
}
