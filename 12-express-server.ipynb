{
 "cells": [
  {
   "cell_type": "markdown",
   "id": "f0c5d6a7-b7e0-40f6-8e3d-71b82e2db2b8",
   "metadata": {},
   "source": [
    "# Creating simple RESTful using Express library\n",
    "\n",
    "- This file explains how to create express server.\n",
    "- You should use [client](12-express-client.ipynb) to connect to this server as client.\n",
    "- You should use both notebooks [server](12-express-server.ipynb) and [client](12-express-client.ipynb) along with each other.\n",
    "\n",
    "**NOTE**: Last cell in this doc will stop the server. Only run it when you are finished."
   ]
  },
  {
   "cell_type": "code",
   "execution_count": 1,
   "id": "3be1cb74-54b4-4acd-a2bf-72c84e10dfaf",
   "metadata": {},
   "outputs": [
    {
     "data": {
      "text/plain": [
       "{\n",
       "  parsed: {\n",
       "    JWT_SECRET: 'e9c6a7c9e7b573a3a0b9dcb7c6f58d52e9f2b4d6b8f73aaf2e80bd99f46a2b0c'\n",
       "  }\n",
       "}"
      ]
     },
     "execution_count": 1,
     "metadata": {},
     "output_type": "execute_result"
    }
   ],
   "source": [
    "const path = require('path');\n",
    "const cwd = process.cwd();\n",
    "const envPath = path.join(cwd, 'express-server-env', '.env');\n",
    "require('dotenv').config({ path: envPath });\n",
    "const mongoose = require('mongoose');\n",
    "const bcrypt = require('bcryptjs');\n",
    "const jwt = require('jsonwebtoken');\n",
    "const express = require('express');\n",
    "const mime = require('mime-types');"
   ]
  },
  {
   "cell_type": "markdown",
   "id": "177f2ffc-a7ea-45c2-9ad4-e222782df07b",
   "metadata": {},
   "source": [
    "## Important notes\n",
    "\n",
    "The `req` object in both classic HTTP and Express.js contains essential information about the incoming request. However, Express.js provides additional features and abstractions that make it easier to work with requests and handle common scenarios.\n",
    "\n",
    "**Classic HTTP:**\n",
    "\n",
    "* **`req.url`:** Contains the URL path of the request.\n",
    "* **`req.method`:** Contains the HTTP method of the request (e.g., GET, POST, PUT, DELETE).\n",
    "* **`req.headers`:** Contains an object of HTTP headers sent with the request.\n",
    "\n",
    "- Then we can use:\n",
    "  ```javascript\n",
    "  const parsedUrl = url.parse(req.url, true); // Parse the URL with query string support\n",
    "  const pathname = parsedUrl.pathname;\n",
    "  const query = parsedUrl.query; // as object\n",
    "  ```\n",
    "\n",
    "**Express.js:**\n",
    "\n",
    "* **`req.query`:** Contains the query string parameters appended to the URL.\n",
    "* **`req.params`:** Contains the dynamic route parameters captured by Express.js.\n",
    "* **`req.body`:** Contains the parsed request body, automatically parsed by Express.js middleware like `express.json()` or `express.urlencoded()`.\n",
    "* **`req.headers`:** Same as in classic HTTP, but might have additional headers added by Express.js middleware.\n",
    "* **`req.cookies`:** Contains the cookies sent with the request.\n",
    "* **`req.session`:** Contains session data stored for the user's session (if session middleware is used).\n",
    "\n",
    "**Key Differences:**\n",
    "\n",
    "* **Express.js provides additional properties** like `req.query`, `req.params`, `req.cookies`, and `req.session` to simplify common tasks and make the code more concise.\n",
    "* **Express.js middleware** automatically parses the request body and sets the `req.body` property, making it easier to access the request data.\n",
    "* **Classic HTTP might require more manual parsing and handling** of headers, body, and other request data.\n",
    "\n",
    "**In summary,** the `req` object in both classic HTTP and Express.js contains essential information about the incoming request. However, Express.js provides additional features and abstractions that make it easier to work with requests and handle common scenarios."
   ]
  },
  {
   "cell_type": "markdown",
   "id": "e0d6e0bc-c38f-4ebb-8321-03d7cdfcdb83",
   "metadata": {},
   "source": [
    "## Initiating the express app and routes"
   ]
  },
  {
   "cell_type": "code",
   "execution_count": 2,
   "id": "b20fac48-4040-4322-b652-b7db04f1188f",
   "metadata": {},
   "outputs": [],
   "source": [
    "const app = express();\n",
    "const authRoutes = express.Router();\n",
    "const userRoutes = express.Router();\n",
    "let server\n",
    "const ObjectId = mongoose.Types.ObjectId;\n",
    "/**\n",
    " * Determines the MIME type for a given file based on its file extension.\n",
    " * \n",
    " * @param {string} filePath - The path to the file whose MIME type is to be determined.\n",
    " * @returns {string} The MIME type of the file. If the file extension is not recognized, returns 'application/octet-stream'.\n",
    " * \n",
    " * @description\n",
    " * This function extracts the file extension from the provided `filePath`, converts it to lowercase, and looks up the corresponding MIME type using the `mime` library.\n",
    " * If the MIME type for the given file extension is not found, it defaults to 'application/octet-stream'.\n",
    " * \n",
    " * @example\n",
    " * const mimeType = getContentType('/path/to/file.jpg');\n",
    " * console.log(mimeType); // Outputs: 'image/jpeg'\n",
    " */\n",
    "function getContentType(filePath) {\n",
    "    const extname = path.extname(filePath).toLowerCase();\n",
    "    return mime.lookup(extname) || 'application/octet-stream';\n",
    "}"
   ]
  },
  {
   "cell_type": "markdown",
   "id": "b8748021-94e9-4eb3-844c-3b51dd54bcbc",
   "metadata": {},
   "source": [
    "## Initiating Monggose database"
   ]
  },
  {
   "cell_type": "code",
   "execution_count": 3,
   "id": "b9f8bb34-8f49-41ff-a7a9-f464febf5da8",
   "metadata": {},
   "outputs": [],
   "source": [
    "const dbName = \"nodejs-learners-package-express-db\";\n",
    "const dbPort = '27017'; // Set your MongoDB port\n",
    "const uri = `mongodb://127.0.0.1:${dbPort}/${dbName}`; // Replace with your actual connection uri"
   ]
  },
  {
   "cell_type": "code",
   "execution_count": 4,
   "id": "511a3ac0-8d03-4db9-a119-02d721ac35ca",
   "metadata": {},
   "outputs": [
    {
     "data": {
      "text/plain": [
       "[Function (anonymous)]"
      ]
     },
     "execution_count": 4,
     "metadata": {},
     "output_type": "execute_result"
    }
   ],
   "source": [
    "const UserSchema = new mongoose.Schema({\n",
    "    username: { type: String, required: true, unique: true },\n",
    "    password: { type: String, required: true }\n",
    "});\n",
    "\n",
    "// Hash the password before saving\n",
    "/*\n",
    "Explanation:\n",
    "UserSchema.pre('save', async (next) => {...}: This sets up a Mongoose middleware function that runs before \n",
    "    saving a document (pre-save hook). \n",
    "    The async keyword indicates that this function performs asynchronous operations.\n",
    "\n",
    "if (!this.isModified('password')) return next();: Checks if the password field has been modified. \n",
    "    If the password hasn’t been changed, there’s no need to hash it again,\n",
    "    so the middleware proceeds to the next function (next()). \n",
    "    This prevents unnecessary hashing if the document is being updated but the password hasn’t changed.\n",
    "\n",
    "const salt = await bcrypt.genSalt(10);: Generates a salt using bcrypt. \n",
    "    A salt is a random value added to the password before hashing to ensure that \n",
    "    identical passwords have different hashes. \n",
    "    The 10 is the salt rounds, which determines the computational cost of the hashing. \n",
    "    More rounds mean more security but slower hashing.\n",
    "\n",
    "this.password = await bcrypt.hash(this.password, salt);: Hashes the password with the generated salt. \n",
    "    The this.password refers to the password field of the current document. \n",
    "    The await keyword ensures that the function waits for the hashing to complete before proceeding.\n",
    "\n",
    "next();: Moves on to the next middleware or completes the save operation if there are no more middlewares.\n",
    "*/\n",
    "// NOTE: do not use arrow function; in that case 'this' will not bound to the function\n",
    "UserSchema.pre('save', async function (next) {\n",
    "    if (!this.isModified('password')) return next();\n",
    "    const salt = await bcrypt.genSalt(10);\n",
    "    this.password = await bcrypt.hash(this.password, salt);\n",
    "    next();\n",
    "});\n",
    "\n",
    "// Method to compare passwords\n",
    "/*\n",
    "Explanation:\n",
    "UserSchema.methods.comparePassword = (candidatePassword) => {...}: Adds a method to the user schema. \n",
    "    This method is an instance method, which means it operates on a specific user document \n",
    "    (i.e., `this` refers to the instance of the user document).\n",
    "\n",
    "bcrypt.compare(candidatePassword, this.password): Uses bcrypt to compare the candidatePassword \n",
    "    (the plain text password provided by a user during login) with the hashed password stored in the \n",
    "    this.password field (the hashed password from the database). \n",
    "    The bcrypt.compare function returns a promise that resolves to true if the passwords match and false otherwise.\n",
    "*/\n",
    "// NOTE: do not use arrow function; in that case 'this' will not bound to the function\n",
    "UserSchema.methods.comparePassword = function (candidatePassword) {\n",
    "    // `this.password` should be a hashed password string, and `candidatePassword` should be the plain password\n",
    "    return bcrypt.compare(candidatePassword, this.password);\n",
    "};\n",
    "\n",
    "const User = mongoose.model('User', UserSchema);"
   ]
  },
  {
   "cell_type": "markdown",
   "id": "652b2b20-1c96-4142-a1fc-3916217e8464",
   "metadata": {},
   "source": [
    "## Creating middlewares"
   ]
  },
  {
   "cell_type": "code",
   "execution_count": 5,
   "id": "5600c21e-57e1-4e35-9eb1-b11db99c0da3",
   "metadata": {},
   "outputs": [],
   "source": [
    "const authMiddleware = (req, res, next) => {\n",
    "    const token = req.headers['authorization']?.split(' ')[1];\n",
    "    if (!token) return res.status(401).json({ message: 'Authentication is required. Provide your access token.' });\n",
    "\n",
    "    jwt.verify(token, process.env.JWT_SECRET, (err, decoded) => {\n",
    "        if (err) return res.status(403).json({ message: 'Invalid token' });\n",
    "        req.user = decoded; // <-- Token payload is added to req \" { id: user._id} \"\n",
    "        next();\n",
    "    });\n",
    "};\n",
    "const checkUsernameMiddleware = (req, res, next) => {\n",
    "    const userId = new ObjectId(req.user.id);\n",
    "    User.findOne({\n",
    "        _id: userId,\n",
    "        username: req.params.username\n",
    "    })\n",
    "    .then(res => {\n",
    "        next();\n",
    "    })\n",
    "    .catch((error) => {\n",
    "        return res.status(403).json({ message: 'Forbidden: You don\\'t have access to this content.' });\n",
    "    });\n",
    "}"
   ]
  },
  {
   "cell_type": "markdown",
   "id": "4e6b37dc-6ac8-4ab6-a7b4-7eee9c016f53",
   "metadata": {},
   "source": [
    "## Creating primary routes"
   ]
  },
  {
   "cell_type": "code",
   "execution_count": 6,
   "id": "d41e3571-7655-4371-83a3-0066b27cfc3c",
   "metadata": {},
   "outputs": [
    {
     "data": {
      "text/plain": [
       "[Function: router] {\n",
       "  params: {},\n",
       "  _params: [],\n",
       "  caseSensitive: undefined,\n",
       "  mergeParams: undefined,\n",
       "  strict: undefined,\n",
       "  stack: [\n",
       "    Layer {\n",
       "      handle: [Function: bound dispatch],\n",
       "      name: 'bound dispatch',\n",
       "      params: undefined,\n",
       "      path: undefined,\n",
       "      keys: [Array],\n",
       "      regexp: /^\\/(?:([^\\/]+?))\\/profile\\/?$/i,\n",
       "      route: [Route]\n",
       "    },\n",
       "    Layer {\n",
       "      handle: [Function: bound dispatch],\n",
       "      name: 'bound dispatch',\n",
       "      params: undefined,\n",
       "      path: undefined,\n",
       "      keys: [Array],\n",
       "      regexp: /^\\/(?:([^\\/]+?))\\/profile\\/?$/i,\n",
       "      route: [Route]\n",
       "    }\n",
       "  ]\n",
       "}"
      ]
     },
     "execution_count": 6,
     "metadata": {},
     "output_type": "execute_result"
    }
   ],
   "source": [
    "// Sign Up: we use json middleware to get the request body as json object here\n",
    "authRoutes.post('/signup', express.json(), async (req, res) => {\n",
    "    try {\n",
    "        const { username, password } = req.body;\n",
    "\n",
    "        // Check for existing username\n",
    "        const existingUser = await User.findOne({ username });\n",
    "\n",
    "        if (existingUser) {\n",
    "          return res.status(400).json({ message: 'Username already exists' });\n",
    "        }\n",
    "\n",
    "        const user = new User({ username, password });\n",
    "        await user.save();   \n",
    "\n",
    "        res.status(201).json({ message: 'User created' });\n",
    "    } catch (error) {\n",
    "        res.status(400).json({ message: error.message });\n",
    "    }\n",
    "});\n",
    "\n",
    "// Sign In: we use json middleware to get the request body as json object here\n",
    "authRoutes.post('/signin', express.json(), async (req, res) => {\n",
    "    try {\n",
    "\n",
    "        const { username, password } = req.body;\n",
    "        const user = await User.findOne({ username });\n",
    "        if (!user || !(await user.comparePassword(password))) {\n",
    "            return res.status(400).json({ message: 'Invalid credentials' });\n",
    "        }\n",
    "        const token = jwt.sign(\n",
    "            { id: user._id.toString()},\n",
    "            process.env.JWT_SECRET, \n",
    "            { expiresIn: '1h' }\n",
    "        );\n",
    "        res.json({ token });\n",
    "    } catch (error) {\n",
    "        res.status(400).json({ message: error.message });\n",
    "    }\n",
    "});\n",
    "\n",
    "// Protected route example; uses authMiddleware for jwt authentication\n",
    "userRoutes.get('/:username/profile', authMiddleware, checkUsernameMiddleware, (req, res) => {\n",
    "    res.json({ message: 'This is your profile', userId: req.user.id.toString() });\n",
    "});\n",
    "\n",
    "userRoutes.delete('/:username/profile', authMiddleware, checkUsernameMiddleware, (req, res) => {\n",
    "    const userId = new ObjectId(req.user.id);\n",
    "    User.deleteOne({_id: userId})\n",
    "      .then(result => {\n",
    "          res.status(200).json({ message: 'Your account was deleted.'});\n",
    "      })\n",
    "      .catch(err => {\n",
    "          res.status(404).json({ message: 'There was a problem deleting your account.'});\n",
    "      });\n",
    "});"
   ]
  },
  {
   "cell_type": "markdown",
   "id": "9b62ad07-28df-4ad1-8b61-7caa54a5e6d0",
   "metadata": {},
   "source": [
    "## Creating other routes"
   ]
  },
  {
   "cell_type": "code",
   "execution_count": 7,
   "id": "b3e0abd5-d6e7-4811-831b-72eb07ef96a7",
   "metadata": {},
   "outputs": [
    {
     "data": {
      "text/plain": [
       "[Function: router] {\n",
       "  params: {},\n",
       "  _params: [],\n",
       "  caseSensitive: undefined,\n",
       "  mergeParams: undefined,\n",
       "  strict: undefined,\n",
       "  stack: [\n",
       "    Layer {\n",
       "      handle: [Function: bound dispatch],\n",
       "      name: 'bound dispatch',\n",
       "      params: undefined,\n",
       "      path: undefined,\n",
       "      keys: [Array],\n",
       "      regexp: /^\\/(?:([^\\/]+?))\\/profile\\/?$/i,\n",
       "      route: [Route]\n",
       "    },\n",
       "    Layer {\n",
       "      handle: [Function: bound dispatch],\n",
       "      name: 'bound dispatch',\n",
       "      params: undefined,\n",
       "      path: undefined,\n",
       "      keys: [Array],\n",
       "      regexp: /^\\/(?:([^\\/]+?))\\/profile\\/?$/i,\n",
       "      route: [Route]\n",
       "    },\n",
       "    Layer {\n",
       "      handle: [Function: bound dispatch],\n",
       "      name: 'bound dispatch',\n",
       "      params: undefined,\n",
       "      path: undefined,\n",
       "      keys: [Array],\n",
       "      regexp: /^\\/(?:([^\\/]+?))\\/download\\/?$/i,\n",
       "      route: [Route]\n",
       "    },\n",
       "    Layer {\n",
       "      handle: [Function: bound dispatch],\n",
       "      name: 'bound dispatch',\n",
       "      params: undefined,\n",
       "      path: undefined,\n",
       "      keys: [Array],\n",
       "      regexp: /^\\/(?:([^\\/]+?))\\/upload\\/direct\\/?$/i,\n",
       "      route: [Route]\n",
       "    },\n",
       "    Layer {\n",
       "      handle: [Function: bound dispatch],\n",
       "      name: 'bound dispatch',\n",
       "      params: undefined,\n",
       "      path: undefined,\n",
       "      keys: [Array],\n",
       "      regexp: /^\\/(?:([^\\/]+?))\\/upload\\/stream\\/?$/i,\n",
       "      route: [Route]\n",
       "    }\n",
       "  ]\n",
       "}"
      ]
     },
     "execution_count": 7,
     "metadata": {},
     "output_type": "execute_result"
    }
   ],
   "source": [
    "userRoutes.get('/:username/download', authMiddleware, checkUsernameMiddleware,\n",
    "    (req, res) => {\n",
    "        const fileAbsolutePath = path.join(cwd, 'express-server-downloads', 'server-download-image.png');\n",
    "        const imageType = getContentType(fileAbsolutePath); // Get MIME type of image\n",
    "        res.setHeader('Content-Type', imageType || 'image/jpeg'); // Set content type for image\n",
    "        res.statusCode = 200; // Set status code for successful response\n",
    "        \n",
    "        res.sendFile(fileAbsolutePath, err => {\n",
    "            if (err) {\n",
    "                console.error('File send error:', err);\n",
    "                res.status(err.status || 500).end();\n",
    "            }\n",
    "        });\n",
    "    });\n",
    "\n",
    "userRoutes.put('/:username/upload/direct', authMiddleware, checkUsernameMiddleware,\n",
    "    express.raw({ type: 'image/png', limit: '10mb' }),\n",
    "    (req, res) => {\n",
    "\n",
    "        // reg.body is buffer\n",
    "        if (!req.body || !req.body.length) {\n",
    "            return res.status(400).json({ message: 'No file data received' });\n",
    "        }\n",
    "        \n",
    "        const filePath = path.join(cwd, 'express-server-uploads', 'uploaded-image.png');\n",
    "        // Save the file to disk\n",
    "        fs.writeFile(filePath, req.body, (err) => {\n",
    "            if (err) {\n",
    "                return res.status(500).json({ message: 'Failed to save file', error: err });\n",
    "            }\n",
    "            res.status(200).json({ message: 'File uploaded successfully'});\n",
    "        });\n",
    "    });\n",
    "\n",
    "userRoutes.put('/:username/upload/stream', (req, res) => {\n",
    "    const filePath = path.join(cwd, 'express-server-uploads', 'uploaded-image.png');\n",
    "\n",
    "    // Create a write stream to save the file\n",
    "    const writeStream = fs.createWriteStream(filePath);\n",
    "\n",
    "    // Pipe the request's readable stream to the write stream\n",
    "    req.pipe(writeStream);\n",
    "\n",
    "    writeStream.on('finish', () => {\n",
    "        res.status(200).json({ message: 'File uploaded successfully', filePath });\n",
    "    });\n",
    "\n",
    "    writeStream.on('error', (err) => {\n",
    "        res.status(500).json({ message: 'Failed to save file', error: err });\n",
    "    });\n",
    "\n",
    "    req.on('error', (err) => {\n",
    "        res.status(500).json({ message: 'Failed to save file', error: err });\n",
    "    });\n",
    "});"
   ]
  },
  {
   "cell_type": "markdown",
   "id": "8ef08a6a-e4a1-4da7-a363-fa9eee84566c",
   "metadata": {},
   "source": [
    "## Assign routers"
   ]
  },
  {
   "cell_type": "code",
   "execution_count": 8,
   "id": "c66939ab-8dab-41bf-9bfb-03975091648f",
   "metadata": {},
   "outputs": [
    {
     "data": {
      "text/plain": [
       "<ref *1> [Function: app] {\n",
       "  _events: [Object: null prototype] { mount: [Function: onmount] },\n",
       "  _eventsCount: 1,\n",
       "  _maxListeners: undefined,\n",
       "  setMaxListeners: [Function: setMaxListeners],\n",
       "  getMaxListeners: [Function: getMaxListeners],\n",
       "  emit: [Function: emit],\n",
       "  addListener: [Function: addListener],\n",
       "  on: [Function: addListener],\n",
       "  prependListener: [Function: prependListener],\n",
       "  once: [Function: once],\n",
       "  prependOnceListener: [Function: prependOnceListener],\n",
       "  removeListener: [Function: removeListener],\n",
       "  off: [Function: removeListener],\n",
       "  removeAllListeners: [Function: removeAllListeners],\n",
       "  listeners: [Function: listeners],\n",
       "  rawListeners: [Function: rawListeners],\n",
       "  listenerCount: [Function: listenerCount],\n",
       "  eventNames: [Function: eventNames],\n",
       "  init: [Function: init],\n",
       "  defaultConfiguration: [Function: defaultConfiguration],\n",
       "  lazyrouter: [Function: lazyrouter],\n",
       "  handle: [Function: handle],\n",
       "  use: [Function: use],\n",
       "  route: [Function: route],\n",
       "  engine: [Function: engine],\n",
       "  param: [Function: param],\n",
       "  set: [Function: set],\n",
       "  path: [Function: path],\n",
       "  enabled: [Function: enabled],\n",
       "  disabled: [Function: disabled],\n",
       "  enable: [Function: enable],\n",
       "  disable: [Function: disable],\n",
       "  acl: [Function (anonymous)],\n",
       "  bind: [Function (anonymous)],\n",
       "  checkout: [Function (anonymous)],\n",
       "  connect: [Function (anonymous)],\n",
       "  copy: [Function (anonymous)],\n",
       "  delete: [Function (anonymous)],\n",
       "  get: [Function (anonymous)],\n",
       "  head: [Function (anonymous)],\n",
       "  link: [Function (anonymous)],\n",
       "  lock: [Function (anonymous)],\n",
       "  'm-search': [Function (anonymous)],\n",
       "  merge: [Function (anonymous)],\n",
       "  mkactivity: [Function (anonymous)],\n",
       "  mkcalendar: [Function (anonymous)],\n",
       "  mkcol: [Function (anonymous)],\n",
       "  move: [Function (anonymous)],\n",
       "  notify: [Function (anonymous)],\n",
       "  options: [Function (anonymous)],\n",
       "  patch: [Function (anonymous)],\n",
       "  post: [Function (anonymous)],\n",
       "  propfind: [Function (anonymous)],\n",
       "  proppatch: [Function (anonymous)],\n",
       "  purge: [Function (anonymous)],\n",
       "  put: [Function (anonymous)],\n",
       "  rebind: [Function (anonymous)],\n",
       "  report: [Function (anonymous)],\n",
       "  search: [Function (anonymous)],\n",
       "  source: [Function (anonymous)],\n",
       "  subscribe: [Function (anonymous)],\n",
       "  trace: [Function (anonymous)],\n",
       "  unbind: [Function (anonymous)],\n",
       "  unlink: [Function (anonymous)],\n",
       "  unlock: [Function (anonymous)],\n",
       "  unsubscribe: [Function (anonymous)],\n",
       "  all: [Function: all],\n",
       "  del: [Function (anonymous)],\n",
       "  render: [Function: render],\n",
       "  listen: [Function: listen],\n",
       "  request: IncomingMessage { app: [Circular *1] },\n",
       "  response: ServerResponse { app: [Circular *1] },\n",
       "  cache: {},\n",
       "  engines: {},\n",
       "  settings: {\n",
       "    'x-powered-by': true,\n",
       "    etag: 'weak',\n",
       "    'etag fn': [Function: generateETag],\n",
       "    env: 'development',\n",
       "    'query parser': 'extended',\n",
       "    'query parser fn': [Function: parseExtendedQueryString],\n",
       "    'subdomain offset': 2,\n",
       "    'trust proxy': false,\n",
       "    'trust proxy fn': [Function: trustNone],\n",
       "    view: [Function: View],\n",
       "    views: 'C:\\\\Users\\\\mehdi\\\\Learning\\\\JupyterLab\\\\nodejs-learners-package\\\\views',\n",
       "    'jsonp callback name': 'callback'\n",
       "  },\n",
       "  locals: [Object: null prototype] {\n",
       "    settings: {\n",
       "      'x-powered-by': true,\n",
       "      etag: 'weak',\n",
       "      'etag fn': [Function: generateETag],\n",
       "      env: 'development',\n",
       "      'query parser': 'extended',\n",
       "      'query parser fn': [Function: parseExtendedQueryString],\n",
       "      'subdomain offset': 2,\n",
       "      'trust proxy': false,\n",
       "      'trust proxy fn': [Function: trustNone],\n",
       "      view: [Function: View],\n",
       "      views: 'C:\\\\Users\\\\mehdi\\\\Learning\\\\JupyterLab\\\\nodejs-learners-package\\\\views',\n",
       "      'jsonp callback name': 'callback'\n",
       "    }\n",
       "  },\n",
       "  mountpath: '/',\n",
       "  _router: [Function: router] {\n",
       "    params: {},\n",
       "    _params: [],\n",
       "    caseSensitive: false,\n",
       "    mergeParams: undefined,\n",
       "    strict: false,\n",
       "    stack: [ [Layer], [Layer], [Layer], [Layer] ]\n",
       "  }\n",
       "}"
      ]
     },
     "execution_count": 8,
     "metadata": {},
     "output_type": "execute_result"
    }
   ],
   "source": [
    "// Routes\n",
    "app.use('/users', userRoutes); // ./profile\n",
    "app.use('/auth', authRoutes); // ./signin and ./signup"
   ]
  },
  {
   "cell_type": "markdown",
   "id": "717080f8-9541-47b4-869d-b2743c8f742f",
   "metadata": {},
   "source": [
    "## Initiating the server"
   ]
  },
  {
   "cell_type": "code",
   "execution_count": 9,
   "id": "ebc19dc5-1b2a-4db2-9f6e-a8e068ab36f1",
   "metadata": {},
   "outputs": [
    {
     "data": {
      "text/plain": [
       "Promise { <pending> }"
      ]
     },
     "execution_count": 9,
     "metadata": {},
     "output_type": "execute_result"
    },
    {
     "name": "stdout",
     "output_type": "stream",
     "text": [
      "MongoDB connected\n",
      "Server running on port 5678\n"
     ]
    }
   ],
   "source": [
    "// Connect to MongoDB\n",
    "mongoose.connect(uri)\n",
    "    .then(() => { \n",
    "        console.log('MongoDB connected');\n",
    "        //const PORT = process.env.PORT || 5678;\n",
    "        const PORT = 5678;\n",
    "        server = app.listen(PORT, () => console.log(`Server running on port ${PORT}`));\n",
    "    })\n",
    "    .catch(err => {\n",
    "        console.error('An error happened during server initiation:', err);\n",
    "        process.exit(1); // Optional: Exit the process if connection fails\n",
    "    });\n"
   ]
  },
  {
   "cell_type": "markdown",
   "id": "71fc9ee7-87e9-425c-b3f7-2f06dffd33a2",
   "metadata": {},
   "source": [
    "## Stopping the server"
   ]
  },
  {
   "cell_type": "code",
   "execution_count": 9,
   "id": "8c00eccf-fbc1-42bb-84e4-8e5714486e7c",
   "metadata": {},
   "outputs": [
    {
     "data": {
      "text/plain": [
       "Promise { <pending> }"
      ]
     },
     "execution_count": 9,
     "metadata": {},
     "output_type": "execute_result"
    },
    {
     "name": "stdout",
     "output_type": "stream",
     "text": [
      "MongoDB connection closed\n",
      "Express server closed\n"
     ]
    }
   ],
   "source": [
    "mongoose.disconnect().then(() => {\n",
    "        console.log('MongoDB connection closed');\n",
    "        server?.close(() => {\n",
    "            console.log('Express server closed');\n",
    "            process.exit();\n",
    "        });\n",
    "    });\n"
   ]
  },
  {
   "cell_type": "code",
   "execution_count": null,
   "id": "fc2ccd3f-e47f-408e-bf49-b4790d43b117",
   "metadata": {},
   "outputs": [],
   "source": []
  },
  {
   "cell_type": "code",
   "execution_count": null,
   "id": "7f9194c1-5d10-44a2-8f9f-bf7fd28477a0",
   "metadata": {},
   "outputs": [],
   "source": []
  }
 ],
 "metadata": {
  "kernelspec": {
   "display_name": "JavaScript (Node.js)",
   "language": "javascript",
   "name": "javascript"
  },
  "language_info": {
   "file_extension": ".js",
   "mimetype": "application/javascript",
   "name": "javascript",
   "version": "18.14.2"
  }
 },
 "nbformat": 4,
 "nbformat_minor": 5
}
