{
 "cells": [
  {
   "cell_type": "markdown",
   "id": "f0c5d6a7-b7e0-40f6-8e3d-71b82e2db2b8",
   "metadata": {},
   "source": [
    "# Creating server using Express library\n",
    "\n",
    "- This file explains how to create express server.\n",
    "- You should use 12-express-client.ipynb to connect to this server as client.\n",
    "- You should use both notebooks [server](12-express-server.ipynb) and [client](12-express-client.ipynb) along with each other.\n",
    "\n",
    "**NOTE**: Last cell in this doc will stop the server. Only run it when you are finished."
   ]
  },
  {
   "cell_type": "code",
   "execution_count": 1,
   "id": "3be1cb74-54b4-4acd-a2bf-72c84e10dfaf",
   "metadata": {},
   "outputs": [
    {
     "data": {
      "text/plain": [
       "{\n",
       "  parsed: {\n",
       "    JWT_SECRET: 'e9c6a7c9e7b573a3a0b9dcb7c6f58d52e9f2b4d6b8f73aaf2e80bd99f46a2b0c'\n",
       "  }\n",
       "}"
      ]
     },
     "execution_count": 1,
     "metadata": {},
     "output_type": "execute_result"
    }
   ],
   "source": [
    "const path = require('path');\n",
    "const cwd = process.cwd();\n",
    "const envPath = path.join(cwd, 'express-server-env', '.env');\n",
    "require('dotenv').config({ path: envPath });\n",
    "const mongoose = require('mongoose');\n",
    "const bcrypt = require('bcryptjs');\n",
    "const jwt = require('jsonwebtoken');\n",
    "const express = require('express');"
   ]
  },
  {
   "cell_type": "markdown",
   "id": "b8748021-94e9-4eb3-844c-3b51dd54bcbc",
   "metadata": {},
   "source": [
    "## Initiating Monggose database"
   ]
  },
  {
   "cell_type": "code",
   "execution_count": 2,
   "id": "b9f8bb34-8f49-41ff-a7a9-f464febf5da8",
   "metadata": {},
   "outputs": [],
   "source": [
    "const dbName = \"nodejs-learners-package-express-db\";\n",
    "const dbPort = '27017'; // Set your MongoDB port\n",
    "const uri = `mongodb://127.0.0.1:${dbPort}/${dbName}`; // Replace with your actual connection uri"
   ]
  },
  {
   "cell_type": "code",
   "execution_count": 3,
   "id": "511a3ac0-8d03-4db9-a119-02d721ac35ca",
   "metadata": {},
   "outputs": [
    {
     "data": {
      "text/plain": [
       "[Function (anonymous)]"
      ]
     },
     "execution_count": 3,
     "metadata": {},
     "output_type": "execute_result"
    }
   ],
   "source": [
    "const UserSchema = new mongoose.Schema({\n",
    "    username: { type: String, required: true, unique: true },\n",
    "    password: { type: String, required: true }\n",
    "});\n",
    "\n",
    "// Hash the password before saving\n",
    "/*\n",
    "Explanation:\n",
    "UserSchema.pre('save', async (next) => {...}: This sets up a Mongoose middleware function that runs before \n",
    "    saving a document (pre-save hook). \n",
    "    The async keyword indicates that this function performs asynchronous operations.\n",
    "\n",
    "if (!this.isModified('password')) return next();: Checks if the password field has been modified. \n",
    "    If the password hasn’t been changed, there’s no need to hash it again,\n",
    "    so the middleware proceeds to the next function (next()). \n",
    "    This prevents unnecessary hashing if the document is being updated but the password hasn’t changed.\n",
    "\n",
    "const salt = await bcrypt.genSalt(10);: Generates a salt using bcrypt. \n",
    "    A salt is a random value added to the password before hashing to ensure that \n",
    "    identical passwords have different hashes. \n",
    "    The 10 is the salt rounds, which determines the computational cost of the hashing. \n",
    "    More rounds mean more security but slower hashing.\n",
    "\n",
    "this.password = await bcrypt.hash(this.password, salt);: Hashes the password with the generated salt. \n",
    "    The this.password refers to the password field of the current document. \n",
    "    The await keyword ensures that the function waits for the hashing to complete before proceeding.\n",
    "\n",
    "next();: Moves on to the next middleware or completes the save operation if there are no more middlewares.\n",
    "*/\n",
    "UserSchema.pre('save', async (next) => {\n",
    "    if (!this.isModified('password')) return next();\n",
    "    const salt = await bcrypt.genSalt(10);\n",
    "    this.password = await bcrypt.hash(this.password, salt);\n",
    "    next();\n",
    "});\n",
    "\n",
    "// Method to compare passwords\n",
    "/*\n",
    "Explanation:\n",
    "UserSchema.methods.comparePassword = (candidatePassword) => {...}: Adds a method to the user schema. \n",
    "    This method is an instance method, which means it operates on a specific user document \n",
    "    (i.e., `this` refers to the instance of the user document).\n",
    "\n",
    "bcrypt.compare(candidatePassword, this.password): Uses bcrypt to compare the candidatePassword \n",
    "    (the plain text password provided by a user during login) with the hashed password stored in the \n",
    "    this.password field (the hashed password from the database). \n",
    "    The bcrypt.compare function returns a promise that resolves to true if the passwords match and false otherwise.\n",
    "*/\n",
    "UserSchema.methods.comparePassword = (candidatePassword) => {\n",
    "    return bcrypt.compare(candidatePassword, this.password);\n",
    "};\n",
    "\n",
    "const User = mongoose.model('User', UserSchema);"
   ]
  },
  {
   "cell_type": "markdown",
   "id": "652b2b20-1c96-4142-a1fc-3916217e8464",
   "metadata": {},
   "source": [
    "## Creating middlewares"
   ]
  },
  {
   "cell_type": "code",
   "execution_count": 4,
   "id": "5600c21e-57e1-4e35-9eb1-b11db99c0da3",
   "metadata": {},
   "outputs": [],
   "source": [
    "const authMiddleware = (req, res, next) => {\n",
    "    const token = req.headers['authorization']?.split(' ')[1];\n",
    "    if (!token) return res.status(401).json({ message: 'No token provided' });\n",
    "\n",
    "    jwt.verify(token, process.env.JWT_SECRET, (err, decoded) => {\n",
    "        if (err) return res.status(403).json({ message: 'Invalid token' });\n",
    "        req.user = decoded; // <-- Token payload is added to req \n",
    "        next();\n",
    "    });\n",
    "};"
   ]
  },
  {
   "cell_type": "markdown",
   "id": "4e6b37dc-6ac8-4ab6-a7b4-7eee9c016f53",
   "metadata": {},
   "source": [
    "## Creating routers"
   ]
  },
  {
   "cell_type": "code",
   "execution_count": 5,
   "id": "d41e3571-7655-4371-83a3-0066b27cfc3c",
   "metadata": {},
   "outputs": [
    {
     "data": {
      "text/plain": [
       "[Function: router] {\n",
       "  params: {},\n",
       "  _params: [],\n",
       "  caseSensitive: undefined,\n",
       "  mergeParams: undefined,\n",
       "  strict: undefined,\n",
       "  stack: [\n",
       "    Layer {\n",
       "      handle: [Function: bound dispatch],\n",
       "      name: 'bound dispatch',\n",
       "      params: undefined,\n",
       "      path: undefined,\n",
       "      keys: [],\n",
       "      regexp: /^\\/profile\\/?$/i,\n",
       "      route: [Route]\n",
       "    }\n",
       "  ]\n",
       "}"
      ]
     },
     "execution_count": 5,
     "metadata": {},
     "output_type": "execute_result"
    }
   ],
   "source": [
    "const app = express();\n",
    "const authRoutes = express.Router();\n",
    "\n",
    "// Sign Up\n",
    "authRoutes.post('/signup', async (req, res) => {\n",
    "    try {\n",
    "        const { username, password } = req.body;\n",
    "\n",
    "        // Check for existing username\n",
    "        const existingUser = await User.findOne({ username });\n",
    "\n",
    "        if (existingUser) {\n",
    "          return res.status(400).json({ message: 'Username already exists' });\n",
    "        }\n",
    "\n",
    "        const user = new User({ username, password });\n",
    "        await user.save();   \n",
    "\n",
    "        res.status(201).json({ message: 'User created' });\n",
    "    } catch (error) {\n",
    "        res.status(400).json({ message: error.message });\n",
    "    }\n",
    "});\n",
    "\n",
    "// Sign In\n",
    "authRoutes.post('/signin', async (req, res) => {\n",
    "    try {\n",
    "        const { username, password } = req.body;\n",
    "        const user = await User.findOne({ username });\n",
    "        if (!user || !(await user.comparePassword(password))) {\n",
    "            return res.status(400).json({ message: 'Invalid credentials' });\n",
    "        }\n",
    "\n",
    "        const token = jwt.sign({ id: user._id }, process.env.JWT_SECRET, { expiresIn: '1h' });\n",
    "        res.json({ token });\n",
    "    } catch (error) {\n",
    "        res.status(400).json({ message: error.message });\n",
    "    }\n",
    "});\n",
    "\n",
    "const userRoutes = express.Router();\n",
    "// Protected route example; uses authMiddleware for jwt authentication\n",
    "userRoutes.get('/profile', authMiddleware, (req, res) => {\n",
    "    res.json({ message: 'This is a protected route', user: req.user });\n",
    "});"
   ]
  },
  {
   "cell_type": "markdown",
   "id": "717080f8-9541-47b4-869d-b2743c8f742f",
   "metadata": {},
   "source": [
    "## Initiating the server"
   ]
  },
  {
   "cell_type": "code",
   "execution_count": 6,
   "id": "ebc19dc5-1b2a-4db2-9f6e-a8e068ab36f1",
   "metadata": {},
   "outputs": [
    {
     "data": {
      "text/plain": [
       "Promise { <pending> }"
      ]
     },
     "execution_count": 6,
     "metadata": {},
     "output_type": "execute_result"
    },
    {
     "name": "stdout",
     "output_type": "stream",
     "text": [
      "MongoDB connected\n",
      "Server running on port 5678\n"
     ]
    }
   ],
   "source": [
    "app.use(express.json());\n",
    "\n",
    "// Routes\n",
    "app.use('/users', userRoutes); // ./profile\n",
    "app.use('/auth', authRoutes); // ./signin and ./signup\n",
    "\n",
    "let server\n",
    "\n",
    "// Connect to MongoDB\n",
    "mongoose.connect(uri)\n",
    "    .then(() => { \n",
    "        console.log('MongoDB connected');\n",
    "        //const PORT = process.env.PORT || 5678;\n",
    "        const PORT = 5678;\n",
    "        server = app.listen(PORT, () => console.log(`Server running on port ${PORT}`));\n",
    "    })\n",
    "    .catch(err => {\n",
    "        console.error('An error happened during server initiation:', err);\n",
    "        process.exit(1); // Optional: Exit the process if connection fails\n",
    "    });\n"
   ]
  },
  {
   "cell_type": "markdown",
   "id": "71fc9ee7-87e9-425c-b3f7-2f06dffd33a2",
   "metadata": {},
   "source": [
    "## Stopping the server"
   ]
  },
  {
   "cell_type": "code",
   "execution_count": 7,
   "id": "8c00eccf-fbc1-42bb-84e4-8e5714486e7c",
   "metadata": {},
   "outputs": [
    {
     "data": {
      "text/plain": [
       "Promise { <pending> }"
      ]
     },
     "execution_count": 7,
     "metadata": {},
     "output_type": "execute_result"
    },
    {
     "name": "stdout",
     "output_type": "stream",
     "text": [
      "MongoDB connection closed\n",
      "Express server closed\n"
     ]
    }
   ],
   "source": [
    "mongoose.disconnect().then(() => {\n",
    "        console.log('MongoDB connection closed');\n",
    "        server?.close(() => {\n",
    "            console.log('Express server closed');\n",
    "            process.exit();\n",
    "        });\n",
    "    });\n"
   ]
  },
  {
   "cell_type": "code",
   "execution_count": null,
   "id": "fc2ccd3f-e47f-408e-bf49-b4790d43b117",
   "metadata": {},
   "outputs": [],
   "source": []
  }
 ],
 "metadata": {
  "kernelspec": {
   "display_name": "JavaScript (Node.js)",
   "language": "javascript",
   "name": "javascript"
  },
  "language_info": {
   "file_extension": ".js",
   "mimetype": "application/javascript",
   "name": "javascript",
   "version": "18.14.2"
  }
 },
 "nbformat": 4,
 "nbformat_minor": 5
}
