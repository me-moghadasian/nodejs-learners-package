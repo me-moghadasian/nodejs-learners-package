{
 "cells": [
  {
   "cell_type": "markdown",
   "id": "dc5d3b83-dd92-4e02-b7f4-0aa14d3df264",
   "metadata": {},
   "source": [
    "# Working with functions"
   ]
  },
  {
   "cell_type": "markdown",
   "id": "0218fe2c-0338-4355-b9f5-d83b3c54798f",
   "metadata": {},
   "source": [
    "## Simple functions"
   ]
  },
  {
   "cell_type": "code",
   "execution_count": 1,
   "id": "b391e597-f7c4-4222-8457-cc691f912cac",
   "metadata": {
    "editable": true,
    "slideshow": {
     "slide_type": ""
    },
    "tags": []
   },
   "outputs": [
    {
     "name": "stdout",
     "output_type": "stream",
     "text": [
      "Function param:  10\n",
      "Function result:  15\n"
     ]
    }
   ],
   "source": [
    "// Simple functions\n",
    "\n",
    "function simpleFun(a) {\n",
    "    console.log('Function param: ', a);\n",
    "    const res = a + 5;\n",
    "    return res;\n",
    "}\n",
    "\n",
    "console.log('Function result: ', simpleFun(10));"
   ]
  },
  {
   "cell_type": "markdown",
   "id": "7c3fb8cd-120d-4917-8722-8374c7ec6d2c",
   "metadata": {},
   "source": [
    "## Arrow functions (Lambda)"
   ]
  },
  {
   "cell_type": "code",
   "execution_count": 2,
   "id": "12ad35f1-260d-43c0-b626-96f0475cee2d",
   "metadata": {},
   "outputs": [
    {
     "name": "stdout",
     "output_type": "stream",
     "text": [
      "Standard arrow function output:  4\n"
     ]
    }
   ],
   "source": [
    "// Simple arrow function\n",
    "\n",
    "const simpleArrowFun = (a, b) => {\n",
    "    return a+b\n",
    "}\n",
    "console.log('Standard arrow function output: ', simpleArrowFun(1, 3));"
   ]
  },
  {
   "cell_type": "code",
   "execution_count": 3,
   "id": "ad341c46-229a-454d-b1c9-69e815a76aff",
   "metadata": {},
   "outputs": [
    {
     "name": "stdout",
     "output_type": "stream",
     "text": [
      "Single expression arrow function output:  4\n"
     ]
    }
   ],
   "source": [
    "// Single expression arrow function; no need for 'return' keyword\n",
    "\n",
    "const singleArrowFun = (a, b) => a + b\n",
    "console.log('Single expression arrow function output: ', singleArrowFun(1, 3));"
   ]
  },
  {
   "cell_type": "code",
   "execution_count": 4,
   "id": "3142f1d7-9d68-4c34-beb4-9538543c474f",
   "metadata": {},
   "outputs": [
    {
     "name": "stdout",
     "output_type": "stream",
     "text": [
      "Very simple arrow function output:  6\n"
     ]
    }
   ],
   "source": [
    "// Very simple arrow function\n",
    "\n",
    "const simplestArrowFun = a => a + 5\n",
    "console.log('Very simple arrow function output: ', simplestArrowFun(1));"
   ]
  },
  {
   "cell_type": "markdown",
   "id": "71fc8ddc-727d-4fb6-ab5f-80f2b3a56038",
   "metadata": {},
   "source": [
    "## Hight-order functions\n",
    "\n",
    "High-order functions, receive a function as parameter."
   ]
  },
  {
   "cell_type": "code",
   "execution_count": 5,
   "id": "e2417c31-808b-4e27-b276-8316317726c4",
   "metadata": {},
   "outputs": [
    {
     "name": "stdout",
     "output_type": "stream",
     "text": [
      "High-order function param:  10\n",
      "Function param:  10\n",
      "High order function result:  25\n"
     ]
    }
   ],
   "source": [
    "// High order functions 1\n",
    "\n",
    "function highOrderFun(a, someFun) {\n",
    "    console.log('High-order function param: ', a);  // Log the first parameter\n",
    "\n",
    "    // Call the provided function 'someFun' with the argument 'a' and add the result to 'a'\n",
    "    const res = a + someFun(a);\n",
    "\n",
    "    return res;  // Return the result\n",
    "}\n",
    "\n",
    "console.log('High order function result: ', highOrderFun(10, simpleFun));  // Call 'fun3' with 'a = 10' and 'someFun = fun2'"
   ]
  },
  {
   "cell_type": "code",
   "execution_count": 6,
   "id": "2f2a023e-ba81-40a0-b9b9-60c93ae8b0dc",
   "metadata": {
    "editable": true,
    "slideshow": {
     "slide_type": ""
    },
    "tags": []
   },
   "outputs": [
    {
     "name": "stdout",
     "output_type": "stream",
     "text": [
      "High-order function param:  10\n",
      "High order function result:  30\n"
     ]
    }
   ],
   "source": [
    "// High order functions 2: Sending an arrow function\n",
    "console.log('High order function result: ', \n",
    "            highOrderFun(10, (u) => {\n",
    "                return u*2;\n",
    "            }));"
   ]
  },
  {
   "cell_type": "markdown",
   "id": "8d391585-c636-4a4b-bc1d-1b0817248b98",
   "metadata": {},
   "source": [
    "## Multiple output in functions"
   ]
  },
  {
   "cell_type": "code",
   "execution_count": 7,
   "id": "9d77ca27-ad28-4c14-838e-4ccd4dc2ee2b",
   "metadata": {
    "editable": true,
    "slideshow": {
     "slide_type": ""
    },
    "tags": []
   },
   "outputs": [
    {
     "name": "stdout",
     "output_type": "stream",
     "text": [
      "fun4 outputs:  1 2 4\n"
     ]
    }
   ],
   "source": [
    "// Functions output 1\n",
    "\n",
    "function multiOutFun1() {\n",
    "    return [1, 2, 3, 4];  // Return an array of numbers\n",
    "}\n",
    "\n",
    "// Destructure the elements of the returned array into variables\n",
    "const [ra1, ra2, , ra4] = multiOutFun1();\n",
    "\n",
    "console.log('fun4 outputs: ', ra1, ra2, ra4);  // Print the destructured variables"
   ]
  },
  {
   "cell_type": "code",
   "execution_count": 8,
   "id": "63a3597b-382c-498a-b698-863a9d094132",
   "metadata": {
    "editable": true,
    "slideshow": {
     "slide_type": ""
    },
    "tags": []
   },
   "outputs": [
    {
     "name": "stdout",
     "output_type": "stream",
     "text": [
      "fun5 outputs:  1 3\n"
     ]
    }
   ],
   "source": [
    "// Functions output 1\n",
    "\n",
    "function multiOutFun2() {\n",
    "    return { a: 1, b: 2, c: 3 };  // Return an object with properties 'a', 'b', and 'c'\n",
    "}\n",
    "\n",
    "// Destructure the properties 'a' and 'c' from the returned object\n",
    "const { a, c } = multiOutFun2();\n",
    "\n",
    "console.log('fun5 outputs: ', a, c);  // Print the destructured properties 'a' and 'c'"
   ]
  },
  {
   "cell_type": "code",
   "execution_count": null,
   "id": "bf256b40-77c8-469e-9fd5-13147e7b8842",
   "metadata": {
    "editable": true,
    "slideshow": {
     "slide_type": ""
    },
    "tags": []
   },
   "outputs": [],
   "source": []
  }
 ],
 "metadata": {
  "kernelspec": {
   "display_name": "JavaScript (Node.js)",
   "language": "javascript",
   "name": "javascript"
  },
  "language_info": {
   "file_extension": ".js",
   "mimetype": "application/javascript",
   "name": "javascript",
   "version": "18.14.2"
  }
 },
 "nbformat": 4,
 "nbformat_minor": 5
}
