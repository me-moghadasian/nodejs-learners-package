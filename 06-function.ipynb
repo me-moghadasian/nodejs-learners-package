{
 "cells": [
  {
   "cell_type": "markdown",
   "id": "dc5d3b83-dd92-4e02-b7f4-0aa14d3df264",
   "metadata": {},
   "source": [
    "# Working with functions"
   ]
  },
  {
   "cell_type": "markdown",
   "id": "0218fe2c-0338-4355-b9f5-d83b3c54798f",
   "metadata": {},
   "source": [
    "## Simple functions"
   ]
  },
  {
   "cell_type": "code",
   "execution_count": 1,
   "id": "b391e597-f7c4-4222-8457-cc691f912cac",
   "metadata": {
    "editable": true,
    "slideshow": {
     "slide_type": ""
    },
    "tags": []
   },
   "outputs": [
    {
     "name": "stdout",
     "output_type": "stream",
     "text": [
      "Function param:  10\n",
      "Function result:  15\n"
     ]
    }
   ],
   "source": [
    "// Simple functions\n",
    "\n",
    "// We create functions like: function functionName([parma1], [param2],...) {... return [result]}\n",
    "function simpleFun(a) {\n",
    "    console.log('Function param: ', a);\n",
    "    const res = a + 5;\n",
    "    return res;\n",
    "}\n",
    "\n",
    "console.log('Function result: ', simpleFun(10));"
   ]
  },
  {
   "cell_type": "markdown",
   "id": "7c3fb8cd-120d-4917-8722-8374c7ec6d2c",
   "metadata": {},
   "source": [
    "## Arrow functions (Lambdas)"
   ]
  },
  {
   "cell_type": "code",
   "execution_count": null,
   "id": "12ad35f1-260d-43c0-b626-96f0475cee2d",
   "metadata": {},
   "outputs": [],
   "source": [
    "// Simple arrow function\n",
    "\n",
    "// We creat arrow functions like: ([param1], [param2],...) => {... return [result]}\n",
    "const simpleArrowFun = (a, b) => {\n",
    "    return a+b\n",
    "}\n",
    "console.log('Standard arrow function output: ', simpleArrowFun(1, 3));"
   ]
  },
  {
   "cell_type": "code",
   "execution_count": null,
   "id": "ad341c46-229a-454d-b1c9-69e815a76aff",
   "metadata": {},
   "outputs": [],
   "source": [
    "// Single expression arrow function; no need for 'return' keyword\n",
    "\n",
    "// We can also creat arrow functions like: ([param1], [param2],...) => [An expression result]\n",
    "const singleArrowFun = (a, b) => a + b\n",
    "console.log('Single expression arrow function output: ', singleArrowFun(1, 3));"
   ]
  },
  {
   "cell_type": "code",
   "execution_count": null,
   "id": "3142f1d7-9d68-4c34-beb4-9538543c474f",
   "metadata": {},
   "outputs": [],
   "source": [
    "// Very simple arrow function\n",
    "\n",
    "const simplestArrowFun = a => a + 5\n",
    "console.log('Very simple arrow function output: ', simplestArrowFun(1));"
   ]
  },
  {
   "cell_type": "markdown",
   "id": "71fc8ddc-727d-4fb6-ab5f-80f2b3a56038",
   "metadata": {},
   "source": [
    "## Hight-order functions\n",
    "\n",
    "High-order functions, receive a function as parameter."
   ]
  },
  {
   "cell_type": "code",
   "execution_count": null,
   "id": "e2417c31-808b-4e27-b276-8316317726c4",
   "metadata": {},
   "outputs": [],
   "source": [
    "// High order functions 1\n",
    "\n",
    "function highOrderFun(a, someFun) {\n",
    "    console.log('High-order function param: ', a);  // Log the first parameter\n",
    "\n",
    "    // Call the provided function 'someFun' with the argument 'a' and add the result to 'a'\n",
    "    const res = a + someFun(a);\n",
    "\n",
    "    return res;  // Return the result\n",
    "}\n",
    "\n",
    "console.log('High order function result: ', highOrderFun(10, simpleFun));  // Call 'fun3' with 'a = 10' and 'someFun = fun2'"
   ]
  },
  {
   "cell_type": "code",
   "execution_count": null,
   "id": "2f2a023e-ba81-40a0-b9b9-60c93ae8b0dc",
   "metadata": {
    "editable": true,
    "slideshow": {
     "slide_type": ""
    },
    "tags": []
   },
   "outputs": [],
   "source": [
    "// High order functions 2: Sending an arrow function\n",
    "\n",
    "console.log('High order function result: ', \n",
    "            highOrderFun(10, (u) => {\n",
    "                return u*2;\n",
    "            }));"
   ]
  },
  {
   "cell_type": "markdown",
   "id": "6385a279-dc9e-4b28-90e1-3a5a7b63ab65",
   "metadata": {},
   "source": [
    "## Anonymous functions"
   ]
  },
  {
   "cell_type": "code",
   "execution_count": null,
   "id": "a303d750-ff8f-41b1-8ddd-35520d8dcc1a",
   "metadata": {},
   "outputs": [],
   "source": [
    "// Anonymous functions: functions without name\n",
    "\n",
    "const anonFun = function (a, b) {\n",
    "    return a+b\n",
    "}\n",
    "\n",
    "// They can be called like:\n",
    "const anonResult = anonFun(11, 44);\n",
    "console.log(\"Anonyous function result:\", anonResult)\n",
    "\n",
    "// These can be uses in object definition\n",
    "obj = {\n",
    "    a: 1,\n",
    "    eval: function (x) { return this.a + x}, // They have access to 'this' which refers to object itself\n",
    "    //f: (x) => { return this.a + x}, // Arrow functions don't have access to 'this'\n",
    "    print: (message) => { console.log(message) } // But arrow functions can do useful things in objects\n",
    "}\n",
    "\n",
    "console.log(\"Evaluation result in obj \", obj.eval(2014))\n",
    "obj.print(\"Hellow from lambda\")"
   ]
  },
  {
   "cell_type": "markdown",
   "id": "8d391585-c636-4a4b-bc1d-1b0817248b98",
   "metadata": {},
   "source": [
    "## Multiple output in functions"
   ]
  },
  {
   "cell_type": "code",
   "execution_count": null,
   "id": "9d77ca27-ad28-4c14-838e-4ccd4dc2ee2b",
   "metadata": {
    "editable": true,
    "slideshow": {
     "slide_type": ""
    },
    "tags": []
   },
   "outputs": [],
   "source": [
    "// Functions output by array\n",
    "\n",
    "function multiOutFun1() {\n",
    "    return [1, 2, 3, 4];  // Return an array of numbers\n",
    "}\n",
    "\n",
    "// Destructure the elements of the returned array into variables\n",
    "const [ra1, ra2, , ra4] = multiOutFun1(); // Third item is ignored by empty place ', ,'\n",
    "\n",
    "console.log('fun4 outputs: ', ra1, ra2, ra4);  // Print the destructured variables"
   ]
  },
  {
   "cell_type": "code",
   "execution_count": null,
   "id": "63a3597b-382c-498a-b698-863a9d094132",
   "metadata": {
    "editable": true,
    "slideshow": {
     "slide_type": ""
    },
    "tags": []
   },
   "outputs": [],
   "source": [
    "// Functions output by object\n",
    "\n",
    "function multiOutFun2() {\n",
    "    return { a: 1, b: 2, c: 3 };  // Return an object with properties 'a', 'b', and 'c'\n",
    "}\n",
    "\n",
    "// Destructure the properties 'a' and 'c' from the returned object\n",
    "const { a, c } = multiOutFun2(); // Just getting variables by their names\n",
    "\n",
    "console.log('fun5 outputs: ', a, c);  // Print the destructured properties 'a' and 'c'"
   ]
  }
 ],
 "metadata": {
  "kernelspec": {
   "display_name": "JavaScript (Node.js)",
   "language": "javascript",
   "name": "javascript"
  },
  "language_info": {
   "file_extension": ".js",
   "mimetype": "application/javascript",
   "name": "javascript",
   "version": "18.14.2"
  }
 },
 "nbformat": 4,
 "nbformat_minor": 5
}
