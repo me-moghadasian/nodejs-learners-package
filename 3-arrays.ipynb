{
 "cells": [
  {
   "cell_type": "code",
   "execution_count": 2,
   "id": "3faf352d-4e14-4d86-bd27-adb36e1c8318",
   "metadata": {
    "editable": true,
    "slideshow": {
     "slide_type": ""
    },
    "tags": []
   },
   "outputs": [
    {
     "name": "stdout",
     "output_type": "stream",
     "text": [
      "arr1 afer push:  [\n",
      "  -1, 0, 11, 2, 3,\n",
      "   4, 5,  6, 7, 8\n",
      "]\n",
      "arr1 after pop:  [\n",
      "  -1, 0, 11, 2, 3,\n",
      "   4, 5,  6, 7\n",
      "]\n",
      "arr1 after shift:  [\n",
      "  0, 11, 2, 3,\n",
      "  4,  5, 6, 7\n",
      "]\n"
     ]
    }
   ],
   "source": [
    "// Arrays: defining\n",
    "const arr1 = [1, 2, 3]; // new Array(3); Creates an array with 3 empty slots; we can also use new Array(1, 2, 3)\n",
    "arr1[0] = 11;\n",
    "arr1.push(4); //  adds an element to the end\n",
    "arr1.push(5, 6); //  adds elements to the end\n",
    "arr1.unshift(-1, 0); // adds elements to the beginning\n",
    "const arr2 = [7, 8];\n",
    "arr1.push(...arr2); // Unpaks and adds elements\n",
    "console.log('arr1 afer push: ', arr1);\n",
    "arr1.pop(); // Removes he last element\n",
    "console.log('arr1 after pop: ', arr1);\n",
    "arr1.shift();  // Removes the first element from the array\n",
    "console.log('arr1 after shift: ', arr1);    // Outputs: arr1 after shift: [2, 3, 4]"
   ]
  },
  {
   "cell_type": "code",
   "execution_count": 3,
   "id": "6c359cdc-f51a-4bd1-921c-91c79da06d06",
   "metadata": {
    "editable": true,
    "slideshow": {
     "slide_type": ""
    },
    "tags": []
   },
   "outputs": [
    {
     "name": "stdout",
     "output_type": "stream",
     "text": [
      "arr5 length:  5\n",
      "index of:  1\n",
      "includes:  true\n",
      "find first:  2\n",
      "find first index:  1\n"
     ]
    }
   ],
   "source": [
    "// Arrays: querying\n",
    "const arr3 = [1, 2, 3, 4, 5];\n",
    "console.log('arr5 length: ', arr3.length);\n",
    "console.log('index of: ', arr3.indexOf(2));\n",
    "console.log('includes: ', arr3.includes(2));\n",
    "console.log('find first: ', arr3.find(num => num>1 )); // Finds the first element; findIndex is also available\n",
    "console.log('find first index: ', arr3.findIndex(num => num>1 )); // Finds the first element; findIndex is also available"
   ]
  },
  {
   "cell_type": "code",
   "execution_count": 4,
   "id": "1d091aec-1ea9-46dd-91c5-950f828a55e5",
   "metadata": {
    "editable": true,
    "slideshow": {
     "slide_type": ""
    },
    "tags": []
   },
   "outputs": [
    {
     "name": "stdout",
     "output_type": "stream",
     "text": [
      "arr3 elements: 1\n",
      "arr3 elements: 2\n",
      "arr3 elements: 3\n",
      "arr3 elements: 4\n",
      "arr3 elements: 5\n",
      "arr3 entries: [ 0, 1 ]\n",
      "arr3 entries: [ 1, 2 ]\n",
      "arr3 entries: [ 2, 3 ]\n",
      "arr3 entries: [ 3, 4 ]\n",
      "arr3 entries: [ 4, 5 ]\n",
      "arr3 keys: 0\n",
      "arr3 keys: 1\n",
      "arr3 keys: 2\n",
      "arr3 keys: 3\n",
      "arr3 keys: 4\n",
      "arr3 values: 1\n",
      "arr3 values: 2\n",
      "arr3 values: 3\n",
      "arr3 values: 4\n",
      "arr3 values: 5\n",
      "arr3 v, i: 1 0\n",
      "arr3 v, i: 2 1\n",
      "arr3 v, i: 3 2\n",
      "arr3 v, i: 4 3\n",
      "arr3 v, i: 5 4\n",
      "arr3 mapped: [ 2, 4, 6, 8, 10 ]\n",
      "arr3 mapped: [ 4, 5 ]\n",
      "arr3 some: true\n",
      "arr3 every: false\n"
     ]
    }
   ],
   "source": [
    "// Arrays: iterations\n",
    "for (const e of arr3) console.log('arr3 elements:', e)\n",
    "for (const e of arr3.entries()) console.log('arr3 entries:', e)\n",
    "for (const e of arr3.keys()) console.log('arr3 keys:', e)\n",
    "for (const e of arr3.values()) console.log('arr3 values:', e)\n",
    "arr3.forEach((v, i) => {\n",
    "    console.log('arr3 v, i:', v, i);\n",
    "}); // we can also use forEach(v=>{})\n",
    "console.log('arr3 mapped:',arr3.map(v => v*2));\n",
    "console.log('arr3 mapped:',arr3.filter(v => v > 3));\n",
    "console.log('arr3 some:',arr3.some(v => v == 3));\n",
    "console.log('arr3 every:',arr3.every(v => v > 2));"
   ]
  },
  {
   "cell_type": "code",
   "execution_count": 5,
   "id": "1db90792-f79b-4870-a161-e484e8512a59",
   "metadata": {},
   "outputs": [
    {
     "name": "stdout",
     "output_type": "stream",
     "text": [
      "arr4 as slice of arr3: [ 2, 3, 4 ]\n",
      "arr5 as concat of arr3 and arr4: [\n",
      "  2, 3, 4, 1,\n",
      "  2, 3, 4, 5\n",
      "]\n",
      "arr5 sorted: [\n",
      "  1, 2, 2, 3,\n",
      "  3, 4, 4, 5\n",
      "]\n",
      "arr5 reverse: [\n",
      "  5, 4, 4, 3,\n",
      "  3, 2, 2, 1\n",
      "]\n"
     ]
    }
   ],
   "source": [
    "// Arrays: trasformation and sorting\n",
    "const arr4 = arr3.slice(1, 4);  // Creates a new array starting from 1 to 3; -index is also available\n",
    "console.log('arr4 as slice of arr3:', arr4);\n",
    "const arr5 = arr4.concat(arr3);\n",
    "console.log('arr5 as concat of arr3 and arr4:', arr5);\n",
    "console.log('arr5 sorted:', arr5.sort());\n",
    "console.log('arr5 reverse:', arr5.reverse());"
   ]
  },
  {
   "cell_type": "code",
   "execution_count": 6,
   "id": "f99de1e1-a13e-425c-a3ea-6d26e0580733",
   "metadata": {},
   "outputs": [
    {
     "name": "stdout",
     "output_type": "stream",
     "text": [
      "1 2\n"
     ]
    }
   ],
   "source": [
    "// Arrays: destructuring\n",
    "const arr6 = [1, 2, 3];\n",
    "const [a, b] = arr6;\n",
    "console.log(a, b);  // 1 2 3"
   ]
  },
  {
   "cell_type": "code",
   "execution_count": 7,
   "id": "0eec2d7f-2ee7-4f77-ab39-debe3df148ef",
   "metadata": {},
   "outputs": [
    {
     "data": {
      "text/plain": [
       "0"
      ]
     },
     "execution_count": 7,
     "metadata": {},
     "output_type": "execute_result"
    }
   ],
   "source": [
    "// Arrays: clear array\n",
    "arr6.length = 0"
   ]
  }
 ],
 "metadata": {
  "kernelspec": {
   "display_name": "JavaScript (Node.js)",
   "language": "javascript",
   "name": "javascript"
  },
  "language_info": {
   "file_extension": ".js",
   "mimetype": "application/javascript",
   "name": "javascript",
   "version": "18.14.2"
  }
 },
 "nbformat": 4,
 "nbformat_minor": 5
}
