{
 "cells": [
  {
   "cell_type": "markdown",
   "id": "6089efc7-90fb-4df7-8248-a2bfbe183782",
   "metadata": {},
   "source": [
    "# Basics of JavaScript and Node.js"
   ]
  },
  {
   "cell_type": "markdown",
   "id": "bbd3c631-54ea-47f5-a19f-b26fc44c22a7",
   "metadata": {},
   "source": [
    "## Declaring variables"
   ]
  },
  {
   "cell_type": "code",
   "execution_count": 1,
   "id": "74a685f2-799c-4465-9aa7-e6e86287580a",
   "metadata": {
    "editable": true,
    "slideshow": {
     "slide_type": ""
    },
    "tags": []
   },
   "outputs": [
    {
     "name": "stdout",
     "output_type": "stream",
     "text": [
      "undefined\n",
      "6\n",
      "true\n",
      "true\n",
      "true\n"
     ]
    }
   ],
   "source": [
    "// Working with variables and constants.\n",
    "const c = 5;\n",
    "let v; // Bound to block it is difined in.\n",
    "console.log(v);\n",
    "\n",
    "v = 5;\n",
    "v = v + 1;\n",
    "console.log(v);\n",
    "\n",
    "let anan = NaN; // anan is Not-a-Number\n",
    "let bnull = null; // bnull is explicitly set to null\n",
    "let cund; // cund is undefined by default\n",
    "\n",
    "console.log(Number.isNaN(anan));  // true\n",
    "console.log(bnull === null);       // true\n",
    "console.log(cund === undefined);  // true"
   ]
  },
  {
   "cell_type": "code",
   "execution_count": 2,
   "id": "d5b1e1da-9d3a-4a76-b179-6f126e3a8cff",
   "metadata": {
    "editable": true,
    "slideshow": {
     "slide_type": ""
    },
    "tags": []
   },
   "outputs": [
    {
     "name": "stdout",
     "output_type": "stream",
     "text": [
      "This is v: 6\n"
     ]
    }
   ],
   "source": [
    "// String binding\n",
    "let s = `This is v: ${v}`;\n",
    "console.log(s);"
   ]
  },
  {
   "cell_type": "markdown",
   "id": "d6d1ec94-d941-40f7-a2ce-b24a471415e6",
   "metadata": {},
   "source": [
    "## **IF** and **SWITCH**"
   ]
  },
  {
   "cell_type": "code",
   "execution_count": 3,
   "id": "f0b00fd3-2bd4-4738-88ed-bf3a3861949f",
   "metadata": {
    "editable": true,
    "slideshow": {
     "slide_type": ""
    },
    "tags": []
   },
   "outputs": [
    {
     "name": "stdout",
     "output_type": "stream",
     "text": [
      "If condition was true\n",
      "If condition was wrong\n",
      "If condition was true\n",
      "Switch condition is B.\n",
      "Ternary result: not ok\n",
      "B\n",
      "chaining 1: was null or undefined\n",
      "chaining 2: was null or undefined\n",
      "chaining 3: was null or undefined\n",
      "chaining 4: was falsy\n",
      "chaining 5: was falsy\n",
      "chaining 6: was falsy\n",
      "chaining 7: was null or undefined\n",
      "chaining 8: was null or undefined\n",
      "chaining 9: false\n",
      "chaining 10: 1\n",
      "chaining 10: was falsy\n",
      "chaining 11: was falsy\n",
      "chaining 12: was falsy\n",
      "chaining 13: 1\n"
     ]
    }
   ],
   "source": [
    "// If and switch \n",
    "if (true) {\n",
    "    console.log(`If condition was true`);\n",
    "} else {\n",
    "    console.log(`If condition was wrong`);\n",
    "}\n",
    "\n",
    "let undv; // <-- Undefined variable\n",
    "if (undv) {\n",
    "    console.log(`If condition was true`);\n",
    "} else {\n",
    "    console.log(`If condition was wrong`);\n",
    "}\n",
    "if (!undv) {\n",
    "    console.log(`If condition was true`);\n",
    "} else {\n",
    "    console.log(`If condition was wrong`);\n",
    "}\n",
    "    \n",
    "const sc = 'B';\n",
    "switch(sc) {\n",
    "    case 'A':\n",
    "        console.log('Switch condition is A.');\n",
    "        break;\n",
    "    case 'B':\n",
    "        console.log('Switch condition is B.');\n",
    "        break;\n",
    "    default:\n",
    "        console.log('Switch condition is default.');\n",
    "}\n",
    "\n",
    "const ternResult = ('A' === 'B') ? 'ok' : 'not ok';\n",
    "console.log('Ternary result:', ternResult);\n",
    "\n",
    "const score = 85;\n",
    "const grade = score >= 90 ? 'A' :\n",
    "              score >= 80 ? 'B' :\n",
    "              score >= 70 ? 'C' :\n",
    "              score >= 60 ? 'D' : 'F';\n",
    "\n",
    "console.log(grade); // Output: 'B'\n",
    "\n",
    "// '?.' is used for chaining [This is used for safety]\n",
    "let someObject = null;\n",
    "console.log('chaining 1:', someObject?.a ?? 'was null or undefined');\n",
    "console.log('chaining 2:', someObject?.b ?? 'was null or undefined');\n",
    "console.log('chaining 3:', someObject?.c ?? 'was null or undefined');\n",
    "\n",
    "console.log('chaining 4:', someObject?.a || 'was falsy');\n",
    "console.log('chaining 5:', someObject?.b || 'was falsy');\n",
    "console.log('chaining 6:', someObject?.c || 'was falsy');\n",
    "\n",
    "someObject = {\n",
    "    a: null,\n",
    "    b: undefined,\n",
    "    c: false,\n",
    "    d: 1\n",
    "};\n",
    "console.log('chaining 7:', someObject?.a ?? 'was null or undefined');\n",
    "console.log('chaining 8:', someObject?.b ?? 'was null or undefined');\n",
    "console.log('chaining 9:', someObject?.c ?? 'was null or undefined');\n",
    "console.log('chaining 10:', someObject?.d ?? 'was null or undefined');\n",
    "\n",
    "console.log('chaining 11:', someObject?.a || 'was falsy');\n",
    "console.log('chaining 12:', someObject?.b || 'was falsy');\n",
    "console.log('chaining 13:', someObject?.c || 'was falsy');\n",
    "console.log('chaining 14:', someObject?.d || 'was falsy');"
   ]
  },
  {
   "cell_type": "markdown",
   "id": "6fffa69e-6e63-4693-9d53-ff215802d12b",
   "metadata": {},
   "source": [
    "## **FOR** and **WHILE** loops"
   ]
  },
  {
   "cell_type": "code",
   "execution_count": 1,
   "id": "cf894201-45cd-4be1-b492-77210fdeb818",
   "metadata": {},
   "outputs": [
    {
     "name": "stdout",
     "output_type": "stream",
     "text": [
      "for: 0\n",
      "for: 1\n",
      "for: 2\n",
      "for: 3\n",
      "for: 4\n",
      "while 1: 0\n",
      "while 1: 1\n",
      "while 1: 2\n",
      "while 1: 3\n",
      "while 1: 4\n",
      "while 2: 0\n",
      "while 2: 1\n",
      "while 2: 2\n",
      "while 2: 3\n",
      "while 2: 4\n"
     ]
    },
    {
     "data": {
      "text/plain": [
       "4"
      ]
     },
     "execution_count": 1,
     "metadata": {},
     "output_type": "execute_result"
    }
   ],
   "source": [
    "// Loops\n",
    "for (let fc = 0; fc < 5; fc++) {\n",
    "    console.log('for:', fc);\n",
    "}\n",
    "let whc = 0;\n",
    "while(whc < 5) {\n",
    "    console.log('while 1:', whc);\n",
    "    whc++;\n",
    "}\n",
    "whc = 0;\n",
    "do {\n",
    "    console.log('while 2:', whc);\n",
    "    whc++;\n",
    "} while(whc < 5)"
   ]
  },
  {
   "cell_type": "markdown",
   "id": "6b5b15c4-44ac-45e0-8c8f-200061e7ed94",
   "metadata": {},
   "source": [
    "## Logs, Eqality and Date"
   ]
  },
  {
   "cell_type": "code",
   "execution_count": 5,
   "id": "2baf44de-d575-4f49-8142-c61bbf5b7377",
   "metadata": {
    "editable": true,
    "slideshow": {
     "slide_type": ""
    },
    "tags": []
   },
   "outputs": [
    {
     "name": "stdout",
     "output_type": "stream",
     "text": [
      "log some log\n",
      "log some info\n"
     ]
    },
    {
     "name": "stderr",
     "output_type": "stream",
     "text": [
      "log some log\n",
      "log some error\n"
     ]
    }
   ],
   "source": [
    "// Logs to console\n",
    "console.log('log', 'some log');\n",
    "console.info('log', 'some info');\n",
    "console.warn('log', 'some warn');\n",
    "console.error('log', 'some error');"
   ]
  },
  {
   "cell_type": "code",
   "execution_count": 6,
   "id": "69209a88-1ee3-4615-94c5-417510a3fac3",
   "metadata": {},
   "outputs": [
    {
     "name": "stdout",
     "output_type": "stream",
     "text": [
      "is equal false\n",
      "is equal true\n"
     ]
    }
   ],
   "source": [
    "// Equality\n",
    "const s1 = '1';\n",
    "const s2 = 1;\n",
    "console.log('is equal', s1 === s2); // Does not convert\n",
    "console.log('is equal', s1 == s2);"
   ]
  },
  {
   "cell_type": "code",
   "execution_count": 2,
   "id": "f4034661-666a-40c1-995c-a1bf685e1953",
   "metadata": {},
   "outputs": [
    {
     "name": "stdout",
     "output_type": "stream",
     "text": [
      "Current timestamp: 1724332913117\n",
      "Date: Thu Aug 22 2024 16:51:53 GMT+0330 (Iran Standard Time)\n",
      "Timestamp from Date: 1724332913121\n",
      "Thu, 22 Aug 2024 13:21:53 GMT\n",
      "2024-08-22T13:21:53.121Z\n",
      "Date: Sat Aug 17 2024 15:30:00 GMT+0330 (Iran Standard Time)\n",
      "Sat, 17 Aug 2024 12:00:00 GMT\n",
      "Date: Sat Aug 17 2024 15:30:00 GMT+0330 (Iran Standard Time)\n",
      "Timestamp from date: 1723896000000\n",
      "Date from timestamp: Sat Apr 20 2024 04:30:00 GMT+0330 (Iran Standard Time)\n"
     ]
    }
   ],
   "source": [
    "// Working with Date and Time\n",
    "const timestamp1 = Date.now(); // UTC\n",
    "console.log('Current timestamp:', timestamp1);\n",
    "\n",
    "const date1 = new Date();  // Locale datetime\n",
    "console.log('Date:', date1.toString());\n",
    "const timestamp2 = date1.getTime(); // Converts to UTC timestamp\n",
    "console.log('Timestamp from Date:', timestamp2); \n",
    "console.log(date1.toUTCString()); // Displays the date and time in UTC\n",
    "console.log(date1.toISOString()); // Displays the date and time in ISO 8601 format (UTC)\n",
    "\n",
    "const byUtcDate = new Date(Date.UTC(2024, 7, 17, 12, 0, 0)); // August is month 7 (0-based);Date.UTC() returns timestamp\n",
    "console.log('Date:', byUtcDate.toString()); // Locale datetime\n",
    "console.log(byUtcDate.toUTCString()); // Displays the date and time in UTC\n",
    "\n",
    "const dateString = '2024-08-17T12:00:00Z';  // ISO 8601 format\n",
    "const date2 = new Date(dateString); // Locale datetime\n",
    "console.log('Date:', date2.toString()); // Locale datetime\n",
    "const timestamp3 = date2.getTime(); // UTC\n",
    "console.log('Timestamp from date:', timestamp3);\n",
    "\n",
    "const timestamp4 = 1713574800000;  // Example timestamp\n",
    "const date3 = new Date(timestamp4);\n",
    "console.log('Date from timestamp:', date3.toString());\n"
   ]
  },
  {
   "cell_type": "code",
   "execution_count": null,
   "id": "f70d80f1-51b7-4fd1-8ceb-a93d2a16f106",
   "metadata": {},
   "outputs": [],
   "source": []
  }
 ],
 "metadata": {
  "kernelspec": {
   "display_name": "JavaScript (Node.js)",
   "language": "javascript",
   "name": "javascript"
  },
  "language_info": {
   "file_extension": ".js",
   "mimetype": "application/javascript",
   "name": "javascript",
   "version": "18.14.2"
  }
 },
 "nbformat": 4,
 "nbformat_minor": 5
}
