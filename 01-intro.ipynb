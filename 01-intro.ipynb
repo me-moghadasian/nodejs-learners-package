{
 "cells": [
  {
   "cell_type": "markdown",
   "id": "6089efc7-90fb-4df7-8248-a2bfbe183782",
   "metadata": {},
   "source": [
    "# Basics of JavaScript and Node.js\n",
    "\n",
    "## Description\n",
    "\n",
    "This package offers a concise introduction to Node.js (using JupyterLab), focusing only on the essential concepts and skills. It covers the fundamental topics necessary for understanding and practicing (or reviewing) Node.js, including:\n",
    "\n",
    "- Declaring Variables and Working with Functions\n",
    "- Loops and Branching\n",
    "- JSON Handling\n",
    "- Collections (Arrays, Maps, and Sets)\n",
    "- Working with Files\n",
    "- Async-await, Promise and Events\n",
    "- HTTP Connections\n",
    "- MongoDB and Mongoose\n",
    "- Express Framework\n",
    "\n",
    "## Active Development\n",
    "\n",
    "Please note that this package is actively being modified and updated. We are continuously working to improve and expand the content based on feedback and new developments in Node.js. New features, topics, and enhancements will be added over time. To ensure you have the latest dependencies and updates, you might need to run `npm install` periodically.\n",
    "\n",
    "## Features\n",
    "\n",
    "- **Variables and Functions**: Learn how to create and use variables and functions in Node.js.\n",
    "- **Loops and Branching**: Understand different looping constructs and conditional statements.\n",
    "- **JSON**: Work with JSON data, including parsing and stringifying JSON.\n",
    "- **Collections**: Explore arrays, maps, and sets, and how to manipulate them.\n",
    "- **File Handling**: Read from and write to files using Node.js.\n",
    "- **Async-await, Promise and Events**: Learn how to do asynchronous operations with async-await, promise and events.\n",
    "- **HTTP Connections**: Create basic HTTP servers and handle requests and responses.\n",
    "- **MongoDB and Mongoose**: Connect to a MongoDB database and perform CRUD operations using Mongoose.\n",
    "- **Express**: Build web applications using the Express framework.\n",
    "\n",
    "## Installation\n",
    "\n",
    "To get started with this package, follow these steps:\n",
    "\n",
    "1. **Install Node.js**:\n",
    "   - Ensure you have [Node.js](https://nodejs.org/) installed. This is required for running Node.js apps in this package.\n",
    "\n",
    "2. **Install the Node.js Jupyter Kernel**:\n",
    "   - You need the [IJavascript kernel](https://github.com/n-riesco/ijavascript) for Jupyter to run JavaScript code. You can install it using the following commands:\n",
    "     ```bash\n",
    "     npm install -g ijavascript\n",
    "     ijsinstall\n",
    "     ```\n",
    "\n",
    "3. **Clone the Repository**:\n",
    "    ```bash\n",
    "    git clone https://github.com/me-moghadasian/nodejs-learners-package.git\n",
    "    ```\n",
    "\n",
    "4. **Navigate into the Project Directory**:\n",
    "    ```bash\n",
    "    cd nodejs-learners-package\n",
    "    ```\n",
    "\n",
    "5. **Install Project Dependencies**:\n",
    "    - Install MongoDB too when you want to try MongoDB related sections.\n",
    "    ```bash\n",
    "    npm install\n",
    "    ```\n",
    "\n",
    "7. **Install JupyterLab** (if not already installed):\n",
    "   - If you don't have JupyterLab installed, you'll need Python and JupyterLab. You can install JupyterLab using:\n",
    "    ```bash\n",
    "    pip install jupyterlab\n",
    "    ```\n",
    "\n",
    "8. **Start JupyterLab**:\n",
    "    ```bash\n",
    "    jupyter lab\n",
    "    ```\n",
    "\n",
    "9. **Open and Explore the Notebooks and Scripts**:\n",
    "   - Use JupyterLab to open and explore the notebooks and scripts provided in the package.\n",
    "\n",
    "## Note\n",
    "\n",
    "This package is still under development. New features and improvements will be added over time. you might need to run `npm install` periodically.\n",
    "\n",
    "## License\n",
    "\n",
    "This project is licensed under the MIT License - see the [LICENSE](LICENSE) file for details.\n",
    "\n",
    "## Author\n",
    "\n",
    "Mehdi Moghadasian"
   ]
  },
  {
   "cell_type": "markdown",
   "id": "bbd3c631-54ea-47f5-a19f-b26fc44c22a7",
   "metadata": {},
   "source": [
    "## Declaring variables"
   ]
  },
  {
   "cell_type": "code",
   "execution_count": 1,
   "id": "74a685f2-799c-4465-9aa7-e6e86287580a",
   "metadata": {
    "editable": true,
    "slideshow": {
     "slide_type": ""
    },
    "tags": []
   },
   "outputs": [
    {
     "name": "stdout",
     "output_type": "stream",
     "text": [
      "undefined\n",
      "5\n",
      "6\n",
      "true\n",
      "true\n",
      "true\n"
     ]
    }
   ],
   "source": [
    "// Working with variables and constants\n",
    "\n",
    "// Constants are values that cannot be changed once defined.\n",
    "const c = 5; // c is now a constant with the value 5\n",
    "\n",
    "// Variables are values that can be changed.\n",
    "let v; // v is declared but has no value yet\n",
    "console.log(v); // Output: undefined (because v has no value)\n",
    "\n",
    "// Assign a value to v\n",
    "v = 5;\n",
    "console.log(v); // Output: 5\n",
    "\n",
    "// Update the value of v\n",
    "v = v + 1;\n",
    "console.log(v); // Output: 6\n",
    "\n",
    "// Special values:\n",
    "\n",
    "// NaN (Not-a-Number): Represents a value that is not a valid number\n",
    "let anan = NaN;\n",
    "console.log(Number.isNaN(anan)); // Output: true (anan is indeed NaN)\n",
    "\n",
    "// null: Represents an empty value or the absence of a value\n",
    "let bnull = null;\n",
    "console.log(bnull === null); // Output: true (bnull is equal to null)\n",
    "\n",
    "// undefined: Represents a variable that has been declared but has no value assigned to it\n",
    "let cund;\n",
    "console.log(cund === undefined); // Output: true (cund is undefined)"
   ]
  },
  {
   "cell_type": "code",
   "execution_count": 2,
   "id": "d5b1e1da-9d3a-4a76-b179-6f126e3a8cff",
   "metadata": {
    "editable": true,
    "slideshow": {
     "slide_type": ""
    },
    "tags": []
   },
   "outputs": [
    {
     "name": "stdout",
     "output_type": "stream",
     "text": [
      "This is v: 6\n"
     ]
    }
   ],
   "source": [
    "// String binding\n",
    "\n",
    "// Create a string using template literals\n",
    "let s = `This is v: ${v}`;\n",
    "\n",
    "// The value of v will be inserted into the string\n",
    "console.log(s); // Output: This is v: 6 (assuming v is still 6)"
   ]
  },
  {
   "cell_type": "markdown",
   "id": "d6d1ec94-d941-40f7-a2ce-b24a471415e6",
   "metadata": {},
   "source": [
    "## **IF** and **SWITCH**"
   ]
  },
  {
   "cell_type": "code",
   "execution_count": 3,
   "id": "f0b00fd3-2bd4-4738-88ed-bf3a3861949f",
   "metadata": {
    "editable": true,
    "slideshow": {
     "slide_type": ""
    },
    "tags": []
   },
   "outputs": [
    {
     "name": "stdout",
     "output_type": "stream",
     "text": [
      "If condition was true\n",
      "If condition was wrong\n",
      "If condition was true\n",
      "Switch condition is B.\n",
      "Ternary result: not ok\n",
      "B\n",
      "chaining 1: was null or undefined\n",
      "chaining 2: was null or undefined\n",
      "chaining 3: was null or undefined\n",
      "chaining 4: was falsy\n",
      "chaining 5: was falsy\n",
      "chaining 6: was falsy\n",
      "chaining 7: was null or undefined\n",
      "chaining 8: was null or undefined\n",
      "chaining 9: false\n",
      "chaining 10: 1\n",
      "chaining 11: was falsy\n",
      "chaining 12: was falsy\n",
      "chaining 13: was falsy\n",
      "chaining 14: 1\n"
     ]
    }
   ],
   "source": [
    "// If and switch\n",
    "\n",
    "// Simple if statement\n",
    "if (true) {\n",
    "    console.log(\"If condition was true\");\n",
    "} else {\n",
    "    console.log(\"If condition was wrong\");\n",
    "}\n",
    "\n",
    "// If statement with an undefined variable\n",
    "let undv;\n",
    "if (undv) {\n",
    "    console.log(\"If condition was true\");\n",
    "} else {\n",
    "    console.log(\"If condition was wrong\"); // This will be executed\n",
    "}\n",
    "\n",
    "// If statement with a negated undefined variable\n",
    "if (!undv) {\n",
    "    console.log(\"If condition was true\"); // This will be executed\n",
    "} else {\n",
    "    console.log(\"If condition was wrong\");\n",
    "}\n",
    "\n",
    "// Switch statement\n",
    "const sc = \"B\";\n",
    "switch (sc) {\n",
    "    case \"A\":\n",
    "        console.log(\"Switch condition is A.\");\n",
    "        break;\n",
    "    case \"B\":\n",
    "        console.log(\"Switch condition is B.\");\n",
    "        break;\n",
    "    default:\n",
    "        console.log(\"Switch condition is default.\");\n",
    "}\n",
    "\n",
    "// Ternary operator\n",
    "const ternResult = (\"A\" === \"B\") ? \"ok\" : \"not ok\";\n",
    "console.log(\"Ternary result:\", ternResult);\n",
    "\n",
    "// Nested ternary operator for grading\n",
    "const score = 85;\n",
    "const grade = score >= 90 ? \"A\" :\n",
    "    score >= 80 ? \"B\" :\n",
    "    score >= 70 ? \"C\" :\n",
    "    score >= 60 ? \"D\" : \"F\";\n",
    "console.log(grade); // Output: 'B'\n",
    "\n",
    "// Optional chaining operator (?.): Used for safe property access\n",
    "let someObject = null;\n",
    "console.log(\"chaining 1:\", someObject?.a ?? \"was null or undefined\"); // Output: was null or undefined\n",
    "console.log(\"chaining 2:\", someObject?.b ?? \"was null or undefined\"); // Output: was null or undefined\n",
    "console.log(\"chaining 3:\", someObject?.c ?? \"was null or undefined\"); // Output: was null or undefined\n",
    "\n",
    "console.log(\"chaining 4:\", someObject?.a || \"was falsy\"); // Output: was falsy\n",
    "console.log(\"chaining 5:\", someObject?.b || \"was falsy\"); // Output: was falsy\n",
    "console.log(\"chaining 6:\", someObject?.c || \"was falsy\"); // Output: was falsy\n",
    "\n",
    "someObject = {\n",
    "    a: null,\n",
    "    b: undefined,\n",
    "    c: false,\n",
    "    d: 1\n",
    "};\n",
    "console.log(\"chaining 7:\", someObject?.a ?? \"was null or undefined\"); // Output: was null or undefined\n",
    "console.log(\"chaining 8:\", someObject?.b ?? \"was null or undefined\"); // Output: was null or undefined\n",
    "console.log(\"chaining 9:\", someObject?.c ?? \"was null or undefined\"); // Output: was null or undefined\n",
    "console.log(\"chaining 10:\", someObject?.d ?? \"was null or undefined\"); // Output: 1\n",
    "\n",
    "console.log(\"chaining 11:\", someObject?.a || \"was falsy\"); // Output: was falsy\n",
    "console.log(\"chaining 12:\", someObject?.b || \"was falsy\"); // Output: was falsy\n",
    "console.log(\"chaining 13:\", someObject?.c || \"was falsy\"); // Output: was falsy\n",
    "console.log(\"chaining 14:\", someObject?.d || \"was falsy\"); // Output: 1"
   ]
  },
  {
   "cell_type": "markdown",
   "id": "6fffa69e-6e63-4693-9d53-ff215802d12b",
   "metadata": {},
   "source": [
    "## **FOR** and **WHILE** loops"
   ]
  },
  {
   "cell_type": "code",
   "execution_count": 4,
   "id": "cf894201-45cd-4be1-b492-77210fdeb818",
   "metadata": {},
   "outputs": [
    {
     "name": "stdout",
     "output_type": "stream",
     "text": [
      "for: 0\n",
      "for: 1\n",
      "for: 2\n",
      "for: 3\n",
      "for: 4\n",
      "while 1: 0\n",
      "while 1: 1\n",
      "while 1: 2\n",
      "while 1: 3\n",
      "while 1: 4\n",
      "while 2: 0\n",
      "while 2: 1\n",
      "while 2: 2\n",
      "while 2: 3\n",
      "while 2: 4\n"
     ]
    },
    {
     "data": {
      "text/plain": [
       "4"
      ]
     },
     "execution_count": 4,
     "metadata": {},
     "output_type": "execute_result"
    }
   ],
   "source": [
    "// Loops\n",
    "\n",
    "// For loop\n",
    "for (let fc = 0; fc < 5; fc++) {\n",
    "    console.log(\"for:\", fc);\n",
    "}\n",
    "\n",
    "// While loop\n",
    "let whc = 0;\n",
    "while (whc < 5) {\n",
    "    console.log(\"while 1:\", whc);\n",
    "    whc++;\n",
    "}\n",
    "\n",
    "// Do-while loop\n",
    "whc = 0;\n",
    "do {\n",
    "    console.log(\"while 2:\", whc);\n",
    "    whc++;\n",
    "} while (whc < 5);"
   ]
  },
  {
   "cell_type": "markdown",
   "id": "6b5b15c4-44ac-45e0-8c8f-200061e7ed94",
   "metadata": {},
   "source": [
    "## Logs\n",
    "\n",
    "Each method logs a message to the console with a different severity level:\n",
    "\n",
    "- **console.log:**  Default logging method for general messages.\n",
    "- **console.info:**  Used for informational messages, often less critical than warnings.\n",
    "- **console.warn:**  Used for warning messages that indicate potential problems.\n",
    "- **console.error:**  Used for error messages indicating serious issues.\n",
    "\n",
    "These methods can be helpful for debugging and monitoring your application's behavior.\n",
    "\n",
    "**Additional notes:**\n",
    "\n",
    "- You can also use template literals (backticks) for more dynamic logging messages:\n",
    "\n",
    "```javascript\n",
    "const name = \"John\";\n",
    "console.log(`Hello, ${name}!`);"
   ]
  },
  {
   "cell_type": "code",
   "execution_count": 6,
   "id": "2baf44de-d575-4f49-8142-c61bbf5b7377",
   "metadata": {
    "editable": true,
    "slideshow": {
     "slide_type": ""
    },
    "tags": []
   },
   "outputs": [
    {
     "name": "stdout",
     "output_type": "stream",
     "text": [
      "log some log\n",
      "log some info\n"
     ]
    },
    {
     "name": "stderr",
     "output_type": "stream",
     "text": [
      "log some warn\n",
      "log some error\n"
     ]
    }
   ],
   "source": [
    "// Logs to console\n",
    "\n",
    "console.log(\"log\", \"some log\");  // Default logging method\n",
    "console.info(\"log\", \"some info\");  // Informational message\n",
    "console.warn(\"log\", \"some warn\");  // Warning message\n",
    "console.error(\"log\", \"some error\"); // Error message"
   ]
  },
  {
   "cell_type": "markdown",
   "id": "119b80fe-a1eb-44dd-8f80-0fce0fe0d993",
   "metadata": {},
   "source": [
    "## Equality\n",
    "\n",
    "Explanation:\n",
    "\n",
    "- **`===` (strict equality):** Compares both the value and type of the operands. If they are not exactly the same, the result is `false`.\n",
    "  - In this case, `s1` is a string and `s2` is a number, so `s1 === s2` is `false`.\n",
    "\n",
    "- **`==` (loose equality):** Compares the values of the operands, but may perform type conversions if necessary. If the values are equal after conversion, the result is `true`.\n",
    "  - In this case, `s1` and `s2` both represent the value 1, so `s1 == s2` is `true` after `s1` is converted to a number.\n",
    "\n",
    "**Key points:**\n",
    "\n",
    "- **Prefer `===` over `==`** whenever possible to avoid unexpected type conversions.\n",
    "- **Understand the difference between strict and loose equality** to avoid unintended behavior.\n",
    "- **Use `===` for precise comparisons** when you want to ensure that both the value and type are equal.\n",
    "- **Use `==` carefully** when you are aware of potential type conversions and want to compare values regardless of their types."
   ]
  },
  {
   "cell_type": "code",
   "execution_count": 7,
   "id": "69209a88-1ee3-4615-94c5-417510a3fac3",
   "metadata": {},
   "outputs": [
    {
     "name": "stdout",
     "output_type": "stream",
     "text": [
      "is equal false\n",
      "is equal true\n"
     ]
    }
   ],
   "source": [
    "// Equality\n",
    "\n",
    "const s1 = '1';\n",
    "const s2 = 1;\n",
    "\n",
    "console.log(\"is equal\", s1 === s2); // Does not convert (false)\n",
    "console.log(\"is equal\", s1 == s2);   // Converts (true)"
   ]
  },
  {
   "cell_type": "markdown",
   "id": "69cbde3e-bea6-42fc-bee8-44b72452f11f",
   "metadata": {},
   "source": [
    "## **Date** and **Time**"
   ]
  },
  {
   "cell_type": "code",
   "execution_count": 8,
   "id": "f4034661-666a-40c1-995c-a1bf685e1953",
   "metadata": {},
   "outputs": [
    {
     "name": "stdout",
     "output_type": "stream",
     "text": [
      "Current timestamp: 1725011555825\n",
      "Date: Fri Aug 30 2024 13:22:35 GMT+0330 (Iran Standard Time)\n",
      "Timestamp from Date: 1725011555826\n",
      "Fri, 30 Aug 2024 09:52:35 GMT\n",
      "2024-08-30T09:52:35.826Z\n",
      "Date: Sat Aug 17 2024 15:30:00 GMT+0330 (Iran Standard Time)\n",
      "Sat, 17 Aug 2024 12:00:00 GMT\n",
      "Date: Sat Aug 17 2024 15:30:00 GMT+0330 (Iran Standard Time)\n",
      "Timestamp from date: 1723896000000\n",
      "Date from timestamp: Sat Apr 20 2024 04:30:00 GMT+0330 (Iran Standard Time)\n"
     ]
    }
   ],
   "source": [
    "// Working with Date and Time\n",
    "\n",
    "// Get the current timestamp in milliseconds since the Unix epoch (1970-01-01T00:00:00Z) in UTC\n",
    "const timestamp1 = Date.now();\n",
    "console.log('Current timestamp:', timestamp1);\n",
    "\n",
    "// Create a Date object representing the current date and time in the user's locale\n",
    "const date1 = new Date();\n",
    "console.log('Date:', date1.toString());\n",
    "\n",
    "// Get the timestamp in milliseconds from the Date object (converted to UTC)\n",
    "const timestamp2 = date1.getTime();\n",
    "console.log('Timestamp from Date:', timestamp2);\n",
    "\n",
    "// Display the date and time in UTC format\n",
    "console.log(date1.toUTCString());\n",
    "\n",
    "// Display the date and time in ISO 8601 format (UTC)\n",
    "console.log(date1.toISOString());\n",
    "\n",
    "// Create a Date object from a specific date and time in UTC format\n",
    "const byUtcDate = new Date(Date.UTC(2024, 7, 17, 12, 0, 0));  // August is month 7 (0-based)\n",
    "console.log('Date:', byUtcDate.toString());  // Locale datetime\n",
    "console.log(byUtcDate.toUTCString());  // Displays the date and time in UTC\n",
    "\n",
    "// Create a Date object from a string in ISO 8601 format\n",
    "const dateString = '2024-08-17T12:00:00Z';\n",
    "const date2 = new Date(dateString);\n",
    "console.log('Date:', date2.toString());  // Locale datetime\n",
    "\n",
    "// Get the timestamp in milliseconds from the Date object (converted to UTC)\n",
    "const timestamp3 = date2.getTime();\n",
    "console.log('Timestamp from date:', timestamp3);\n",
    "\n",
    "// Create a Date object from a timestamp in milliseconds\n",
    "const timestamp4 = 1713574800000;  // Example timestamp\n",
    "const date3 = new Date(timestamp4);\n",
    "console.log('Date from timestamp:', date3.toString());\n"
   ]
  },
  {
   "cell_type": "code",
   "execution_count": null,
   "id": "f70d80f1-51b7-4fd1-8ceb-a93d2a16f106",
   "metadata": {},
   "outputs": [],
   "source": []
  }
 ],
 "metadata": {
  "kernelspec": {
   "display_name": "JavaScript (Node.js)",
   "language": "javascript",
   "name": "javascript"
  },
  "language_info": {
   "file_extension": ".js",
   "mimetype": "application/javascript",
   "name": "javascript",
   "version": "18.14.2"
  }
 },
 "nbformat": 4,
 "nbformat_minor": 5
}
