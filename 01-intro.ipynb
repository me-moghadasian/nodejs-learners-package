{
 "cells": [
  {
   "cell_type": "markdown",
   "id": "6089efc7-90fb-4df7-8248-a2bfbe183782",
   "metadata": {},
   "source": [
    "# Node.js Learners Package\n",
    "\n",
    "## Description\n",
    "\n",
    "This package offers a concise introduction to Node.js (using JupyterLab), focusing only on the essential concepts and skills. It covers the fundamental topics necessary for understanding and practicing (or reviewing) Node.js, including:\n",
    "\n",
    "- [Introduction](01-intro.ipynb) \n",
    "- [JSON Handling](02-object.ipynb) \n",
    "- [Working with Arrays](03-array.ipynb) \n",
    "- [Working with Maps](04-map.ipynb)\n",
    "- [Working with Sets](05-set.ipynb)\n",
    "- [Function and Lambda](06-function.ipynb)\n",
    "- [Files Operations](07-file.ipynb)\n",
    "- [Async-await, Promise and Event](08-async.ipynb)\n",
    "- [Simple HTTP server](09-http-server.ipynb) + [helper client](09-http-client.ipynb)\n",
    "- [MongoDB](10-mongodb.ipynb) \n",
    "- [Mongoose](11-mongoose.ipynb)\n",
    "- [RESTful API using Express](12-express-server.ipynb) + [helper client](12-express-client.ipynb)\n",
    "\n",
    "## Active Development\n",
    "\n",
    "Please note that this package is *actively being modified and updated*. We are continuously working to improve and expand the content based on feedback and new developments in [Node.js](https://nodejs.org/). New features, topics, and enhancements will be added over time. To ensure you have the *latest dependencies and updates*, you might need to run `npm install` periodically.\n",
    "\n",
    "## Who should use this?\n",
    "\n",
    "This project is designed for **intermediate-level** developers who are looking to deepen their understanding of *core concepts* in [Node.js](https://nodejs.org/) and [JS](https://javascript.com/). It is particularly beneficial for those who want to expand their knowledge, **review general principles**, or gain a broader perspective on [Node.js](https://nodejs.org/) and [JS](https://javascript.com/). If you are an **expert** in this field, you might find the material **NOT** directly applicable to advanced scenarios. However, if you are eager to refresh your foundational skills or explore different approaches, this resource may still offer valuable insights.\n",
    "\n",
    "**NOTE**: please refer to [README](README.md) before using this package."
   ]
  },
  {
   "cell_type": "markdown",
   "id": "bbd3c631-54ea-47f5-a19f-b26fc44c22a7",
   "metadata": {},
   "source": [
    "# Basics of JavaScript and Node.js\n",
    "## Declaring variables"
   ]
  },
  {
   "cell_type": "code",
   "execution_count": 1,
   "id": "74a685f2-799c-4465-9aa7-e6e86287580a",
   "metadata": {
    "editable": true,
    "slideshow": {
     "slide_type": ""
    },
    "tags": []
   },
   "outputs": [
    {
     "name": "stdout",
     "output_type": "stream",
     "text": [
      "undefined\n",
      "5\n",
      "6\n",
      "true\n",
      "true\n",
      "true\n"
     ]
    }
   ],
   "source": [
    "// Working with variables and constants\n",
    "\n",
    "// Constants are variable that cannot be changed once defined.\n",
    "const c = 5; // c is now a constant with the value 5\n",
    "\n",
    "// Variables can be changed.\n",
    "let v; // v is declared but has no value yet; its current value is 'undefined'\n",
    "console.log(v); // Output: undefined (because v has no value)\n",
    "\n",
    "// Assign a value to v\n",
    "v = 5;\n",
    "console.log(v); // Output: 5\n",
    "\n",
    "// Update the value of v\n",
    "v = v + 1;\n",
    "console.log(v); // Output: 6\n",
    "\n",
    "// Special values:\n",
    "\n",
    "// NaN (Not-a-Number): Represents a value that is not a valid number\n",
    "let anan = NaN;\n",
    "console.log(Number.isNaN(anan)); // Output: true (anan is indeed NaN)\n",
    "\n",
    "// Let's use '===' as equality check operator here\n",
    "// null: Represents an empty value or the absence of a value\n",
    "let bnull = null;\n",
    "console.log(bnull === null); // Output: true (bnull is equal to null)\n",
    "\n",
    "// undefined: Represents a variable that has been declared but has no value assigned to it\n",
    "let cund;\n",
    "console.log(cund === undefined); // Output: true (cund is undefined)"
   ]
  },
  {
   "cell_type": "code",
   "execution_count": 2,
   "id": "d5b1e1da-9d3a-4a76-b179-6f126e3a8cff",
   "metadata": {
    "editable": true,
    "slideshow": {
     "slide_type": ""
    },
    "tags": []
   },
   "outputs": [
    {
     "name": "stdout",
     "output_type": "stream",
     "text": [
      "This is v: 6\n",
      "Hello World\n",
      "Hello World\n",
      "Hello 'World'\n",
      "Hello \"World\"\n"
     ]
    }
   ],
   "source": [
    "// String binding\n",
    "\n",
    "// Create a string using template literals\n",
    "let s = `This is v: ${v}`;\n",
    "// The value of v will be inserted into the string\n",
    "console.log(s); // Output: This is v: 6 (assuming v is still 6)\n",
    "\n",
    "// We can also create string like\n",
    "const s1 = \"Hello World\"\n",
    "console.log(s1);\n",
    "// or\n",
    "const s2 = 'Hello World'\n",
    "console.log(s2);\n",
    "// or combine them\n",
    "const s3 = \"Hello 'World'\"\n",
    "console.log(s3);\n",
    "//oe even\n",
    "const s4 = 'Hello \"World\"'\n",
    "console.log(s4);"
   ]
  },
  {
   "cell_type": "markdown",
   "id": "d6d1ec94-d941-40f7-a2ce-b24a471415e6",
   "metadata": {},
   "source": [
    "## **IF** and **SWITCH**"
   ]
  },
  {
   "cell_type": "code",
   "execution_count": 3,
   "id": "8308ba5d-ae3b-4449-a3f0-973d987bebd2",
   "metadata": {},
   "outputs": [
    {
     "name": "stdout",
     "output_type": "stream",
     "text": [
      "If condition was true\n"
     ]
    }
   ],
   "source": [
    "// If and switch\n",
    "\n",
    "// Simple if statement\n",
    "if (5 > 3 && ((2 > 5) || (7 > 0))) { // Use regular '>', '>=', '<', '<=', '===', '!=='\n",
    "    console.log(\"If condition was true\");\n",
    "} else {\n",
    "    console.log(\"If condition was wrong\");\n",
    "}"
   ]
  },
  {
   "cell_type": "code",
   "execution_count": 4,
   "id": "2975dd33-0128-4354-826c-c3c928049a36",
   "metadata": {},
   "outputs": [
    {
     "name": "stdout",
     "output_type": "stream",
     "text": [
      "If condition was wrong\n",
      "If condition was true\n"
     ]
    }
   ],
   "source": [
    "// If statement with an undefined variable [a falsy variable]\n",
    "\n",
    "/*\n",
    "In JavaScript, falsy values are values that are considered false when evaluated in a boolean context, \n",
    "such as in conditionals or loops. There are only a few falsy values:\n",
    "false, 0 (zero), \"\" (an empty string), null, undefined, and NaN (Not-a-Number). \n",
    "All other values, including non-empty strings, objects, and arrays, are considered truthy, \n",
    "meaning they evaluate to true.\n",
    "*/\n",
    "let undv;\n",
    "if (undv) {\n",
    "    console.log(\"If condition was true\");\n",
    "} else {\n",
    "    console.log(\"If condition was wrong\"); // This will be executed\n",
    "}\n",
    "\n",
    "// If statement with a negated undefined variable\n",
    "if (!undv) {\n",
    "    console.log(\"If condition was true\"); // This will be executed\n",
    "} else {\n",
    "    console.log(\"If condition was wrong\");\n",
    "}"
   ]
  },
  {
   "cell_type": "code",
   "execution_count": 5,
   "id": "68be6d61-999b-4636-a913-64edca1c485c",
   "metadata": {},
   "outputs": [
    {
     "name": "stdout",
     "output_type": "stream",
     "text": [
      "Switch condition is B.\n"
     ]
    }
   ],
   "source": [
    "// Switch statement\n",
    "\n",
    "const sc = \"B\";\n",
    "switch (sc) {\n",
    "    case \"A\":\n",
    "        console.log(\"Switch condition is A.\");\n",
    "        break;\n",
    "    case \"B\":\n",
    "        console.log(\"Switch condition is B.\");\n",
    "        break;\n",
    "    default:\n",
    "        console.log(\"Switch condition is default.\");\n",
    "}"
   ]
  },
  {
   "cell_type": "code",
   "execution_count": 6,
   "id": "ca8abb57-97d7-43ae-b3b5-4ff3e45977c6",
   "metadata": {},
   "outputs": [
    {
     "name": "stdout",
     "output_type": "stream",
     "text": [
      "Ternary result: not ok\n",
      "B\n"
     ]
    }
   ],
   "source": [
    "// Ternary operator\n",
    "\n",
    "const ternResult = (\"A\" === \"B\") ? \"ok\" : \"not ok\"; // === used for equal and !== not equal\n",
    "console.log(\"Ternary result:\", ternResult);\n",
    "\n",
    "// Nested ternary operator\n",
    "const score = 85;\n",
    "const grade = score >= 90 ? \"A\" :\n",
    "    score >= 80 ? \"B\" :\n",
    "    score >= 70 ? \"C\" :\n",
    "    score >= 60 ? \"D\" : \"F\";\n",
    "console.log(grade); // Output: 'B'"
   ]
  },
  {
   "cell_type": "markdown",
   "id": "d6eb9bfa-b9d2-4b28-882d-98bd9aeb8715",
   "metadata": {},
   "source": [
    "## Nulish coalescing `??` and logical or `||`\n",
    "In JavaScript, `??` and `||` are shorthand operators used for handling default values and conditional checks:\n",
    "\n",
    "1. **Nullish Coalescing Operator (`??`)**: This operator returns the right-hand operand when the left-hand operand is `null` or `undefined`. It’s useful for providing default values when dealing with potentially missing values.\n",
    "   \n",
    "\n",
    "2. **Logical OR Operator (`||`)**: This operator returns the right-hand operand if the left-hand operand is falsy. It’s used to provide default values or handle cases where the left-hand operand might be any **falsy** value (like `0`, `\"\"`, `false`, `null`, `undefined`, or `NaN`)."
   ]
  },
  {
   "cell_type": "code",
   "execution_count": 7,
   "id": "f0b00fd3-2bd4-4738-88ed-bf3a3861949f",
   "metadata": {
    "editable": true,
    "slideshow": {
     "slide_type": ""
    },
    "tags": []
   },
   "outputs": [
    {
     "name": "stdout",
     "output_type": "stream",
     "text": [
      "name: Tom\n",
      "name: Default Name\n"
     ]
    }
   ],
   "source": [
    "// Here, `name` will be assigned `\"Default Name\"` only if `userInput` is `null` or `undefined`.\n",
    "let userInput = 'Tom'\n",
    "let name = userInput ?? \"Default Name\";\n",
    "console.log(`name: ${name}`)\n",
    "\n",
    "userInput = null // or undefined, or,...\n",
    "name = userInput || \"Default Name\";\n",
    "console.log(`name: ${name}`)"
   ]
  },
  {
   "cell_type": "markdown",
   "id": "6fffa69e-6e63-4693-9d53-ff215802d12b",
   "metadata": {},
   "source": [
    "## **FOR** and **WHILE** loops"
   ]
  },
  {
   "cell_type": "code",
   "execution_count": 8,
   "id": "cf894201-45cd-4be1-b492-77210fdeb818",
   "metadata": {},
   "outputs": [
    {
     "name": "stdout",
     "output_type": "stream",
     "text": [
      "for: 0\n",
      "for: 1\n",
      "for: 2\n",
      "for: 3\n",
      "for: 4\n",
      "while 1: 0\n",
      "while 1: 1\n",
      "while 1: 2\n",
      "while 1: 3\n",
      "while 1: 4\n",
      "while 2: 0\n",
      "while 2: 1\n",
      "while 2: 2\n",
      "while 2: 3\n",
      "while 2: 4\n"
     ]
    },
    {
     "data": {
      "text/plain": [
       "4"
      ]
     },
     "execution_count": 8,
     "metadata": {},
     "output_type": "execute_result"
    }
   ],
   "source": [
    "// Loops\n",
    "\n",
    "// For loop\n",
    "for (let fc = 0; fc < 5; fc++) {\n",
    "    console.log(\"for:\", fc);\n",
    "    // We can use 'break;' and 'continue;' if needed\n",
    "    // Uncomment to break\n",
    "    /*\n",
    "    if (fc === 3) {\n",
    "        break;\n",
    "    }\n",
    "    */\n",
    "}\n",
    "\n",
    "// While loop\n",
    "let whc = 0;\n",
    "while (whc < 5) {\n",
    "    // We can use 'break;' and 'continue;' if needed\n",
    "    // Uncomment to jump over remaining codes\n",
    "    /*\n",
    "    if (whc === 3) {\n",
    "        continue;\n",
    "    }\n",
    "    */\n",
    "    console.log(\"while 1:\", whc);\n",
    "    whc++;\n",
    "}\n",
    "\n",
    "// Do-while loop\n",
    "whc = 0;\n",
    "do {\n",
    "    console.log(\"while 2:\", whc);\n",
    "    whc++;\n",
    "    // We can use 'break;' and 'continue;' if needed\n",
    "} while (whc < 5);"
   ]
  },
  {
   "cell_type": "markdown",
   "id": "2fef46bf-05bf-45f6-bdc2-dd27948ff767",
   "metadata": {},
   "source": [
    "## Exception handling"
   ]
  },
  {
   "cell_type": "code",
   "execution_count": 9,
   "id": "93be430a-3b9e-4c92-887b-64a215478ee8",
   "metadata": {},
   "outputs": [
    {
     "name": "stdout",
     "output_type": "stream",
     "text": [
      "Result: Infinity\n"
     ]
    },
    {
     "name": "stderr",
     "output_type": "stream",
     "text": [
      "Error: Division by zero is not allowed\n"
     ]
    },
    {
     "name": "stdout",
     "output_type": "stream",
     "text": [
      "Finally block executed\n"
     ]
    }
   ],
   "source": [
    "// Handling exceptions\n",
    "\n",
    "try {\n",
    "  const result = 10/0;\n",
    "  console.log(\"Result:\", result);\n",
    "    throw new Error(\"Division by zero is not allowed\"); // Manually throwing an error\n",
    "} catch (error) {\n",
    "  console.error(\"Error:\", error.message);   \n",
    "} finally {\n",
    "  console.log(\"Finally block executed\");\n",
    "}\n"
   ]
  },
  {
   "cell_type": "markdown",
   "id": "6b5b15c4-44ac-45e0-8c8f-200061e7ed94",
   "metadata": {},
   "source": [
    "## Logs\n",
    "\n",
    "Each method logs a message to the console with a different severity level:\n",
    "\n",
    "- **console.log:**  Default logging method for general messages.\n",
    "- **console.info:**  Used for informational messages, often less critical than warnings.\n",
    "- **console.warn:**  Used for warning messages that indicate potential problems.\n",
    "- **console.error:**  Used for error messages indicating serious issues.\n",
    "\n",
    "These methods can be helpful for debugging and monitoring your application's behavior.\n",
    "\n",
    "**Additional notes:**\n",
    "\n",
    "- You can also use template literals (backticks) for more dynamic logging messages:\n",
    "\n",
    "```javascript\n",
    "const name = \"John\";\n",
    "console.log(`Hello, ${name}!`);"
   ]
  },
  {
   "cell_type": "code",
   "execution_count": 10,
   "id": "2baf44de-d575-4f49-8142-c61bbf5b7377",
   "metadata": {
    "editable": true,
    "slideshow": {
     "slide_type": ""
    },
    "tags": []
   },
   "outputs": [
    {
     "name": "stdout",
     "output_type": "stream",
     "text": [
      "log some log\n",
      "log some info\n"
     ]
    },
    {
     "name": "stderr",
     "output_type": "stream",
     "text": [
      "log some warn\n",
      "log some error\n"
     ]
    }
   ],
   "source": [
    "// Logs to console\n",
    "\n",
    "console.log(\"log\", \"some log\");  // Default logging method\n",
    "console.info(\"log\", \"some info\");  // Informational message\n",
    "console.warn(\"log\", \"some warn\");  // Warning message\n",
    "console.error(\"log\", \"some error\"); // Error message"
   ]
  },
  {
   "cell_type": "markdown",
   "id": "119b80fe-a1eb-44dd-8f80-0fce0fe0d993",
   "metadata": {},
   "source": [
    "## Equality notes\n",
    "\n",
    "Explanation:\n",
    "\n",
    "- **`===` (strict equality):** Compares both the value and type of the operands. If they are not exactly the same, the result is `false`.\n",
    "  - In this case, `s1` is a string and `s2` is a number, so `s1 === s2` is `false`.\n",
    "\n",
    "- **`==` (loose equality):** Compares the values of the operands, but may perform type conversions if necessary. If the values are equal after conversion, the result is `true`.\n",
    "  - In this case, `s1` and `s2` both represent the value 1, so `s1 == s2` is `true` after `s1` is converted to a number.\n",
    "\n",
    "**Key points:**\n",
    "\n",
    "- **Prefer `===` over `==`** whenever possible to avoid unexpected type conversions.\n",
    "- **Understand the difference between strict and loose equality** to avoid unintended behavior.\n",
    "- **Use `===` for precise comparisons** when you want to ensure that both the value and type are equal.\n",
    "- **Use `==` carefully** when you are aware of potential type conversions and want to compare values regardless of their types."
   ]
  },
  {
   "cell_type": "code",
   "execution_count": 11,
   "id": "69209a88-1ee3-4615-94c5-417510a3fac3",
   "metadata": {},
   "outputs": [
    {
     "name": "stdout",
     "output_type": "stream",
     "text": [
      "is equal false\n",
      "is equal true\n"
     ]
    }
   ],
   "source": [
    "// Equality\n",
    "\n",
    "const someString = '1';\n",
    "const someInteger = 1;\n",
    "\n",
    "console.log(\"is equal\", someString === someInteger); // Does not convert (false)\n",
    "console.log(\"is equal\", someString == someInteger);   // Converts (true)"
   ]
  },
  {
   "cell_type": "markdown",
   "id": "5f4a0368-594f-4f35-b741-e661566eec01",
   "metadata": {},
   "source": [
    "## Arithmetic operations"
   ]
  },
  {
   "cell_type": "code",
   "execution_count": 12,
   "id": "9de27a72-d5a3-4fc7-a65e-2cac1c8c2abc",
   "metadata": {},
   "outputs": [
    {
     "name": "stdout",
     "output_type": "stream",
     "text": [
      "Sum: 8\n",
      "Difference: 6\n",
      "Product: 14\n",
      "Quotient: 3.3333333333333335\n",
      "Remainder: 2\n",
      "Result: 4\n",
      "Area: 78.53981633974483\n",
      "power: 8\n",
      "roundedDown: 3\n",
      "roundedUp: 4\n",
      "rounded: 4\n",
      "truncated: 3\n",
      "absoluteValue: 5\n",
      "randomNum: 0.5599344174570275\n",
      "maxNumber: 20\n",
      "minNumber: 5\n"
     ]
    }
   ],
   "source": [
    "// Addition\n",
    "const sum = 5 + 3;\n",
    "console.log(\"Sum:\", sum); // Output: Sum: 8\n",
    "\n",
    "// Subtraction\n",
    "const difference = 10 - 4;\n",
    "console.log(\"Difference:\", difference); // Output: Difference: 6\n",
    "\n",
    "// Multiplication\n",
    "const product = 2 * 7;\n",
    "console.log(\"Product:\", product); // Output: Product: 14\n",
    "\n",
    "// Division\n",
    "const quotient = 20 / 6;\n",
    "console.log(\"Quotient:\", quotient); // Output: Quotient: 3.3333333333...\n",
    "\n",
    "// Modulus (remainder)\n",
    "const remainder = 17 % 3;\n",
    "console.log(\"Remainder:\", remainder); // Output: Remainder: 2\n",
    "\n",
    "// Increment and decrement\n",
    "let x = 5;\n",
    "x++; // x becomes 6\n",
    "x--; // x becomes 5\n",
    "\n",
    "let y = 10;\n",
    "--y; // y becomes 9\n",
    "++y; // y becomes 10\n",
    "\n",
    "// Order of operations (PEMDAS)\n",
    "const result = (2 + 3) * 4 / 5;\n",
    "console.log(\"Result:\", result); // Output: Result: 4\n",
    "\n",
    "// Floating-point numbers\n",
    "const radius = 5;\n",
    "const area = Math.PI * radius * radius;\n",
    "console.log(\"Area:\", area); // Output: Area: 78.53975\n",
    "\n",
    "const power = Math.pow(2, 3); // 2 raised to the power of 3\n",
    "console.log(\"power:\", power); // Output: 8\n",
    "\n",
    "// Math.floor() rounds down to the nearest integer\n",
    "const roundedDown = Math.floor(3.7);\n",
    "console.log(\"roundedDown:\", roundedDown); // Output: roundedDown: 3\n",
    "\n",
    "// Math.ceil() rounds up to the nearest integer\n",
    "const roundedUp = Math.ceil(3.7);\n",
    "console.log(\"roundedUp:\", roundedUp); // Output: roundedUp: 4\n",
    "\n",
    "// Math.round() rounds to the nearest integer, rounding half up\n",
    "const rounded = Math.round(3.5);\n",
    "console.log(\"rounded:\", rounded); // Output: rounded: 4\n",
    "\n",
    "// Math.trunc() truncates the decimal part of a number\n",
    "const truncated = Math.trunc(3.7);\n",
    "console.log(\"truncated:\", truncated); // Output: truncated: 3\n",
    "\n",
    "// Math.abs() returns the absolute value of a number\n",
    "const absoluteValue = Math.abs(-5);\n",
    "console.log(\"absoluteValue:\", absoluteValue); // Output: absoluteValue: 5\n",
    "\n",
    "// Math.random() returns a random floating-point number between 0 and 1\n",
    "const randomNum = Math.random();\n",
    "console.log(\"randomNum:\", randomNum); // Output: randomNum: 0.3456789 (example)\n",
    "\n",
    "// Math.max() returns the largest number from a set of numbers\n",
    "const maxNumber = Math.max(10, 5, 20);\n",
    "console.log(\"maxNumber:\", maxNumber); // Output: maxNumber: 20\n",
    "\n",
    "// Math.min() returns the smallest number from a set of numbers\n",
    "const minNumber = Math.min(10, 5, 20);\n",
    "console.log(\"minNumber:\", minNumber); // Output: minNumber: 5"
   ]
  },
  {
   "cell_type": "markdown",
   "id": "69cbde3e-bea6-42fc-bee8-44b72452f11f",
   "metadata": {},
   "source": [
    "## **Date** and **Time**"
   ]
  },
  {
   "cell_type": "code",
   "execution_count": 13,
   "id": "f4034661-666a-40c1-995c-a1bf685e1953",
   "metadata": {},
   "outputs": [
    {
     "name": "stdout",
     "output_type": "stream",
     "text": [
      "Current timestamp: 1725547052048\n",
      "Date: Thu Sep 05 2024 18:07:32 GMT+0330 (Iran Standard Time)\n",
      "Timestamp from Date: 1725547052048\n",
      "Thu, 05 Sep 2024 14:37:32 GMT\n",
      "2024-09-05T14:37:32.048Z\n",
      "Date: Sat Aug 17 2024 15:30:00 GMT+0330 (Iran Standard Time)\n",
      "Sat, 17 Aug 2024 12:00:00 GMT\n",
      "Date: Sat Aug 17 2024 15:30:00 GMT+0330 (Iran Standard Time)\n",
      "Timestamp from date: 1723896000000\n",
      "Date from timestamp: Sat Apr 20 2024 04:30:00 GMT+0330 (Iran Standard Time)\n"
     ]
    }
   ],
   "source": [
    "// Working with Date and Time\n",
    "\n",
    "// Get the current timestamp in milliseconds since the Unix epoch (1970-01-01T00:00:00Z) in UTC\n",
    "const timestamp1 = Date.now();\n",
    "console.log('Current timestamp:', timestamp1);\n",
    "\n",
    "// Create a Date object representing the current date and time in the user's locale\n",
    "const date1 = new Date();\n",
    "console.log('Date:', date1.toString());\n",
    "\n",
    "// Get the timestamp in milliseconds from the Date object (converted to UTC)\n",
    "const timestamp2 = date1.getTime();\n",
    "console.log('Timestamp from Date:', timestamp2);\n",
    "\n",
    "// Display the date and time in UTC format\n",
    "console.log(date1.toUTCString());\n",
    "\n",
    "// Display the date and time in ISO 8601 format (UTC)\n",
    "console.log(date1.toISOString());\n",
    "\n",
    "// Create a Date object from a specific date and time in UTC format\n",
    "const byUtcDate = new Date(Date.UTC(2024, 7, 17, 12, 0, 0));  // August is month 7 (0-based)\n",
    "console.log('Date:', byUtcDate.toString());  // Locale datetime\n",
    "console.log(byUtcDate.toUTCString());  // Displays the date and time in UTC\n",
    "\n",
    "// Create a Date object from a string in ISO 8601 format\n",
    "const dateString = '2024-08-17T12:00:00Z';\n",
    "const date2 = new Date(dateString);\n",
    "console.log('Date:', date2.toString());  // Locale datetime\n",
    "\n",
    "// Get the timestamp in milliseconds from the Date object (converted to UTC)\n",
    "const timestamp3 = date2.getTime();\n",
    "console.log('Timestamp from date:', timestamp3);\n",
    "\n",
    "// Create a Date object from a timestamp in milliseconds\n",
    "const timestamp4 = 1713574800000;  // Example timestamp\n",
    "const date3 = new Date(timestamp4);\n",
    "console.log('Date from timestamp:', date3.toString());\n"
   ]
  }
 ],
 "metadata": {
  "kernelspec": {
   "display_name": "JavaScript (Node.js)",
   "language": "javascript",
   "name": "javascript"
  },
  "language_info": {
   "file_extension": ".js",
   "mimetype": "application/javascript",
   "name": "javascript",
   "version": "18.14.2"
  }
 },
 "nbformat": 4,
 "nbformat_minor": 5
}
