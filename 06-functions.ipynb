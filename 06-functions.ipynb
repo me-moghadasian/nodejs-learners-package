{
 "cells": [
  {
   "cell_type": "markdown",
   "id": "dc5d3b83-dd92-4e02-b7f4-0aa14d3df264",
   "metadata": {},
   "source": [
    "# Working with function"
   ]
  },
  {
   "cell_type": "code",
   "execution_count": 6,
   "id": "b391e597-f7c4-4222-8457-cc691f912cac",
   "metadata": {
    "editable": true,
    "slideshow": {
     "slide_type": ""
    },
    "tags": []
   },
   "outputs": [
    {
     "name": "stdout",
     "output_type": "stream",
     "text": [
      "Function param:  10\n",
      "Function result:  15\n",
      "Lambda function param:  10\n",
      "Lambda function result:  15\n"
     ]
    }
   ],
   "source": [
    "// Simple functions\n",
    "function fun1(a) {\n",
    "    console.log('Function param: ', a);\n",
    "    const res = a + 5;\n",
    "    return res;\n",
    "}\n",
    "console.log('Function result: ', fun1(10));\n",
    "\n",
    "// Creating function ref as a variable\n",
    "const fun2 = (a) => {\n",
    "    console.log('Lambda function param: ', a);\n",
    "    const res = a + 5;\n",
    "    return res;\n",
    "}\n",
    "console.log('Lambda function result: ', fun2(10));"
   ]
  },
  {
   "cell_type": "code",
   "execution_count": 7,
   "id": "e2417c31-808b-4e27-b276-8316317726c4",
   "metadata": {},
   "outputs": [
    {
     "name": "stdout",
     "output_type": "stream",
     "text": [
      "High-order function param:  10\n",
      "Lambda function param:  10\n",
      "High order function result:  25\n"
     ]
    }
   ],
   "source": [
    "// High order functions 1\n",
    "function fun3(a, someFun) {\n",
    "    console.log('High-order function param: ', a);\n",
    "    const res = a + someFun(a);\n",
    "    return res;\n",
    "}\n",
    "console.log('High order function result: ', fun3(10, fun2));"
   ]
  },
  {
   "cell_type": "code",
   "execution_count": 8,
   "id": "2f2a023e-ba81-40a0-b9b9-60c93ae8b0dc",
   "metadata": {
    "editable": true,
    "slideshow": {
     "slide_type": ""
    },
    "tags": []
   },
   "outputs": [
    {
     "name": "stdout",
     "output_type": "stream",
     "text": [
      "High-order function param:  10\n",
      "High order function result 2:  30\n"
     ]
    }
   ],
   "source": [
    "// High order functions 2\n",
    "console.log('High order function result 2: ', \n",
    "            fun3(10, (u) => {\n",
    "                return u*2;\n",
    "            }));"
   ]
  },
  {
   "cell_type": "code",
   "execution_count": 9,
   "id": "9d77ca27-ad28-4c14-838e-4ccd4dc2ee2b",
   "metadata": {
    "editable": true,
    "slideshow": {
     "slide_type": ""
    },
    "tags": []
   },
   "outputs": [
    {
     "name": "stdout",
     "output_type": "stream",
     "text": [
      "fun4 outputs:  1 2 4\n"
     ]
    }
   ],
   "source": [
    "// Functions output 1\n",
    "function fun4() {\n",
    "    return [1, 2, 3, 4];\n",
    "}\n",
    "const [ra1, ra2, ,ra4] = fun4();\n",
    "console.log('fun4 outputs: ', ra1, ra2, ra4);"
   ]
  },
  {
   "cell_type": "code",
   "execution_count": 10,
   "id": "63a3597b-382c-498a-b698-863a9d094132",
   "metadata": {
    "editable": true,
    "slideshow": {
     "slide_type": ""
    },
    "tags": []
   },
   "outputs": [
    {
     "name": "stdout",
     "output_type": "stream",
     "text": [
      "fun5 outputs:  1 3\n"
     ]
    }
   ],
   "source": [
    "// Functions output 1\n",
    "function fun5() {\n",
    "    return {a: 1, b: 2, c: 3};\n",
    "}\n",
    "const {a, c} = fun5();\n",
    "console.log('fun5 outputs: ', a, c);"
   ]
  },
  {
   "cell_type": "code",
   "execution_count": 2,
   "id": "ad341c46-229a-454d-b1c9-69e815a76aff",
   "metadata": {},
   "outputs": [
    {
     "name": "stdout",
     "output_type": "stream",
     "text": [
      "fun6 output:  4\n"
     ]
    }
   ],
   "source": [
    "// Simple lambda 1\n",
    "const fun6 = (a, b) => a + b\n",
    "console.log('fun6 output: ', fun6(1, 3));"
   ]
  },
  {
   "cell_type": "code",
   "execution_count": 4,
   "id": "3142f1d7-9d68-4c34-beb4-9538543c474f",
   "metadata": {},
   "outputs": [
    {
     "name": "stdout",
     "output_type": "stream",
     "text": [
      "fun7 output:  6\n"
     ]
    }
   ],
   "source": [
    "// Simple lambda 2\n",
    "const fun7 = a => a + 5\n",
    "console.log('fun7 output: ', fun7(1));"
   ]
  },
  {
   "cell_type": "code",
   "execution_count": null,
   "id": "bf256b40-77c8-469e-9fd5-13147e7b8842",
   "metadata": {
    "editable": true,
    "slideshow": {
     "slide_type": ""
    },
    "tags": []
   },
   "outputs": [],
   "source": []
  }
 ],
 "metadata": {
  "kernelspec": {
   "display_name": "JavaScript (Node.js)",
   "language": "javascript",
   "name": "javascript"
  },
  "language_info": {
   "file_extension": ".js",
   "mimetype": "application/javascript",
   "name": "javascript",
   "version": "18.14.2"
  }
 },
 "nbformat": 4,
 "nbformat_minor": 5
}
