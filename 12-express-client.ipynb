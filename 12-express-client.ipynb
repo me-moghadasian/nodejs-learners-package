{
 "cells": [
  {
   "cell_type": "markdown",
   "id": "3da13fa2-bbeb-42f9-82ca-d339eaa10a48",
   "metadata": {},
   "source": [
    "# Creating a client for express server using axios\n",
    "\n",
    "- By using this file you can connect to the server that is created in 9-http-client.ipynb.\n",
    "- You should use both notebooks [server](12-express-server.ipynb) and [client](12-express-client.ipynb) along with each other.\n",
    "\n",
    "**NOTE**: The server should already started in [server](12-express-server.ipynb)."
   ]
  },
  {
   "cell_type": "code",
   "execution_count": 1,
   "id": "8ff3ac2c-5001-45dd-92bb-6fa7f4117678",
   "metadata": {},
   "outputs": [],
   "source": [
    "const fs = require('fs');\n",
    "const path = require('path');\n",
    "const axios = require('axios');"
   ]
  },
  {
   "cell_type": "markdown",
   "id": "289f04ab-618f-4169-ba06-1989966cbc5a",
   "metadata": {},
   "source": [
    "## Adding some helper functions and variables"
   ]
  },
  {
   "cell_type": "code",
   "execution_count": 2,
   "id": "fba2b186-88e9-4fce-b076-50e6f35a93e2",
   "metadata": {},
   "outputs": [],
   "source": [
    "const cwd = process.cwd(); // Gats the current working directory\n",
    "const port = 5678;"
   ]
  },
  {
   "cell_type": "markdown",
   "id": "5d73d09e-38c0-4864-b44b-72bbafb4a9bf",
   "metadata": {},
   "source": [
    "## Sending simple GET requests"
   ]
  },
  {
   "cell_type": "code",
   "execution_count": 13,
   "id": "444d83a6-0126-4afd-98f6-c25962722dcd",
   "metadata": {},
   "outputs": [
    {
     "data": {
      "text/plain": [
       "Promise { <pending> }"
      ]
     },
     "execution_count": 13,
     "metadata": {},
     "output_type": "execute_result"
    },
    {
     "name": "stderr",
     "output_type": "stream",
     "text": [
      "There was a problem with the request: Request failed with status code 401 { message: 'No token provided' }\n"
     ]
    }
   ],
   "source": [
    "// Sends simple GET request using axios\n",
    "axios({\n",
    "    method: 'GET',\n",
    "    url: `http://localhost:${port}/users/profile/`,\n",
    "    responseType: 'json'\n",
    "}).then(response => {\n",
    "    console.log('Data received:', response.data);\n",
    "})\n",
    ".catch(error => {\n",
    "    console.error('There was a problem with the request:', error.message, error.response.data);\n",
    "});"
   ]
  },
  {
   "cell_type": "code",
   "execution_count": null,
   "id": "ebaf3adf-48cf-4986-8747-c87138999c17",
   "metadata": {},
   "outputs": [],
   "source": []
  }
 ],
 "metadata": {
  "kernelspec": {
   "display_name": "JavaScript (Node.js)",
   "language": "javascript",
   "name": "javascript"
  },
  "language_info": {
   "file_extension": ".js",
   "mimetype": "application/javascript",
   "name": "javascript",
   "version": "18.14.2"
  }
 },
 "nbformat": 4,
 "nbformat_minor": 5
}
