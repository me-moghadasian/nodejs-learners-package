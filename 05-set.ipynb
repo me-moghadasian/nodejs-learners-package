{
 "cells": [
  {
   "cell_type": "markdown",
   "id": "822a4d83-8154-4fd9-97c2-aa4a6b1556e6",
   "metadata": {},
   "source": [
    "# Working with sets"
   ]
  },
  {
   "cell_type": "markdown",
   "id": "c2b3cc46-e613-43be-a455-7422ecf862f5",
   "metadata": {},
   "source": [
    "## Creating and modifying sets"
   ]
  },
  {
   "cell_type": "code",
   "execution_count": 1,
   "id": "4aefd31b-67f1-4f99-817d-06963c081ccc",
   "metadata": {
    "editable": true,
    "slideshow": {
     "slide_type": ""
    },
    "tags": []
   },
   "outputs": [
    {
     "name": "stdout",
     "output_type": "stream",
     "text": [
      "set1 size: 4\n",
      "set1: Set(3) { 'a', 'c', 'd' }\n",
      "set1 has \"a\": true\n",
      "set1 size: 0\n",
      "[ 'a', 'b', 'c' ]\n"
     ]
    }
   ],
   "source": [
    "// Sets: defining\n",
    "\n",
    "const set1 = new Set(['a', 'b', 'c']); // Create a new Set with initial elements\n",
    "set1.add('d'); // Add a new element\n",
    "\n",
    "console.log('set1 size:', set1.size); // Get the size of the set\n",
    "\n",
    "set1.delete('b'); // Delete an element\n",
    "console.log('set1:', set1); // Log the set\n",
    "\n",
    "console.log('set1 has \"a\":', set1.has('a')); // Check if the set contains an element\n",
    "\n",
    "set1.clear(); // Clear the set\n",
    "console.log('set1 size:', set1.size); // Log the size of the empty set\n",
    "\n",
    "const set2 = new Set(['a', 'b', 'c']);\n",
    "\n",
    "// Unpack the Set into an array of elements\n",
    "const entries = [...set2];\n",
    "console.log(entries); // Output: ['a', 'b', 'c']"
   ]
  },
  {
   "cell_type": "markdown",
   "id": "d642b678-6ee9-4f07-87d1-be06700d8448",
   "metadata": {},
   "source": [
    "## Looping and iterations on sets"
   ]
  },
  {
   "cell_type": "code",
   "execution_count": 2,
   "id": "e28e4de0-5a54-4344-a449-eec4ea3f1dd1",
   "metadata": {
    "editable": true,
    "slideshow": {
     "slide_type": ""
    },
    "tags": []
   },
   "outputs": [
    {
     "name": "stdout",
     "output_type": "stream",
     "text": [
      "set items: a\n",
      "set items: b\n",
      "set items: c\n",
      "set keys: a\n",
      "set keys: b\n",
      "set keys: c\n",
      "set values: a\n",
      "set values: b\n",
      "set values: c\n",
      "set values: a\n",
      "set values: b\n",
      "set values: c\n"
     ]
    }
   ],
   "source": [
    "// Sets: iteration\n",
    "\n",
    "for (const e of set2) {\n",
    "    console.log('set items:', e); // Output: set items: a, set items: b, set items: c\n",
    "}\n",
    "\n",
    "for (const e of set2.keys()) {\n",
    "    console.log('set keys:', e); // Output: set keys: a, set keys: b, set keys: c\n",
    "}\n",
    "\n",
    "for (const e of set2.values()) {\n",
    "    console.log('set values:', e); // Output: set values: a, set values: b, set values: c\n",
    "}\n",
    "\n",
    "set2.forEach(v => console.log('set values:', v)); // Output: set values: a, set values: b, set values: c"
   ]
  },
  {
   "cell_type": "code",
   "execution_count": null,
   "id": "2010588e-d0f0-4424-ac9f-a61a625ecaa9",
   "metadata": {},
   "outputs": [],
   "source": []
  }
 ],
 "metadata": {
  "kernelspec": {
   "display_name": "JavaScript (Node.js)",
   "language": "javascript",
   "name": "javascript"
  },
  "language_info": {
   "file_extension": ".js",
   "mimetype": "application/javascript",
   "name": "javascript",
   "version": "18.14.2"
  }
 },
 "nbformat": 4,
 "nbformat_minor": 5
}
