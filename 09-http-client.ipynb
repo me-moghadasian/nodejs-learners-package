{
 "cells": [
  {
   "cell_type": "markdown",
   "id": "fe3850fe-814e-4885-8097-4981d81b30f5",
   "metadata": {},
   "source": [
    "# Creating a client using axios and fetch method\n",
    "\n",
    "- By using this file you can connect to the server that is created in 9-http-client.ipynb.\n",
    "- You should use both notebooks [server](09-http-server.ipynb) and [client](09-http-client.ipynb) along with each other.\n",
    "\n",
    "**NOTE**: The server should already started in 9-http-client.ipynb."
   ]
  },
  {
   "cell_type": "code",
   "execution_count": 1,
   "id": "bb6eb041-a83d-4fe0-b40a-20011cae8b95",
   "metadata": {},
   "outputs": [],
   "source": [
    "const fs = require('fs');\n",
    "const path = require('path');\n",
    "const axios = require('axios');"
   ]
  },
  {
   "cell_type": "markdown",
   "id": "e1cc08fb-3828-4102-bcd7-eb845ea1e49d",
   "metadata": {},
   "source": [
    "## Adding some helper functions and variables"
   ]
  },
  {
   "cell_type": "code",
   "execution_count": 2,
   "id": "a7cd2029-7816-4ddc-9edf-0960e3fe9389",
   "metadata": {},
   "outputs": [],
   "source": [
    "const cwd = process.cwd(); // Gats the current working directory"
   ]
  },
  {
   "cell_type": "markdown",
   "id": "f4c589db-a16d-4301-84bb-9d19c5a51522",
   "metadata": {},
   "source": [
    "## Sending simple GET requests by *fetch* and *axios*"
   ]
  },
  {
   "cell_type": "code",
   "execution_count": 13,
   "id": "38e4b159-35a8-400b-bb5f-0cbfb9cbf85b",
   "metadata": {
    "editable": true,
    "slideshow": {
     "slide_type": ""
    },
    "tags": []
   },
   "outputs": [
    {
     "data": {
      "text/plain": [
       "Promise { <pending> }"
      ]
     },
     "execution_count": 13,
     "metadata": {},
     "output_type": "execute_result"
    },
    {
     "name": "stdout",
     "output_type": "stream",
     "text": [
      "Data received: Hello World pathname: \"/some-path/\", query: \"{}\"\n"
     ]
    }
   ],
   "source": [
    "// Sends a simple GET request using fetch\n",
    "fetch('http://localhost:1234/some-path/', {\n",
    "    method: 'GET'\n",
    "}).then(response => {\n",
    "    if (!response.ok) {\n",
    "        throw new Error('Network response was not ok');\n",
    "    }\n",
    "    return response.text(); // or response.json() if you expect JSON data\n",
    "})\n",
    ".then(data => {\n",
    "    console.log('Data received:', data);\n",
    "})\n",
    ".catch(error => {\n",
    "    console.error('There was a problem with the fetch operation:', error);\n",
    "});"
   ]
  },
  {
   "cell_type": "code",
   "execution_count": 14,
   "id": "09a652a4-d8c7-4737-bc2b-b45d99dc9eda",
   "metadata": {},
   "outputs": [
    {
     "data": {
      "text/plain": [
       "Promise { <pending> }"
      ]
     },
     "execution_count": 14,
     "metadata": {},
     "output_type": "execute_result"
    },
    {
     "name": "stdout",
     "output_type": "stream",
     "text": [
      "Data received: Hello World pathname: \"/some-path/\", query: \"{}\"\n"
     ]
    }
   ],
   "source": [
    "// Sends simple GET request using axios\n",
    "axios({\n",
    "    method: 'GET',\n",
    "    url: 'http://localhost:1234/some-path/',\n",
    "    responseType: 'text'\n",
    "}).then(response => {\n",
    "    if (response.status != 200) {\n",
    "        throw new Error('Network response was not ok');\n",
    "    }\n",
    "    \n",
    "    console.log('Data received:', response.data);\n",
    "})\n",
    ".catch(error => {\n",
    "    console.error('There was a problem with the request:', error.message);\n",
    "});"
   ]
  },
  {
   "cell_type": "markdown",
   "id": "05b94e87-15b2-4894-91bb-932ca69bad9b",
   "metadata": {},
   "source": [
    "## Getting simple json data by GET request"
   ]
  },
  {
   "cell_type": "code",
   "execution_count": 15,
   "id": "07711e1d-0c27-41a5-b473-e2ad19e37140",
   "metadata": {
    "editable": true,
    "slideshow": {
     "slide_type": ""
    },
    "tags": []
   },
   "outputs": [
    {
     "data": {
      "text/plain": [
       "Promise { <pending> }"
      ]
     },
     "execution_count": 15,
     "metadata": {},
     "output_type": "execute_result"
    },
    {
     "name": "stdout",
     "output_type": "stream",
     "text": [
      "Data received: {\n",
      "  name: 'John',\n",
      "  age: 30,\n",
      "  city: 'New York',\n",
      "  responseTimestamp: 1724331832813\n",
      "}\n"
     ]
    }
   ],
   "source": [
    "// Getting simple JSON data using fetch\n",
    "fetch('http://localhost:1234/json-response/', {\n",
    "    method: 'GET'\n",
    "}).then(response => {\n",
    "    if (!response.ok) {\n",
    "        throw new Error('Network response was not ok');\n",
    "    }\n",
    "    return response.json(); // or response.json() if you expect JSON data\n",
    "})\n",
    ".then(data => {\n",
    "    console.log('Data received:', data);\n",
    "})\n",
    ".catch(error => {\n",
    "    console.error('There was a problem with the fetch operation:', error);\n",
    "});"
   ]
  },
  {
   "cell_type": "code",
   "execution_count": 16,
   "id": "3bdda2ca-2418-4d7c-9c83-c88b284c21db",
   "metadata": {},
   "outputs": [
    {
     "data": {
      "text/plain": [
       "Promise { <pending> }"
      ]
     },
     "execution_count": 16,
     "metadata": {},
     "output_type": "execute_result"
    },
    {
     "name": "stdout",
     "output_type": "stream",
     "text": [
      "Data received: {\n",
      "  name: 'John',\n",
      "  age: 30,\n",
      "  city: 'New York',\n",
      "  responseTimestamp: 1724331833404\n",
      "}\n"
     ]
    }
   ],
   "source": [
    "// Getting simple JSON data using axios\n",
    "axios({\n",
    "    method: 'GET',\n",
    "    url: 'http://localhost:1234/json-response/',\n",
    "    responseType: 'json'\n",
    "}).then(response => {\n",
    "    if (response.status != 200) {\n",
    "        throw new Error('Network response was not ok');\n",
    "    }\n",
    "    \n",
    "    console.log('Data received:', response.data);\n",
    "})\n",
    ".catch(error => {\n",
    "    console.error('There was a problem with the request:', error.message);\n",
    "});"
   ]
  },
  {
   "cell_type": "code",
   "execution_count": 17,
   "id": "2cdeb9b7-a7dc-45c8-9750-6dbf0f22d344",
   "metadata": {},
   "outputs": [
    {
     "data": {
      "text/plain": [
       "Promise { <pending> }"
      ]
     },
     "execution_count": 17,
     "metadata": {},
     "output_type": "execute_result"
    },
    {
     "name": "stdout",
     "output_type": "stream",
     "text": [
      "Data received: { name: 'John', age: 30, city: 'New York' }\n",
      "File saved successfully!\n"
     ]
    }
   ],
   "source": [
    "// Getting JSON data as file using fetch\n",
    "fetch('http://localhost:1234/download-data/', {\n",
    "    method: 'GET'\n",
    "})\n",
    ".then(response => {\n",
    "    if (!response.ok) {\n",
    "        throw new Error('Network response was not ok');\n",
    "    }\n",
    "    return response.arrayBuffer(); // Use arrayBuffer() for binary data\n",
    "})\n",
    ".then(arrayBuffer => {\n",
    "    const buffer = Buffer.from(arrayBuffer);\n",
    "    const textDecoder = new TextDecoder();\n",
    "    const text = textDecoder.decode(buffer);\n",
    "    \n",
    "    // Parse the text as JSON\n",
    "    const data = JSON.parse(text);\n",
    "    console.log('Data received:', data);\n",
    "\n",
    "    // Save the binary data to a file: Good for small files\n",
    "    const downloadFileFullAbsolutePath = path.join(cwd, 'downloads', 'server-download-data.json')\n",
    "    fs.writeFile(downloadFileFullAbsolutePath, buffer, (err) => {\n",
    "        if (err) {\n",
    "            console.error('Error writing file:', err);\n",
    "        } else {\n",
    "            console.log('File saved successfully!');\n",
    "        }\n",
    "    });\n",
    "})\n",
    ".catch(error => {\n",
    "    console.error('There was a problem with the fetch operation:', error);\n",
    "});"
   ]
  },
  {
   "cell_type": "code",
   "execution_count": 18,
   "id": "bd8e2682-11e5-4027-8f3c-cf02bee7210c",
   "metadata": {},
   "outputs": [
    {
     "data": {
      "text/plain": [
       "Promise { <pending> }"
      ]
     },
     "execution_count": 18,
     "metadata": {},
     "output_type": "execute_result"
    },
    {
     "name": "stdout",
     "output_type": "stream",
     "text": [
      "Data received: { name: 'John', age: 30, city: 'New York' }\n",
      "File saved successfully!\n"
     ]
    }
   ],
   "source": [
    "// Getting JSON data as file using axios\n",
    "axios({\n",
    "    method: 'GET',\n",
    "    url: 'http://localhost:1234/download-data/',\n",
    "    responseType: 'arrayBuffer'\n",
    "}).then(response => {\n",
    "    if (response.status != 200) {\n",
    "        throw new Error('Network response was not ok');\n",
    "    }\n",
    "    \n",
    "    const buffer = Buffer.from(response.data);\n",
    "    const textDecoder = new TextDecoder();\n",
    "    const text = textDecoder.decode(buffer);\n",
    "   \n",
    "    \n",
    "    // Parse the text as JSON\n",
    "    const data = JSON.parse(text);\n",
    "    console.log('Data received:', data);\n",
    "\n",
    "    // Save the binary data to a file\n",
    "    const downloadFileFullAbsolutePath = path.join(__dirname, 'downloads', 'server-download-data.json');\n",
    "    fs.writeFile(downloadFileFullAbsolutePath, buffer, (err) => {\n",
    "        if (err) {\n",
    "            console.error('Error writing file:', err);\n",
    "        } else {\n",
    "            console.log('File saved successfully!');\n",
    "        }\n",
    "    });\n",
    "})\n",
    ".catch(error => {\n",
    "    console.error('There was a problem with the request:', error.message);\n",
    "});"
   ]
  },
  {
   "cell_type": "markdown",
   "id": "cb98a716-d3a6-451e-b4f0-e750fb51b9e7",
   "metadata": {},
   "source": [
    "## Sending request and getting simple json data by POST method"
   ]
  },
  {
   "cell_type": "code",
   "execution_count": 24,
   "id": "d88360c8-e749-4662-a954-3629eb3d17e0",
   "metadata": {},
   "outputs": [
    {
     "data": {
      "text/plain": [
       "Promise { <pending> }"
      ]
     },
     "execution_count": 24,
     "metadata": {},
     "output_type": "execute_result"
    },
    {
     "name": "stdout",
     "output_type": "stream",
     "text": [
      "Data received: {\n",
      "  message: 'Hello World',\n",
      "  pathname: '/some-path/',\n",
      "  params: {\n",
      "    host: 'localhost:1234',\n",
      "    connection: 'keep-alive',\n",
      "    'content-type': 'application/json',\n",
      "    authorization: 'Bearer SOME_ACCESS_TOKEN',\n",
      "    'custom-header': 'CustomHeaderValue',\n",
      "    accept: '*/*',\n",
      "    'accept-language': '*',\n",
      "    'sec-fetch-mode': 'cors',\n",
      "    'user-agent': 'undici',\n",
      "    'accept-encoding': 'gzip, deflate',\n",
      "    'content-length': '27'\n",
      "  },\n",
      "  body: { clientKey: 'clientValue' }\n",
      "}\n"
     ]
    }
   ],
   "source": [
    "// Getting simple JSON data using fetch\n",
    "fetch('http://localhost:1234/some-path/', {\n",
    "    method: 'POST', // Specifies the request method\n",
    "    headers: {\n",
    "        'Content-Type': 'application/json', // Set the content type of the request body\n",
    "        'Authorization': 'Bearer SOME_ACCESS_TOKEN', // Add an authorization token if needed\n",
    "        'Custom-Header': 'CustomHeaderValue' // Add any other custom headers\n",
    "    },\n",
    "    body: JSON.stringify({\n",
    "        clientKey: 'clientValue' // JSON data to be sent in the body\n",
    "    })\n",
    "})\n",
    ".then(response => {\n",
    "    // Check if the response status is OK (status code in the range 200-299)\n",
    "    if (!response.ok) {\n",
    "        throw new Error('Network response was not ok');\n",
    "    }\n",
    "    // Parse the JSON response\n",
    "    return response.json();\n",
    "})\n",
    ".then(data => {\n",
    "    // Handle the JSON data received from the server\n",
    "    console.log('Data received:', data);\n",
    "})\n",
    ".catch(error => {\n",
    "    // Handle any errors that occurred during the fetch operation\n",
    "    console.error('There was a problem with the fetch operation:', error);\n",
    "});\n"
   ]
  },
  {
   "cell_type": "code",
   "execution_count": 23,
   "id": "cc03f1dd-062c-4bda-8e31-6a332f469af4",
   "metadata": {},
   "outputs": [
    {
     "data": {
      "text/plain": [
       "Promise { <pending> }"
      ]
     },
     "execution_count": 23,
     "metadata": {},
     "output_type": "execute_result"
    },
    {
     "name": "stdout",
     "output_type": "stream",
     "text": [
      "Data received: {\n",
      "  message: 'Hello World',\n",
      "  pathname: '/some-path/',\n",
      "  params: {\n",
      "    accept: 'application/json, text/plain, */*',\n",
      "    'content-type': 'application/json',\n",
      "    authorization: 'Bearer SOME_ACCESS_TOKEN',\n",
      "    'custom-header': 'CustomHeaderValue',\n",
      "    'user-agent': 'axios/1.7.4',\n",
      "    'content-length': '27',\n",
      "    'accept-encoding': 'gzip, compress, deflate, br',\n",
      "    host: 'localhost:1234',\n",
      "    connection: 'close'\n",
      "  },\n",
      "  body: { clientKey: 'clientValue' }\n",
      "}\n"
     ]
    }
   ],
   "source": [
    "// Getting simple JSON data using axios\n",
    "axios({\n",
    "    method: 'POST', // Specifies the HTTP method\n",
    "    url: 'http://localhost:1234/some-path/', // The URL to which the request is sent\n",
    "    headers: {\n",
    "        'Content-Type': 'application/json', // Set the content type of the request body\n",
    "        'Authorization': 'Bearer SOME_ACCESS_TOKEN', // Add an authorization token if needed\n",
    "        'Custom-Header': 'CustomHeaderValue' // Add any other custom headers\n",
    "    },\n",
    "    data: {\n",
    "        clientKey: 'clientValue' // JSON data to be sent in the body\n",
    "    },\n",
    "    responseType: 'json'\n",
    "})\n",
    ".then(response => {\n",
    "    // Handle the JSON data received from the server\n",
    "    console.log('Data received:', response.data);\n",
    "})\n",
    ".catch(error => {\n",
    "    // Handle any errors that occurred during the request\n",
    "    console.error('There was a problem with the axios operation:', error);\n",
    "});"
   ]
  },
  {
   "cell_type": "markdown",
   "id": "23d421fa-1c06-44a1-ad52-063c633e0948",
   "metadata": {},
   "source": [
    "## Downloading PNG file from the server by GET method\n",
    "**NOTE:** Find the downloaded file in *./downloads/*"
   ]
  },
  {
   "cell_type": "code",
   "execution_count": 9,
   "id": "92d67bb2-41f5-4ac7-956d-313a816e0254",
   "metadata": {},
   "outputs": [
    {
     "data": {
      "text/plain": [
       "Promise { <pending> }"
      ]
     },
     "execution_count": 9,
     "metadata": {},
     "output_type": "execute_result"
    },
    {
     "name": "stdout",
     "output_type": "stream",
     "text": [
      "File saved successfully!\n"
     ]
    }
   ],
   "source": [
    "// Downloading PNG file using axios\n",
    "axios({\n",
    "    method: 'GET',\n",
    "    url: 'http://localhost:1234/download-image/',\n",
    "    responseType: 'stream' // can be stream, json, text, arraybuffer, blob\n",
    "})\n",
    ".then(response => {\n",
    "    if (response.status != 200) {\n",
    "        throw new Error('Network response was not ok');\n",
    "    }\n",
    "    // Handle binary data (e.g., PNG)\n",
    "    const downloadFileFullAbsolutePath = path.join(cwd, 'downloads', 'server-download-image.png')\n",
    "    const fileStream = fs.createWriteStream(downloadFileFullAbsolutePath);\n",
    "    response.data.pipe(fileStream);\n",
    "\n",
    "    fileStream.on('finish', () => {\n",
    "        console.log('File saved successfully!');\n",
    "    });\n",
    "\n",
    "    fileStream.on('error', err => {\n",
    "        console.error('Error writing file:', err);\n",
    "    });\n",
    "})\n",
    ".catch(error => {\n",
    "    console.error('There was a problem with the fetch operation:', error);\n",
    "});"
   ]
  },
  {
   "cell_type": "markdown",
   "id": "5c16d66d-cc84-431f-aeea-d424589f5e46",
   "metadata": {},
   "source": [
    "### Downloaded PNG file\n",
    "![image](./downloads/server-download-image.png)"
   ]
  },
  {
   "cell_type": "markdown",
   "id": "9e8f923d-4af7-4ef9-8a6c-4e4b140df73c",
   "metadata": {},
   "source": [
    "## Uploading PNG file to the server by PUT method\n",
    "**NOTE:** Find the uploaded file in *./http-server-uploads/*"
   ]
  },
  {
   "cell_type": "code",
   "execution_count": 10,
   "id": "d948ba72-d659-4457-91b7-1a5ca4f4e7fa",
   "metadata": {},
   "outputs": [
    {
     "data": {
      "text/plain": [
       "Promise { <pending> }"
      ]
     },
     "execution_count": 10,
     "metadata": {},
     "output_type": "execute_result"
    },
    {
     "name": "stdout",
     "output_type": "stream",
     "text": [
      "File uploaded successfully: File uploaded and saved successfully.\n"
     ]
    }
   ],
   "source": [
    "// Uploading image to server using axios\n",
    "// Send a PUT request with the file as binary data\n",
    "// Server handle it as pip to writeStream\n",
    "axios({\n",
    "    method: 'PUT',\n",
    "    url: 'http://localhost:1234/stream/',\n",
    "    data: fs.createReadStream(path.join(cwd, 'res', 'server-upload-image.png')),\n",
    "    headers: {\n",
    "        'Content-Type': 'image/png'  // Set the appropriate content type for the file being uploaded\n",
    "    }\n",
    "})\n",
    ".then(response => {\n",
    "    console.log('File uploaded successfully:', response.data);\n",
    "})\n",
    ".catch(error => {\n",
    "    console.error('Error uploading file:', error.message);\n",
    "});"
   ]
  },
  {
   "cell_type": "code",
   "execution_count": 11,
   "id": "19246c50-5694-4994-839d-fb278a36c122",
   "metadata": {},
   "outputs": [
    {
     "data": {
      "text/plain": [
       "Promise { <pending> }"
      ]
     },
     "execution_count": 11,
     "metadata": {},
     "output_type": "execute_result"
    },
    {
     "name": "stdout",
     "output_type": "stream",
     "text": [
      "File uploaded successfully: File uploaded and saved successfully.\n"
     ]
    }
   ],
   "source": [
    "// Uploading image to server using axios\n",
    "// Send a PUT request with the file as binary data\n",
    "// Server handle it as accumulation of binary buffers and then writes it\n",
    "axios({\n",
    "    method: 'PUT',\n",
    "    url: 'http://localhost:1234/direct/',\n",
    "    data: fs.createReadStream(path.join(cwd, 'res', 'server-upload-image.png')),\n",
    "    headers: {\n",
    "        'Content-Type': 'image/png'  // Set the appropriate content type for the file being uploaded\n",
    "    }\n",
    "})\n",
    ".then(response => {\n",
    "    console.log('File uploaded successfully:', response.data);\n",
    "})\n",
    ".catch(error => {\n",
    "    console.error('Error uploading file:', error.message);\n",
    "});"
   ]
  }
 ],
 "metadata": {
  "kernelspec": {
   "display_name": "JavaScript (Node.js)",
   "language": "javascript",
   "name": "javascript"
  },
  "language_info": {
   "file_extension": ".js",
   "mimetype": "application/javascript",
   "name": "javascript",
   "version": "18.14.2"
  }
 },
 "nbformat": 4,
 "nbformat_minor": 5
}
