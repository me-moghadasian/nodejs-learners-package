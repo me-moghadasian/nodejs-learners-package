{
 "cells": [
  {
   "cell_type": "markdown",
   "id": "f51018de-1f5c-45fd-a557-8886940ac3b5",
   "metadata": {},
   "source": [
    "# Working with Objects"
   ]
  },
  {
   "cell_type": "markdown",
   "id": "6e6cbbd0-74d5-4b8e-a86c-bf98ba5b4a9d",
   "metadata": {},
   "source": [
    "## Creating and modifying objects"
   ]
  },
  {
   "cell_type": "code",
   "execution_count": 6,
   "id": "94c14c71-1f58-440c-9995-29e9313859e8",
   "metadata": {
    "editable": true,
    "slideshow": {
     "slide_type": ""
    },
    "tags": []
   },
   "outputs": [
    {
     "name": "stdout",
     "output_type": "stream",
     "text": [
      "Object property access 1:  1\n",
      "Object property access 2:  1\n",
      "Object after field delete:  { a: 1, c: 3 }\n",
      "true\n",
      "false\n"
     ]
    }
   ],
   "source": [
    "// Object 1: defining\n",
    "\n",
    "const obj = { a: 1, b: 2 };  // Create an object with key-value pairs\n",
    "\n",
    "// Add a new property to the object\n",
    "obj.c = 3;  // Dot notation\n",
    "\n",
    "// Access object properties\n",
    "console.log('Object property access 1: ', obj['a']);  // Bracket notation (useful for dynamic property names)\n",
    "console.log('Object property access 2: ', obj.a);  // Dot notation (preferred for clarity)\n",
    "\n",
    "// Delete a property from the object\n",
    "delete obj.b;\n",
    "console.log('Object after field delete: ', obj);  // Output: {a: 1, c: 3}\n",
    "\n",
    "// Check if a property exists in the object (including inherited properties)\n",
    "console.log('a' in obj);  // true (checks for any property named \"a\")\n",
    "\n",
    "// Check if a property is directly defined on the object (not inherited)\n",
    "console.log(obj.hasOwnProperty('b'));  // false (property 'b' was deleted)"
   ]
  },
  {
   "cell_type": "markdown",
   "id": "5ba9f4a4-9185-4856-ad19-6bb50f26fee2",
   "metadata": {},
   "source": [
    "## Adding functions to an object\n",
    "\n",
    "**NOTE**: For now, a simple function will be added to an object. \n",
    "    It will be dicused later in [function](06-function.ipynp) section."
   ]
  },
  {
   "cell_type": "code",
   "execution_count": 7,
   "id": "aaf57790-7a57-46d4-bc2d-ccc563d45b48",
   "metadata": {},
   "outputs": [
    {
     "name": "stdout",
     "output_type": "stream",
     "text": [
      "Some info from object: Hello World\n"
     ]
    }
   ],
   "source": [
    "// Define a method (function) on the object using arrow function syntax\n",
    "obj.a = \"Hello World\"\n",
    "obj.f = function () {\n",
    "  console.info('Some info from object:', this.a);  // Use 'this' to access object properties within the method\n",
    "};\n",
    "// Call the method defined on the object\n",
    "obj.f();  // Output: 'Some info from object: Hello World'"
   ]
  },
  {
   "cell_type": "markdown",
   "id": "e1b6fc48-901c-41ee-a3fe-422b4bda767d",
   "metadata": {},
   "source": [
    "## Parsing and getting objects specs"
   ]
  },
  {
   "cell_type": "code",
   "execution_count": 8,
   "id": "00cc356c-e6dc-4eda-9da5-83a27382ea67",
   "metadata": {
    "editable": true,
    "slideshow": {
     "slide_type": ""
    },
    "tags": []
   },
   "outputs": [
    {
     "name": "stdout",
     "output_type": "stream",
     "text": [
      "Object stringify:  {\"a\":\"Hello World\",\"c\":3}\n",
      "Object stringify:  { a: 111, b: 'some data' }\n"
     ]
    }
   ],
   "source": [
    "// Object 2: parsing\n",
    "console.log('Object stringify: ', JSON.stringify(obj));\n",
    "console.log('Object stringify: ', JSON.parse('{\"a\": 111, \"b\": \"some data\"}')); // Getting a JSON object from string"
   ]
  },
  {
   "cell_type": "code",
   "execution_count": 9,
   "id": "1bb7bc04-9350-420f-80a6-3477533ed168",
   "metadata": {
    "editable": true,
    "slideshow": {
     "slide_type": ""
    },
    "tags": []
   },
   "outputs": [
    {
     "name": "stdout",
     "output_type": "stream",
     "text": [
      "Object keys:  [ 'a', 'c', 'f' ]\n",
      "Object values:  [ 'Hello World', 3, [Function (anonymous)] ]\n",
      "Object entries:  [ [ 'a', 'Hello World' ], [ 'c', 3 ], [ 'f', [Function (anonymous)] ] ]\n"
     ]
    }
   ],
   "source": [
    "// Object 3: specs\n",
    "console.log('Object keys: ', Object.keys(obj));\n",
    "console.log('Object values: ', Object.values(obj));\n",
    "console.log('Object entries: ', Object.entries(obj));"
   ]
  },
  {
   "cell_type": "markdown",
   "id": "54a17245-4ce1-4dc0-b3a5-dc93d1e334ea",
   "metadata": {},
   "source": [
    "## Optional chaining operator\n",
    "\n",
    "The `?.` operator is the **optional chaining** operator in JavaScript. It allows you to safely access deeply nested properties of an object without having to check if each reference in the chain is `null` or `undefined`.\n",
    "\n",
    "Here's a brief description:\n",
    "\n",
    "- **Optional Chaining Operator (`?.`)**: This operator helps prevent errors when accessing properties of an object that might not exist. If a reference in the chain is `null` or `undefined`, the expression short-circuits and returns `undefined` instead of throwing an error.\n",
    "\n",
    "This operator is a useful operator for dealing with potentially undefined or null references in a concise and error-free manner."
   ]
  },
  {
   "cell_type": "code",
   "execution_count": 10,
   "id": "21c479f2-bc06-4177-83cc-8ecc60f96c6f",
   "metadata": {},
   "outputs": [
    {
     "name": "stdout",
     "output_type": "stream",
     "text": [
      "chaining 1: was null or undefined\n",
      "chaining 2: was null or undefined\n",
      "chaining 3: was null or undefined\n",
      "chaining 4: was falsy\n",
      "chaining 5: was falsy\n",
      "chaining 6: was falsy\n",
      "chaining 7: was null or undefined\n",
      "chaining 8: was null or undefined\n",
      "chaining 9: false\n",
      "chaining 10: 1\n",
      "chaining 11: was falsy\n",
      "chaining 12: was falsy\n",
      "chaining 13: was falsy\n",
      "chaining 14: 1\n"
     ]
    }
   ],
   "source": [
    "// Optional chaining operator '?.' combined with '??' and '||'\n",
    "\n",
    "let someObject = null;\n",
    "console.log(\"chaining 1:\", someObject?.a ?? \"was null or undefined\"); // Output: was null or undefined\n",
    "console.log(\"chaining 2:\", someObject?.b ?? \"was null or undefined\"); // Output: was null or undefined\n",
    "console.log(\"chaining 3:\", someObject?.c ?? \"was null or undefined\"); // Output: was null or undefined\n",
    "\n",
    "console.log(\"chaining 4:\", someObject?.a || \"was falsy\"); // Output: was falsy\n",
    "console.log(\"chaining 5:\", someObject?.b || \"was falsy\"); // Output: was falsy\n",
    "console.log(\"chaining 6:\", someObject?.c || \"was falsy\"); // Output: was falsy\n",
    "\n",
    "someObject = {\n",
    "    a: null,\n",
    "    b: undefined,\n",
    "    c: false,\n",
    "    d: 1\n",
    "};\n",
    "console.log(\"chaining 7:\", someObject?.a ?? \"was null or undefined\"); // Output: was null or undefined\n",
    "console.log(\"chaining 8:\", someObject?.b ?? \"was null or undefined\"); // Output: was null or undefined\n",
    "console.log(\"chaining 9:\", someObject?.c ?? \"was null or undefined\"); // Output: was null or undefined\n",
    "console.log(\"chaining 10:\", someObject?.d ?? \"was null or undefined\"); // Output: 1\n",
    "\n",
    "console.log(\"chaining 11:\", someObject?.a || \"was falsy\"); // Output: was falsy\n",
    "console.log(\"chaining 12:\", someObject?.b || \"was falsy\"); // Output: was falsy\n",
    "console.log(\"chaining 13:\", someObject?.c || \"was falsy\"); // Output: was falsy\n",
    "console.log(\"chaining 14:\", someObject?.d || \"was falsy\"); // Output: 1"
   ]
  },
  {
   "cell_type": "markdown",
   "id": "e73c635b-12e3-4159-8567-3689de79d72d",
   "metadata": {},
   "source": [
    "## Objects loops"
   ]
  },
  {
   "cell_type": "code",
   "execution_count": 11,
   "id": "0e80333f-f7fa-425d-b792-e71e1183fdf2",
   "metadata": {
    "editable": true,
    "slideshow": {
     "slide_type": ""
    },
    "tags": []
   },
   "outputs": [
    {
     "name": "stdout",
     "output_type": "stream",
     "text": [
      "Object key:  a\n",
      "Object value:  Hello World\n",
      "Object key:  c\n",
      "Object value:  3\n",
      "Object key:  f\n",
      "Object value:  [Function (anonymous)]\n",
      "object keys: a\n",
      "object keys: c\n",
      "object keys: f\n",
      "object values: Hello World\n",
      "object values: 3\n",
      "object values: function () {\n",
      "  console.info('Some info from object:', this.a);  // Use 'this' to access object properties within the method\n",
      "}\n"
     ]
    }
   ],
   "source": [
    "// Object 4: looping\n",
    "\n",
    "// Loop over the properties of an object using the 'for...in' loop\n",
    "for (const k in obj) {\n",
    "    console.log('Object key: ', k);  // Print the key\n",
    "    console.log('Object value: ', obj[k]);  // Access and print the value using the key\n",
    "}\n",
    "\n",
    "// Get an array of the object's keys\n",
    "const keys = Object.keys(obj);\n",
    "\n",
    "// Loop over the keys using the 'forEach' method\n",
    "keys.forEach((v) => {\n",
    "    console.log(`object keys: ${v}`);  // Print each key\n",
    "});\n",
    "\n",
    "// Get an array of the object's values\n",
    "const values = Object.values(obj);\n",
    "\n",
    "// Loop over the values using the 'forEach' method\n",
    "values.forEach((v) => {\n",
    "    console.log(`object values: ${v}`);  // Print each value\n",
    "});"
   ]
  },
  {
   "cell_type": "markdown",
   "id": "235902df-40a8-4637-9303-c59655c37329",
   "metadata": {},
   "source": [
    "## Merging and Destructuring"
   ]
  },
  {
   "cell_type": "code",
   "execution_count": 12,
   "id": "d962f434-f392-424e-a6af-179464470dde",
   "metadata": {
    "editable": true,
    "slideshow": {
     "slide_type": ""
    },
    "tags": []
   },
   "outputs": [
    {
     "name": "stdout",
     "output_type": "stream",
     "text": [
      "Merging objects with ... :  { a: 1, b: 2 }\n",
      "Merging objects with assign :  { b: 2 }\n",
      "Merging objects with ... after \"a\" changed:  { a: 1, b: 2 }\n",
      "Merging objects with assign after \"a\" changed:  { a: 11, b: 2 }\n"
     ]
    }
   ],
   "source": [
    "// Object 5: merging\n",
    "\n",
    "const obj1 = { 'a': 1 };\n",
    "const obj2 = { 'b': 2 };\n",
    "\n",
    "// Merge objects using the spread operator (...)\n",
    "const obj3 = { ...obj1, ...obj2 }; // Shallow copy\n",
    "\n",
    "// Merge objects using Object.assign()\n",
    "const obj4 = Object.assign(obj1, obj2); // Deep copy\n",
    "\n",
    "console.log('Merging objects with ... : ', obj3);\n",
    "console.log('Merging objects with assign : ', obj2);\n",
    "\n",
    "// Change a property in obj1\n",
    "obj1.a = 11;\n",
    "\n",
    "console.log('Merging objects with ... after \"a\" changed: ', obj3);\n",
    "console.log('Merging objects with assign after \"a\" changed: ', obj4);"
   ]
  },
  {
   "cell_type": "code",
   "execution_count": 13,
   "id": "6f4949cf-9b56-4d4f-8821-4865a52e256a",
   "metadata": {
    "editable": true,
    "slideshow": {
     "slide_type": ""
    },
    "tags": []
   },
   "outputs": [],
   "source": [
    "// Object 6: freezing and sealing\n",
    "const objFreezed = Object.freeze({a: 1}); // Prevents adding, deleting, modifying\n",
    "const objSealed = Object.seal({a: 1}); // Prevents modifying"
   ]
  },
  {
   "cell_type": "code",
   "execution_count": 14,
   "id": "fe659e86-00be-41db-94df-7d96ca1efc75",
   "metadata": {
    "editable": true,
    "slideshow": {
     "slide_type": ""
    },
    "tags": []
   },
   "outputs": [
    {
     "name": "stdout",
     "output_type": "stream",
     "text": [
      "\"d\" form obj5: 4\n"
     ]
    }
   ],
   "source": [
    "// Object 7: destructuring\n",
    "\n",
    "const obj5 = {\n",
    "    a: 1,\n",
    "    b: 2,\n",
    "    c: 3,\n",
    "    d: 4\n",
    "};\n",
    "\n",
    "// Destructure properties 'a' and 'd' from the object\n",
    "const { a, d } = obj5;\n",
    "\n",
    "console.log('\"d\" form obj5:', d);"
   ]
  },
  {
   "cell_type": "code",
   "execution_count": null,
   "id": "6085e928-7387-4fe8-9ca2-ee01e1ff9d77",
   "metadata": {
    "editable": true,
    "slideshow": {
     "slide_type": ""
    },
    "tags": []
   },
   "outputs": [],
   "source": []
  }
 ],
 "metadata": {
  "kernelspec": {
   "display_name": "JavaScript (Node.js)",
   "language": "javascript",
   "name": "javascript"
  },
  "language_info": {
   "file_extension": ".js",
   "mimetype": "application/javascript",
   "name": "javascript",
   "version": "18.14.2"
  }
 },
 "nbformat": 4,
 "nbformat_minor": 5
}
