{
 "cells": [
  {
   "cell_type": "markdown",
   "id": "9f5e6a0f-d549-4798-a971-7b7b19b1674a",
   "metadata": {},
   "source": [
    "# Working with MongoDB\n",
    "- You need to install [MongoDB](https://www.mongodb.com/) to use this notebook."
   ]
  },
  {
   "cell_type": "code",
   "execution_count": 2,
   "id": "2436eb95-85d1-49ce-95bf-ef8a04634582",
   "metadata": {},
   "outputs": [],
   "source": [
    "const MongoClient = require(\"mongodb\").MongoClient"
   ]
  },
  {
   "cell_type": "code",
   "execution_count": 3,
   "id": "b4023c47-4a57-4489-a8eb-c09974f3a89a",
   "metadata": {},
   "outputs": [],
   "source": [
    "const dbName = \"nodejs-learners-package-db\";\n",
    "const dbPort = '27017';\n",
    "const uri = `mongodb://localhost/:${27017}/${dbName}`; // Replace with your actual connection string\n",
    "const client = new MongoClient(uri);"
   ]
  },
  {
   "cell_type": "code",
   "execution_count": null,
   "id": "1d7894a5-e88c-4b49-becf-e0deffdb3b4d",
   "metadata": {},
   "outputs": [],
   "source": []
  }
 ],
 "metadata": {
  "kernelspec": {
   "display_name": "JavaScript (Node.js)",
   "language": "javascript",
   "name": "javascript"
  },
  "language_info": {
   "file_extension": ".js",
   "mimetype": "application/javascript",
   "name": "javascript",
   "version": "18.14.2"
  }
 },
 "nbformat": 4,
 "nbformat_minor": 5
}
