{
 "cells": [
  {
   "cell_type": "markdown",
   "id": "9f5e6a0f-d549-4798-a971-7b7b19b1674a",
   "metadata": {},
   "source": [
    "# Working with MongoDB\n",
    "- You need to install [MongoDB](https://www.mongodb.com/) to use this notebook."
   ]
  },
  {
   "cell_type": "code",
   "execution_count": 1,
   "id": "2436eb95-85d1-49ce-95bf-ef8a04634582",
   "metadata": {},
   "outputs": [],
   "source": [
    "const MongoClient = require(\"mongodb\").MongoClient;"
   ]
  },
  {
   "cell_type": "markdown",
   "id": "873f1bc1-1380-4b47-b582-ffe6b7d819af",
   "metadata": {},
   "source": [
    "## Preparing DB"
   ]
  },
  {
   "cell_type": "code",
   "execution_count": 2,
   "id": "b4023c47-4a57-4489-a8eb-c09974f3a89a",
   "metadata": {},
   "outputs": [],
   "source": [
    "const dbName = \"nodejs-learners-package-db\";\n",
    "const dbPort = '27017';\n",
    "const uri = `mongodb://127.0.0.1/:${27017}/${dbName}`; // Replace with your actual connection string\n",
    "const client = new MongoClient(uri);"
   ]
  },
  {
   "cell_type": "markdown",
   "id": "ef6a3171-47b5-459f-94bd-893d6fe4b46a",
   "metadata": {},
   "source": [
    "## Defining some helper functions"
   ]
  },
  {
   "cell_type": "code",
   "execution_count": 3,
   "id": "02919614-4dc5-4387-99c8-d45f471dd0bb",
   "metadata": {},
   "outputs": [],
   "source": [
    "// Connects to the DB\n",
    "async function connectToDB() {\n",
    "    try {\n",
    "        await client.connect();\n",
    "        console.log(\"Connected to MongoDB!\");\n",
    "    } catch (error) {\n",
    "        console.error(\"Error connecting to MongoDB:\", error);\n",
    "    }\n",
    "}\n",
    "\n",
    "// Writes a doc to DB; fails if doc with same '_id' already exists\n",
    "async function createDoc(collectionName, doc) {\n",
    "    const db = client.db(dbName);\n",
    "    const collection = db.collection(collectionName);\n",
    "\n",
    "    try {\n",
    "        const result = await collection.insertOne(doc);\n",
    "        console.log(\"Document created successfully:\", result.insertedId);\n",
    "        return result;\n",
    "    } catch (error) {\n",
    "        console.error(\"Error creating document:\", error);\n",
    "    }\n",
    "}"
   ]
  },
  {
   "cell_type": "markdown",
   "id": "33d50b2d-0ad3-405d-8f47-506295476c39",
   "metadata": {},
   "source": [
    "## Connection to MongoDB"
   ]
  },
  {
   "cell_type": "code",
   "execution_count": 4,
   "id": "de941c9f-0d46-40eb-9c2d-4eba5f0475ba",
   "metadata": {},
   "outputs": [
    {
     "data": {
      "text/plain": [
       "Promise { <pending> }"
      ]
     },
     "execution_count": 4,
     "metadata": {},
     "output_type": "execute_result"
    },
    {
     "name": "stdout",
     "output_type": "stream",
     "text": [
      "Connected to MongoDB!\n",
      "Connected to the database.\n"
     ]
    }
   ],
   "source": [
    "connectToDB()\n",
    "    .then(() => {\n",
    "        console.log(\"Connected to the database.\");\n",
    "    })\n",
    "    .catch((error) => {\n",
    "        console.error(\"Connecting to the database failed\", error);\n",
    "        process.exit(0);\n",
    "    })"
   ]
  },
  {
   "cell_type": "code",
   "execution_count": 6,
   "id": "b738a5e5-05bf-47ef-83a0-5fe3aa65ce17",
   "metadata": {},
   "outputs": [
    {
     "data": {
      "text/plain": [
       "Promise { <pending> }"
      ]
     },
     "execution_count": 6,
     "metadata": {},
     "output_type": "execute_result"
    },
    {
     "name": "stdout",
     "output_type": "stream",
     "text": [
      "Document created successfully: 1564476\n",
      "Doc created at {\"acknowledged\":true,\"insertedId\":1564476}\n"
     ]
    }
   ],
   "source": [
    "// Adds a doc to 'users' collection\n",
    "createDoc(\n",
    "    'users', \n",
    "    {\n",
    "        _id: 1564476,\n",
    "        name: 'Robbin',\n",
    "        age: 37\n",
    "    })\n",
    "    .then((res) => {\n",
    "        console.log(`Doc created at ${JSON.stringify(res)}`);\n",
    "    })\n",
    "    .catch((err) => {\n",
    "        console.log(\"Doc creation failed.\");\n",
    "    })"
   ]
  },
  {
   "cell_type": "code",
   "execution_count": 7,
   "id": "381a27f5-dd5d-419a-aba0-5accaf24e21c",
   "metadata": {},
   "outputs": [
    {
     "data": {
      "text/plain": [
       "Promise { <pending> }"
      ]
     },
     "execution_count": 7,
     "metadata": {},
     "output_type": "execute_result"
    },
    {
     "name": "stdout",
     "output_type": "stream",
     "text": [
      "MongoDB connection closed\n"
     ]
    }
   ],
   "source": [
    "client.close()\n",
    "    .then(() =>{ \n",
    "        console.log('MongoDB connection closed');\n",
    "    })\n",
    "    .catch((error) => { \n",
    "        console.error('Error closing the MongoDB connection:', error);\n",
    "    })"
   ]
  },
  {
   "cell_type": "code",
   "execution_count": null,
   "id": "d03b7c30-aca9-45e4-a976-cdaa9368de6a",
   "metadata": {},
   "outputs": [],
   "source": []
  }
 ],
 "metadata": {
  "kernelspec": {
   "display_name": "JavaScript (Node.js)",
   "language": "javascript",
   "name": "javascript"
  },
  "language_info": {
   "file_extension": ".js",
   "mimetype": "application/javascript",
   "name": "javascript",
   "version": "18.14.2"
  }
 },
 "nbformat": 4,
 "nbformat_minor": 5
}
