{
 "cells": [
  {
   "cell_type": "code",
   "execution_count": null,
   "id": "f87dac2c-86eb-4f73-aa46-4b97db1c42da",
   "metadata": {},
   "outputs": [],
   "source": []
  }
 ],
 "metadata": {
  "kernelspec": {
   "display_name": "JavaScript (Node.js)",
   "language": "javascript",
   "name": "javascript"
  },
  "language_info": {
   "file_extension": ".js",
   "mimetype": "application/javascript",
   "name": "javascript",
   "version": "18.14.2"
  }
 },
 "nbformat": 4,
 "nbformat_minor": 5
}
