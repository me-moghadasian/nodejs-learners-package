{
 "cells": [
  {
   "cell_type": "markdown",
   "id": "9f5e6a0f-d549-4798-a971-7b7b19b1674a",
   "metadata": {},
   "source": [
    "# Working with MongoDB\n",
    "- You need to install [MongoDB](https://www.mongodb.com/) to use this notebook.\n",
    "\n",
    "**NOTE**: Running last cell will close database connection."
   ]
  },
  {
   "cell_type": "code",
   "execution_count": 1,
   "id": "2436eb95-85d1-49ce-95bf-ef8a04634582",
   "metadata": {},
   "outputs": [],
   "source": [
    "const MongoClient = require(\"mongodb\").MongoClient; \n",
    "const ObjectId = require(\"mongodb\").ObjectId; "
   ]
  },
  {
   "cell_type": "markdown",
   "id": "873f1bc1-1380-4b47-b582-ffe6b7d819af",
   "metadata": {},
   "source": [
    "## Preparing DB"
   ]
  },
  {
   "cell_type": "code",
   "execution_count": 2,
   "id": "b4023c47-4a57-4489-a8eb-c09974f3a89a",
   "metadata": {},
   "outputs": [],
   "source": [
    "const dbName = \"nodejs-learners-package-db\";\n",
    "const dbPort = '27017'; // Set your MongoDB port\n",
    "const uri = `mongodb://127.0.0.1/:${27017}/${dbName}`; // Replace with your actual connection uri\n",
    "const client = new MongoClient(uri);"
   ]
  },
  {
   "cell_type": "markdown",
   "id": "ef6a3171-47b5-459f-94bd-893d6fe4b46a",
   "metadata": {},
   "source": [
    "## Defining some helper functions"
   ]
  },
  {
   "cell_type": "code",
   "execution_count": 3,
   "id": "02919614-4dc5-4387-99c8-d45f471dd0bb",
   "metadata": {},
   "outputs": [],
   "source": [
    "// Connects to the DB\n",
    "async function connectToMongoDB() {\n",
    "    try {\n",
    "        await client.connect();\n",
    "        console.log(\"Connected to MongoDB!\");\n",
    "    } catch (error) {\n",
    "        console.error(\"Error connecting to MongoDB:\", error);\n",
    "        throw error; // Rethrow the error to be caught outside\n",
    "    }\n",
    "}\n",
    "\n",
    "/**\n",
    " * Inserts a single document into a specified collection.\n",
    " * \n",
    " * @param {string} collectionName - The name of the collection to insert into.\n",
    " * @param {object} doc - The document to insert.\n",
    " * @returns {Promise<object>} - The result of the insertion operation.\n",
    " * @throws {Error} - Throws an error if the insertion fails.\n",
    " */\n",
    "async function createDoc(collectionName, doc) {\n",
    "    const db = client.db(dbName);\n",
    "    const collection = db.collection(collectionName);\n",
    "\n",
    "    try {\n",
    "        const result = await collection.insertOne(doc);\n",
    "        console.log(\"Document created successfully:\", result.insertedId);\n",
    "        return result;\n",
    "    } catch (error) {\n",
    "        console.error(\"Error creating document:\", error);\n",
    "        throw error; // Rethrow the error to be caught outside\n",
    "    }\n",
    "}\n",
    "\n",
    "/**\n",
    " * Inserts multiple documents into a specified collection.\n",
    " * \n",
    " * @param {string} collectionName - The name of the collection to insert into.\n",
    " * @param {Array<object>} docs - An array of documents to insert.\n",
    " * @returns {Promise<object>} - The result of the insertion operation.\n",
    " * @throws {Error} - Throws an error if the insertion fails.\n",
    " */\n",
    "async function createDocs(collectionName, docs) {\n",
    "    const db = client.db(dbName);\n",
    "    const collection = db.collection(collectionName);\n",
    "\n",
    "    try {\n",
    "        // Insert multiple documents using insertMany\n",
    "        const result = await collection.insertMany(docs);\n",
    "        console.log(\"Documents created successfully:\", result.insertedIds);\n",
    "        return result;\n",
    "    } catch (error) {\n",
    "        console.error(\"Error creating documents:\", error);\n",
    "        throw error; // Rethrow the error to be caught outside\n",
    "    }\n",
    "}\n",
    "\n",
    "/**\n",
    " * Finds a single document in a specified collection that matches the filter.\n",
    " * \n",
    " * @param {string} collectionName - The name of the collection to query.\n",
    " * @param {object} filter - The query filter to find the document.\n",
    " * @returns {Promise<object|null>} - The found document or null if no document matches.\n",
    " * @throws {Error} - Throws an error if the query fails.\n",
    " */\n",
    "async function findDoc(collectionName, filter) {\n",
    "    const db = client.db(dbName);\n",
    "    const collection = db.collection(collectionName);\n",
    "\n",
    "    try {\n",
    "        const doc = await collection.findOne(filter);\n",
    "        if (doc) {\n",
    "            console.log(\"Document found:\", doc);\n",
    "        } else {\n",
    "            console.log(\"No document found matching the filter.\");\n",
    "        }\n",
    "        return doc;\n",
    "    } catch (error) {\n",
    "        console.error(\"Error finding document:\", error);\n",
    "        throw error;\n",
    "    }\n",
    "}\n",
    "\n",
    "/**\n",
    " * Finds multiple documents in a specified collection that match the filter.\n",
    " * \n",
    " * @param {string} collectionName - The name of the collection to query.\n",
    " * @param {object} [filter={}] - The query filter to find documents.\n",
    " * @param {object} [options={}] - Additional options for the query.\n",
    " * @returns {Promise<object[]>} - An array of found documents.\n",
    " * @throws {Error} - Throws an error if the query fails.\n",
    " */\n",
    "async function findDocs(collectionName, filter = {}, options = {}) {\n",
    "    const db = client.db(dbName);\n",
    "    const collection = db.collection(collectionName);\n",
    "\n",
    "    try {\n",
    "        const cursor = collection.find(filter, options);\n",
    "        const docs = await cursor.toArray(); // Should convert to array\n",
    "        console.log(\"Documents found:\", docs);\n",
    "        return docs;\n",
    "    } catch (error) {\n",
    "        console.error(\"Error finding documents:\", error);\n",
    "        throw error;\n",
    "    }\n",
    "}\n",
    "\n",
    "/**\n",
    " * Updates a single document that matches the filter in the specified collection.\n",
    " * \n",
    " * @param {string} collectionName - The name of the collection to update.\n",
    " * @param {object} filter - The query filter to find the document to update.\n",
    " * @param {object} update - The update operations to apply.\n",
    " * @param {object} [options={}] - Additional options for the update operation.\n",
    " * @returns {Promise<object>} - The result of the update operation.\n",
    " * @throws {Error} - Throws an error if the update fails.\n",
    " */\n",
    "async function updateDoc(collectionName, filter, update, options = {}) {\n",
    "    /*\n",
    "    const options = { \n",
    "      upsert: false,   // If true, creates a new document if no document matches the filter\n",
    "      returnDocument: 'after'  // MongoDB 4.2+ option to return the document after update (used in `findOneAndUpdate`)\n",
    "    };\n",
    "    */\n",
    "    const db = client.db(dbName);\n",
    "    const collection = db.collection(collectionName);\n",
    "\n",
    "    try {\n",
    "        const result = await collection.updateOne(filter, update, options);\n",
    "        console.log(\"Document updated successfully:\", result);\n",
    "        return result;\n",
    "    } catch (error) {\n",
    "        console.error(\"Error updating document:\", error);\n",
    "        throw error;\n",
    "    }\n",
    "}\n",
    "\n",
    "/**\n",
    " * Deletes a single document that matches the filter in the specified collection.\n",
    " * \n",
    " * @param {string} collectionName - The name of the collection to delete from.\n",
    " * @param {object} filter - The query filter to find the document to delete.\n",
    " * @returns {Promise<object>} - The result of the delete operation.\n",
    " * @throws {Error} - Throws an error if the delete operation fails.\n",
    " */\n",
    "async function deleteDoc(collectionName, filter) {\n",
    "    const db = client.db(dbName);\n",
    "    const collection = db.collection(collectionName);\n",
    "\n",
    "    try {\n",
    "        const result = await collection.deleteOne(filter);\n",
    "        console.log(\"Document deleted successfully:\", result);\n",
    "        return result;\n",
    "    } catch (error) {\n",
    "        console.error(\"Error deleting document:\", error);\n",
    "        throw error;\n",
    "    }\n",
    "}\n",
    "\n",
    "/**\n",
    " * Deletes multiple documents that match the filter in the specified collection.\n",
    " * \n",
    " * @param {string} collectionName - The name of the collection to delete from.\n",
    " * @param {object} filter - The query filter to find documents to delete.\n",
    " * @returns {Promise<object>} - The result of the delete operation.\n",
    " * @throws {Error} - Throws an error if the delete operation fails.\n",
    " */\n",
    "async function deleteDocs(collectionName, filter) {\n",
    "    const db = client.db(dbName);\n",
    "    const collection = db.collection(collectionName);\n",
    "\n",
    "    try {\n",
    "        const result = await collection.deleteMany(filter);\n",
    "        console.log(\"Documents deleted successfully:\", result);\n",
    "        return result;\n",
    "    } catch (error) {\n",
    "        console.error(\"Error deleting documents:\", error);\n",
    "        throw error;\n",
    "    }\n",
    "}\n",
    "\n",
    "/**\n",
    " * Counts the number of documents that match the filter in the specified collection.\n",
    " * \n",
    " * @param {string} collectionName - The name of the collection to count documents in.\n",
    " * @param {object} [filter={}] - The query filter to count documents.\n",
    " * @returns {Promise<number>} - The count of documents matching the filter.\n",
    " * @throws {Error} - Throws an error if the count operation fails.\n",
    " */\n",
    "async function countDocs(collectionName, filter = {}) {\n",
    "    const db = client.db(dbName);\n",
    "    const collection = db.collection(collectionName);\n",
    "\n",
    "    try {\n",
    "        const count = await collection.countDocuments(filter);\n",
    "        console.log(\"Document count:\", count);\n",
    "        return count;\n",
    "    } catch (error) {\n",
    "        console.error(\"Error counting documents:\", error);\n",
    "        throw error;\n",
    "    }\n",
    "}\n"
   ]
  },
  {
   "cell_type": "markdown",
   "id": "33d50b2d-0ad3-405d-8f47-506295476c39",
   "metadata": {},
   "source": [
    "## Connection to MongoDB"
   ]
  },
  {
   "cell_type": "code",
   "execution_count": 4,
   "id": "de941c9f-0d46-40eb-9c2d-4eba5f0475ba",
   "metadata": {},
   "outputs": [
    {
     "data": {
      "text/plain": [
       "Promise { <pending> }"
      ]
     },
     "execution_count": 4,
     "metadata": {},
     "output_type": "execute_result"
    },
    {
     "name": "stdout",
     "output_type": "stream",
     "text": [
      "Connected to MongoDB!\n",
      "Connected to the database.\n"
     ]
    }
   ],
   "source": [
    "connectToMongoDB()\n",
    "    .then(() => {\n",
    "        console.log(\"Connected to the database.\");\n",
    "    })\n",
    "    .catch((error) => {\n",
    "        console.error(\"Connecting to the database failed\", error);\n",
    "        process.exit(0);\n",
    "    })"
   ]
  },
  {
   "cell_type": "markdown",
   "id": "1e289cf8-474d-438e-bcd4-706d3c7039da",
   "metadata": {},
   "source": [
    "## Simple Database operations"
   ]
  },
  {
   "cell_type": "code",
   "execution_count": 5,
   "id": "b738a5e5-05bf-47ef-83a0-5fe3aa65ce17",
   "metadata": {},
   "outputs": [
    {
     "data": {
      "text/plain": [
       "Promise { <pending> }"
      ]
     },
     "execution_count": 5,
     "metadata": {},
     "output_type": "execute_result"
    },
    {
     "name": "stdout",
     "output_type": "stream",
     "text": [
      "Document created successfully: 1\n",
      "Doc created: {\"acknowledged\":true,\"insertedId\":1}\n",
      "Document updated successfully: {\n",
      "  acknowledged: true,\n",
      "  modifiedCount: 1,\n",
      "  upsertedId: null,\n",
      "  upsertedCount: 0,\n",
      "  matchedCount: 1\n",
      "}\n",
      "Doc updated: {\"acknowledged\":true,\"modifiedCount\":1,\"upsertedId\":null,\"upsertedCount\":0,\"matchedCount\":1}\n",
      "Documents created successfully: {\n",
      "  '0': new ObjectId('66c8a93cccc8367e2451daa7'),\n",
      "  '1': new ObjectId('66c8a93cccc8367e2451daa8')\n",
      "}\n",
      "Docs created: {\"acknowledged\":true,\"insertedCount\":2,\"insertedIds\":{\"0\":\"66c8a93cccc8367e2451daa7\",\"1\":\"66c8a93cccc8367e2451daa8\"}}\n"
     ]
    }
   ],
   "source": [
    "// Adds a doc to 'users' collection\n",
    "createDoc(\n",
    "    'users', \n",
    "    {\n",
    "        _id: 1,\n",
    "        name: 'Robbin',\n",
    "        age: 37\n",
    "    })\n",
    "    .then((res) => {\n",
    "        console.log(`Doc created: ${JSON.stringify(res)}`);\n",
    "    })\n",
    "    .catch((err) => {\n",
    "        console.log(\"Doc creation failed.\");\n",
    "    });\n",
    "\n",
    "updateDoc(\n",
    "    'users', \n",
    "    {\n",
    "        _id: 1,\n",
    "    },\n",
    "    {\n",
    "        $set: { age: 26 } \n",
    "    })\n",
    "    .then((res) => {\n",
    "        console.log(`Doc updated: ${JSON.stringify(res)}`);\n",
    "    })\n",
    "    .catch((err) => {\n",
    "        console.log(\"Doc update failed.\");\n",
    "    });\n",
    "\n",
    "// Adds some docs to 'users' collection\n",
    "createDocs(\n",
    "    'users', \n",
    "    [\n",
    "        { _id: new ObjectId(), name: 'Robbin', age: 37 }, // With new ObjectId()\n",
    "        { name: 'Alex', age: 17 } // With auto ObjectId\n",
    "    ])\n",
    "    .then((res) => {\n",
    "        console.log(`Docs created: ${JSON.stringify(res)}`);\n",
    "    })\n",
    "    .catch((err) => {\n",
    "        console.log(\"Doc creation failed.\");\n",
    "    })"
   ]
  },
  {
   "cell_type": "code",
   "execution_count": 6,
   "id": "9cea601f-f1ae-444e-b427-92209e5d9a62",
   "metadata": {},
   "outputs": [
    {
     "data": {
      "text/plain": [
       "Promise { <pending> }"
      ]
     },
     "execution_count": 6,
     "metadata": {},
     "output_type": "execute_result"
    },
    {
     "name": "stdout",
     "output_type": "stream",
     "text": [
      "Documents found: [\n",
      "  { _id: 1, name: 'Robbin', age: 26 },\n",
      "  {\n",
      "    _id: new ObjectId('66c8a93cccc8367e2451daa7'),\n",
      "    name: 'Robbin',\n",
      "    age: 37\n",
      "  },\n",
      "  {\n",
      "    _id: new ObjectId('66c8a93cccc8367e2451daa8'),\n",
      "    name: 'Alex',\n",
      "    age: 17\n",
      "  }\n",
      "]\n",
      "Found user: [\n",
      "  { _id: 1, name: 'Robbin', age: 26 },\n",
      "  {\n",
      "    _id: new ObjectId('66c8a93cccc8367e2451daa7'),\n",
      "    name: 'Robbin',\n",
      "    age: 37\n",
      "  },\n",
      "  {\n",
      "    _id: new ObjectId('66c8a93cccc8367e2451daa8'),\n",
      "    name: 'Alex',\n",
      "    age: 17\n",
      "  }\n",
      "]\n",
      "Document found: { _id: 1, name: 'Robbin', age: 26 }\n",
      "Found user: { _id: 1, name: 'Robbin', age: 26 }\n"
     ]
    }
   ],
   "source": [
    "// Finds all docs given the filtet\n",
    "findDocs('users', \n",
    "    {\n",
    "        age: { $gt: 15, $lt: 40 }\n",
    "    })\n",
    "    .then(user => console.log(\"Found user:\", user))\n",
    "    .catch(error => console.error(\"Error:\", error));\n",
    "\n",
    "// Finds one doc given the filtet\n",
    "findDoc('users', \n",
    "    {\n",
    "        age: { $gt: 1, $lt: 40 }\n",
    "    })\n",
    "    .then(user => console.log(\"Found user:\", user))\n",
    "    .catch(error => console.error(\"Error:\", error))"
   ]
  },
  {
   "cell_type": "code",
   "execution_count": 7,
   "id": "4c6eee00-c61d-49b4-a47c-725628c2e301",
   "metadata": {},
   "outputs": [
    {
     "data": {
      "text/plain": [
       "Promise { <pending> }"
      ]
     },
     "execution_count": 7,
     "metadata": {},
     "output_type": "execute_result"
    },
    {
     "name": "stdout",
     "output_type": "stream",
     "text": [
      "Document count: 3\n",
      "User count: 3\n"
     ]
    }
   ],
   "source": [
    "// Count of all docs in 'users' collection [{}: no filter]\n",
    "countDocs('users', {})\n",
    "    .then(count => console.log(\"User count:\", count))\n",
    "    .catch(error => console.error(\"Error:\", error));"
   ]
  },
  {
   "cell_type": "code",
   "execution_count": 8,
   "id": "b2261a4d-1ba6-40d5-ba7b-eda487bfd658",
   "metadata": {},
   "outputs": [
    {
     "data": {
      "text/plain": [
       "Promise { <pending> }"
      ]
     },
     "execution_count": 8,
     "metadata": {},
     "output_type": "execute_result"
    },
    {
     "name": "stdout",
     "output_type": "stream",
     "text": [
      "Document deleted successfully: { acknowledged: true, deletedCount: 1 }\n",
      "Doc deleted: {\"acknowledged\":true,\"deletedCount\":1}\n",
      "Document count: 2\n",
      "Active user count: 2\n"
     ]
    }
   ],
   "source": [
    "// Remove a doc\n",
    "deleteDoc('users', {_id: 1})\n",
    "    .then((res) => {\n",
    "        console.log(`Doc deleted: ${JSON.stringify(res)}`);\n",
    "    })\n",
    "    .catch((err) => {\n",
    "        console.log(\"Doc deletion failed.\");\n",
    "    })\n",
    "\n",
    "// Getting docs count\n",
    "countDocs('users', {})\n",
    "    .then(count => console.log(\"Active user count:\", count))\n",
    "    .catch(error => console.error(\"Error:\", error));"
   ]
  },
  {
   "cell_type": "code",
   "execution_count": 9,
   "id": "055544ee-35d4-451d-93ce-33341330ca6c",
   "metadata": {},
   "outputs": [
    {
     "data": {
      "text/plain": [
       "Promise { <pending> }"
      ]
     },
     "execution_count": 9,
     "metadata": {},
     "output_type": "execute_result"
    },
    {
     "name": "stdout",
     "output_type": "stream",
     "text": [
      "Documents deleted successfully: { acknowledged: true, deletedCount: 2 }\n",
      "Doc deleted: {\"acknowledged\":true,\"deletedCount\":2}\n"
     ]
    }
   ],
   "source": [
    "// Remove all docs\n",
    "deleteDocs('users', {})\n",
    "    .then((res) => {\n",
    "        console.log(`Doc deleted: ${JSON.stringify(res)}`);\n",
    "    })\n",
    "    .catch((err) => {\n",
    "        console.log(\"Doc deletion failed.\");\n",
    "    })"
   ]
  },
  {
   "cell_type": "markdown",
   "id": "761f81b3-18ad-4d5a-86b7-6c08895866a5",
   "metadata": {},
   "source": [
    "## Simple filtering query examlpes\n",
    "- Basic Equality\n",
    "    ```\n",
    "    filter = {\n",
    "        category: \"Electronics\"\n",
    "    }\n",
    "    ```\n",
    "  \n",
    "- Accessing nested doc\n",
    "   ```\n",
    "   filter = {\n",
    "        \"role.type\": \"admin\"\n",
    "   }\n",
    "   ```\n",
    "- Comparison Operators\n",
    "  ```\n",
    "  filter = {\n",
    "    price: { $gt: 500 }\n",
    "  }\n",
    "  \n",
    "  filter = {\n",
    "    price: { $lte: 1000 }\n",
    "  }\n",
    "  \n",
    "  filter = {\n",
    "    price: { $gte: 500, $lte: 1000 }\n",
    "  }\n",
    "  ```\n",
    "  \n",
    "- Logical Operators\n",
    "  ```\n",
    "  filter = {\n",
    "    $and: [ { category: \"Electronics\" }, { inStock: true } ]\n",
    "  }\n",
    "  \n",
    "  filter = {\n",
    "    $or: [ { category: \"Electronics\" }, { price: { $lt: 500 } } ]\n",
    "  }\n",
    "  ```\n",
    "  \n",
    "- Filter for documents where a field value is in the given list:\n",
    "\n",
    "\n",
    "  ```\n",
    "  filter = { category: { $in: [\"sale\", \"normal\"] } }\n",
    "  \n",
    "  filter = { category: { $nin: [\"sale\", \"normal\"] } }\n",
    "  ```\n",
    "\n",
    "- Filter for documents where *price* field exists:\n",
    "\n",
    "  ```\n",
    "  filter = {\n",
    "    price: { $exists: true }\n",
    "  }\n",
    "\n",
    "  filter = {\n",
    "    price: { $exists: false }\n",
    "  }\n",
    "  ```"
   ]
  },
  {
   "cell_type": "markdown",
   "id": "75a4f17e-e22f-4623-86c4-9e961f76107f",
   "metadata": {},
   "source": [
    "## Simple Updating example\n",
    "- To set a field value\n",
    "  ```\n",
    "  update = {\n",
    "      $set: {age: 22}\n",
    "  }\n",
    "  ```\n",
    "  \n",
    "- To remove a field\n",
    "  ```\n",
    "  update = {\n",
    "      $set: {age: \"\"}\n",
    "  }\n",
    "  ```\n",
    "  \n",
    "- To increment a field value\n",
    "  ```\n",
    "  update = {\n",
    "      $inc: {age: 1}\n",
    "  }\n",
    "  ```\n",
    "  \n",
    "- To multiply a field value\n",
    "  ```\n",
    "  update = {\n",
    "      $mult: {age: 2}\n",
    "  }\n",
    "  ```\n",
    "  \n",
    "- To rename a field\n",
    "  ```\n",
    "  update = {\n",
    "      $rename: {oldname: \"newname\"}\n",
    "  }\n",
    "  ```\n",
    "  \n",
    "- To add and remove an item to an array\n",
    "  ```\n",
    "  update = {\n",
    "      $push: {array: 6}\n",
    "  }\n",
    "  \n",
    "  update = {\n",
    "      $pull: {array: 6}\n",
    "  }\n",
    "  ```"
   ]
  },
  {
   "cell_type": "markdown",
   "id": "b91bef89-bafa-4158-9f70-69895f58aa25",
   "metadata": {},
   "source": [
    "## Nested documents"
   ]
  },
  {
   "cell_type": "code",
   "execution_count": 10,
   "id": "3841c00b-1754-4b97-ab46-24e027742941",
   "metadata": {},
   "outputs": [
    {
     "data": {
      "text/plain": [
       "Promise { <pending> }"
      ]
     },
     "execution_count": 10,
     "metadata": {},
     "output_type": "execute_result"
    },
    {
     "name": "stdout",
     "output_type": "stream",
     "text": [
      "Document created successfully: new ObjectId('66c8a941ccc8367e2451daa9')\n",
      "Doc created at {\"acknowledged\":true,\"insertedId\":\"66c8a941ccc8367e2451daa9\"}\n",
      "Document created successfully: new ObjectId('66c8a941ccc8367e2451daaa')\n",
      "Doc created at {\"acknowledged\":true,\"insertedId\":\"66c8a941ccc8367e2451daaa\"}\n",
      "Document updated successfully: {\n",
      "  acknowledged: true,\n",
      "  modifiedCount: 1,\n",
      "  upsertedId: null,\n",
      "  upsertedCount: 0,\n",
      "  matchedCount: 1\n",
      "}\n",
      "Doc updated: {\"acknowledged\":true,\"modifiedCount\":1,\"upsertedId\":null,\"upsertedCount\":0,\"matchedCount\":1}\n",
      "Document updated successfully: {\n",
      "  acknowledged: true,\n",
      "  modifiedCount: 0,\n",
      "  upsertedId: null,\n",
      "  upsertedCount: 0,\n",
      "  matchedCount: 1\n",
      "}\n",
      "Doc updated: {\"acknowledged\":true,\"modifiedCount\":0,\"upsertedId\":null,\"upsertedCount\":0,\"matchedCount\":1}\n"
     ]
    }
   ],
   "source": [
    "// Creating a doc and modifying its nested doc\n",
    "createDoc(\n",
    "    collection = 'users', \n",
    "    doc = {\n",
    "      _id: new ObjectId(), // Generate a new ObjectId\n",
    "      orderId: 12345,\n",
    "      items: [\n",
    "        { productId: \"A001\", quantity: 10 },\n",
    "        { productId: \"B002\", quantity: 5 }\n",
    "      ]\n",
    "    })\n",
    "    .then((res) => {\n",
    "        console.log(`Doc created at ${JSON.stringify(res)}`);\n",
    "        // After creating doc, we update its nested here immediately\n",
    "        const productIdToUpdate = \"B002\";\n",
    "        updateDoc(\n",
    "            collection = 'users', \n",
    "            filter = {\n",
    "                orderId: 12345,\n",
    "                'items.productId': productIdToUpdate\n",
    "            },\n",
    "            update = {\n",
    "                $set: { 'items.$.quantity': 10 } // '$' specify the first item mathces the filter\n",
    "            })\n",
    "            .then((res) => {\n",
    "                console.log(`Doc updated: ${JSON.stringify(res)}`);\n",
    "            })\n",
    "            .catch((err) => {\n",
    "                console.log(\"Doc update failed.\");\n",
    "            });\n",
    "    })\n",
    "    .catch((err) => {\n",
    "        console.log(\"Doc creation failed.\");\n",
    "    });\n",
    "\n",
    "// Creating a doc and modifying its nested doc with array filter\n",
    "createDoc(\n",
    "    collection = 'users', \n",
    "    doc = {\n",
    "      _id: new ObjectId(), // Generate a new ObjectId\n",
    "      orderId: 12345,\n",
    "      items: [ // Nested-docs\n",
    "        { productId: \"A001\", quantity: 10 },\n",
    "        { productId: \"B002\", quantity: 5 }\n",
    "      ]\n",
    "    })\n",
    "    .then((res) => {\n",
    "        console.log(`Doc created at ${JSON.stringify(res)}`);\n",
    "        // After creating doc, we update its nested here immediately\n",
    "        const productIdToUpdate = \"B002\";\n",
    "        updateDoc(\n",
    "            collection = 'users', \n",
    "            filter = { \n",
    "                orderId: 12345,\n",
    "                // 'items.productId': productIdToUpdate\n",
    "            },\n",
    "            update = {\n",
    "                $set: { 'items.$[item].quantity': 10 } // '$' specify the first item mathces the filter\n",
    "            },\n",
    "            options = {\n",
    "              arrayFilters: [{ 'item.productId': productIdToUpdate }], // Array filter to match the element to update\n",
    "              upsert: false // Do not create a new document if no matching document is found\n",
    "            })\n",
    "            .then((res) => {\n",
    "                console.log(`Doc updated: ${JSON.stringify(res)}`);\n",
    "            })\n",
    "            .catch((err) => {\n",
    "                console.log(\"Doc update failed.\");\n",
    "            });\n",
    "    })\n",
    "    .catch((err) => {\n",
    "        console.log(\"Doc creation failed.\");\n",
    "    });"
   ]
  },
  {
   "cell_type": "code",
   "execution_count": 11,
   "id": "dcb286c1-2265-4302-99a0-d6ef8581d795",
   "metadata": {},
   "outputs": [
    {
     "data": {
      "text/plain": [
       "Promise { <pending> }"
      ]
     },
     "execution_count": 11,
     "metadata": {},
     "output_type": "execute_result"
    },
    {
     "name": "stdout",
     "output_type": "stream",
     "text": [
      "Documents deleted successfully: { acknowledged: true, deletedCount: 2 }\n",
      "Doc deleted: {\"acknowledged\":true,\"deletedCount\":2}\n"
     ]
    }
   ],
   "source": [
    "// Remove all docs\n",
    "deleteDocs('users', {})\n",
    "    .then((res) => {\n",
    "        console.log(`Doc deleted: ${JSON.stringify(res)}`);\n",
    "    })\n",
    "    .catch((err) => {\n",
    "        console.log(\"Doc deletion failed.\");\n",
    "    })"
   ]
  },
  {
   "cell_type": "markdown",
   "id": "4737a1e7-bb88-4540-b100-fced3f8c5f5e",
   "metadata": {},
   "source": [
    "## Closing the Database Connection"
   ]
  },
  {
   "cell_type": "code",
   "execution_count": 12,
   "id": "381a27f5-dd5d-419a-aba0-5accaf24e21c",
   "metadata": {},
   "outputs": [
    {
     "data": {
      "text/plain": [
       "Promise { <pending> }"
      ]
     },
     "execution_count": 12,
     "metadata": {},
     "output_type": "execute_result"
    },
    {
     "name": "stdout",
     "output_type": "stream",
     "text": [
      "MongoDB connection closed\n"
     ]
    }
   ],
   "source": [
    "client.close()\n",
    "    .then(() =>{ \n",
    "        console.log('MongoDB connection closed');\n",
    "    })\n",
    "    .catch((error) => { \n",
    "        console.error('Error closing the MongoDB connection:', error);\n",
    "    })"
   ]
  }
 ],
 "metadata": {
  "kernelspec": {
   "display_name": "JavaScript (Node.js)",
   "language": "javascript",
   "name": "javascript"
  },
  "language_info": {
   "file_extension": ".js",
   "mimetype": "application/javascript",
   "name": "javascript",
   "version": "18.14.2"
  }
 },
 "nbformat": 4,
 "nbformat_minor": 5
}
