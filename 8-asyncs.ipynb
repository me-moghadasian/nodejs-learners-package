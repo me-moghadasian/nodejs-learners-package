{
 "cells": [
  {
   "cell_type": "code",
   "execution_count": 1,
   "id": "e76b7d5a-23f1-4eea-aeac-d5dff8321a4f",
   "metadata": {},
   "outputs": [],
   "source": [
    "const EventEmitter = require('events');"
   ]
  },
  {
   "cell_type": "code",
   "execution_count": 7,
   "id": "db3745b0-0d52-4dab-ba58-91b54d11b856",
   "metadata": {
    "editable": true,
    "slideshow": {
     "slide_type": ""
    },
    "tags": []
   },
   "outputs": [
    {
     "data": {
      "text/plain": [
       "Promise { <pending> }"
      ]
     },
     "execution_count": 7,
     "metadata": {},
     "output_type": "execute_result"
    },
    {
     "name": "stdout",
     "output_type": "stream",
     "text": [
      "Time out\n"
     ]
    }
   ],
   "source": [
    "// Simple Promise\n",
    "function printWithDelay(d) {\n",
    "    return new Promise((resolve, reject) => {\n",
    "        if (d < 0) {\n",
    "            reject('Delay must be a non-negative number'); // Reject with an error message\n",
    "        } else {\n",
    "            setTimeout(() => resolve('Time out'), d);\n",
    "        }\n",
    "    });\n",
    "}\n",
    "printWithDelay(1000)\n",
    "    .then(res => console.log(res))\n",
    "    .catch(err => console.error(err));"
   ]
  },
  {
   "cell_type": "code",
   "execution_count": 6,
   "id": "2e7d37ff-91d4-4094-932e-062b5246edd9",
   "metadata": {},
   "outputs": [
    {
     "data": {
      "text/plain": [
       "Promise { <pending> }"
      ]
     },
     "execution_count": 6,
     "metadata": {},
     "output_type": "execute_result"
    },
    {
     "name": "stderr",
     "output_type": "stream",
     "text": [
      "Caught an error: Delay must be a non-negative number\n"
     ]
    },
    {
     "name": "stdout",
     "output_type": "stream",
     "text": [
      "Time out\n",
      "async run finished: true\n"
     ]
    }
   ],
   "source": [
    "// Using async-await\n",
    "async function awaitForPrint(d) {\n",
    "    const message = await printWithDelay(d); // Waits here for result; This will throw an error if d<0.\n",
    "    console.log(message); // This line won't be reached if error happens.\n",
    "    return true; // Returns true in promise if no error is thrown.\n",
    "}\n",
    "// Resolved\n",
    "awaitForPrint(1000)\n",
    "    .then(res => console.log('async run finished:', res))\n",
    "    .catch(err => console.error('Caught an error:', err));\n",
    "\n",
    "// Rejected\n",
    "awaitForPrint(-1000)\n",
    "    .then(res => console.log('async run finished:', res))\n",
    "    .catch(err => console.error('Caught an error:', err));"
   ]
  },
  {
   "cell_type": "code",
   "execution_count": 4,
   "id": "7c7e0bc2-bf54-4b83-8865-4fb2f3619d39",
   "metadata": {},
   "outputs": [
    {
     "data": {
      "text/plain": [
       "EventEmitter {\n",
       "  _events: [Object: null prototype] {\n",
       "    event1: [Function (anonymous)],\n",
       "    event2: [Function: bound onceWrapper] { listener: [Function (anonymous)] }\n",
       "  },\n",
       "  _eventsCount: 2,\n",
       "  _maxListeners: undefined,\n",
       "  [Symbol(kCapture)]: false\n",
       "}"
      ]
     },
     "execution_count": 4,
     "metadata": {},
     "output_type": "execute_result"
    }
   ],
   "source": [
    "// Events: defining events and adding callbacks\n",
    "const eventEmitter = new EventEmitter();\n",
    "// Permanent; we can use '.off' to remove listener\n",
    "eventEmitter.on('event1', (arg) => {\n",
    "    console.log('event1 occured:', arg);\n",
    "});\n",
    "// One time event\n",
    "eventEmitter.once('event2', () => {\n",
    "    console.log('event2 occured.');\n",
    "});"
   ]
  },
  {
   "cell_type": "code",
   "execution_count": 5,
   "id": "5fd9cd5f-9b26-43c8-9094-ef799cd86f73",
   "metadata": {},
   "outputs": [
    {
     "name": "stdout",
     "output_type": "stream",
     "text": [
      "event1 occured: 1\n",
      "event2 occured.\n"
     ]
    },
    {
     "data": {
      "text/plain": [
       "true"
      ]
     },
     "execution_count": 5,
     "metadata": {},
     "output_type": "execute_result"
    }
   ],
   "source": [
    "// Events: emitting\n",
    "eventEmitter.emit('event1', 1);\n",
    "eventEmitter.emit('event2');"
   ]
  },
  {
   "cell_type": "code",
   "execution_count": null,
   "id": "945aae3d-f6da-4759-a15a-a597d2e034be",
   "metadata": {},
   "outputs": [],
   "source": []
  }
 ],
 "metadata": {
  "kernelspec": {
   "display_name": "JavaScript (Node.js)",
   "language": "javascript",
   "name": "javascript"
  },
  "language_info": {
   "file_extension": ".js",
   "mimetype": "application/javascript",
   "name": "javascript",
   "version": "18.14.2"
  }
 },
 "nbformat": 4,
 "nbformat_minor": 5
}
