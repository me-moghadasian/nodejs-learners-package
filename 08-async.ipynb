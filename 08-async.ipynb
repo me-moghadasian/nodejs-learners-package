{
 "cells": [
  {
   "cell_type": "markdown",
   "id": "c86225e8-a546-4e38-a62a-e70a9c39e881",
   "metadata": {},
   "source": [
    "# Async-await, Promise and Events"
   ]
  },
  {
   "cell_type": "code",
   "execution_count": 1,
   "id": "e76b7d5a-23f1-4eea-aeac-d5dff8321a4f",
   "metadata": {},
   "outputs": [],
   "source": [
    "// Import the EventEmitter class from the 'events' module\n",
    "const EventEmitter = require('events');"
   ]
  },
  {
   "cell_type": "markdown",
   "id": "9a30fac5-fb9f-4697-bd6d-2df11549adfb",
   "metadata": {},
   "source": [
    "## Promise\n",
    "\n",
    "In JavaScript, a `Promise` is an object that represents the eventual completion (or failure) of an **asynchronous** operation and its resulting value. It's a way to handle asynchronous tasks like data fetching or file reading more cleanly than using callbacks.\n",
    "\n",
    "```javascript\n",
    "let myPromise = new Promise((resolve, reject) => {\n",
    "    let success = true; // Simulate success or failure\n",
    "    if (success) {\n",
    "        resolve(\"The operation was successful!\");\n",
    "    } else {\n",
    "        reject(\"Something went wrong.\");\n",
    "    }\n",
    "});\n",
    "\n",
    "myPromise.then(message => {\n",
    "    console.log(message); // Logs: The operation was successful!\n",
    "}).catch(error => {\n",
    "    console.log(error); // Logs: Something went wrong.\n",
    "});\n"
   ]
  },
  {
   "cell_type": "code",
   "execution_count": 2,
   "id": "db3745b0-0d52-4dab-ba58-91b54d11b856",
   "metadata": {
    "editable": true,
    "slideshow": {
     "slide_type": ""
    },
    "tags": []
   },
   "outputs": [
    {
     "data": {
      "text/plain": [
       "Promise { <pending> }"
      ]
     },
     "execution_count": 2,
     "metadata": {},
     "output_type": "execute_result"
    },
    {
     "name": "stderr",
     "output_type": "stream",
     "text": [
      "Delay must be a non-negative number\n"
     ]
    },
    {
     "name": "stdout",
     "output_type": "stream",
     "text": [
      "Time out\n"
     ]
    }
   ],
   "source": [
    "// Simple Promise function\n",
    "\n",
    "function printWithDelay(d) {\n",
    "    return new Promise((resolve, reject) => {\n",
    "        if (d < 0) {\n",
    "            reject('Delay must be a non-negative number'); // Reject the promise with an error message if the delay is negative\n",
    "        } else {\n",
    "            setTimeout(\n",
    "                () => resolve('Time out'),\n",
    "                d\n",
    "            ); // Resolve the promise after the specified delay\n",
    "        }\n",
    "    });\n",
    "}\n",
    "\n",
    "// Call the function and handle the promise\n",
    "printWithDelay(1000)\n",
    "    .then(res => console.log(res)) // Handle the resolved promise\n",
    "    .catch(err => console.error(err)); // Handle the rejected promise\n",
    "printWithDelay(-1)\n",
    "    .then(res => console.log(res)) // Handle the resolved promise\n",
    "    .catch(err => console.error(err)); // Handle the rejected promise"
   ]
  },
  {
   "cell_type": "markdown",
   "id": "d50efef5-ff0c-4e99-b3fb-1f695a01f48c",
   "metadata": {},
   "source": [
    "## Using promise-callback combination\n",
    "\n",
    "Instead of using `then-catch` externally, here it is used inside the function and we only send an arrow function (lambda) to handle success or failure situations; like when we were using `readFile`, `writeFile`, ...."
   ]
  },
  {
   "cell_type": "code",
   "execution_count": 3,
   "id": "eda4ad79-b0c2-496c-ae3a-83f7e70292d9",
   "metadata": {},
   "outputs": [
    {
     "name": "stderr",
     "output_type": "stream",
     "text": [
      "Delay must be a non-negative number\n"
     ]
    },
    {
     "name": "stdout",
     "output_type": "stream",
     "text": [
      "Callback result Time out\n"
     ]
    }
   ],
   "source": [
    "// A promise is used inside a fucntion and gets callbacks for success and error\n",
    "\n",
    "function printWithDelayAsync(d, cb) {\n",
    "    // Defining the promise\n",
    "    const promise = new Promise((resolve, reject) => {\n",
    "        if (d < 0) {\n",
    "            reject('Delay must be a non-negative number'); // Reject the promise with an error message if the delay is negative\n",
    "        } else {\n",
    "            setTimeout(\n",
    "                () => resolve('Time out'),\n",
    "                d\n",
    "            ); // Resolve the promise after the specified delay\n",
    "        }\n",
    "    });\n",
    "\n",
    "    // Using then-catch style on promise\n",
    "    promise.then((res) => {\n",
    "        cb(null, res); // Pass the result to the callback as the second argument\n",
    "    })\n",
    "    .catch((err) => {\n",
    "        cb(err, null); // Pass the error to the callback as the first argument\n",
    "    });\n",
    "}\n",
    "\n",
    "// Call the function and send it the callback\n",
    "printWithDelayAsync(1000, (err, res) => {\n",
    "    if (err) {\n",
    "        console.error(err); // Log the error if it exists\n",
    "        return;\n",
    "    }\n",
    "    console.log(\"Callback result\", res); // Log the result if there's no error\n",
    "});\n",
    "\n",
    "printWithDelayAsync(-1, (err, res) => {\n",
    "    if (err) {\n",
    "        console.error(err); // Log the error if it exists\n",
    "        return;\n",
    "    }\n",
    "    console.log(\"Callback result\", res); // Log the result if there's no error\n",
    "});\n"
   ]
  },
  {
   "cell_type": "markdown",
   "id": "1a8d9741-a5ef-470e-8cca-b7a5204711ba",
   "metadata": {},
   "source": [
    "## Async-await\n",
    "\n",
    "the `async` functions return their result in a promise. If an exception happens, it can be caught in `catch`, otherwise `then` will get the result."
   ]
  },
  {
   "cell_type": "code",
   "execution_count": 4,
   "id": "2e7d37ff-91d4-4094-932e-062b5246edd9",
   "metadata": {},
   "outputs": [
    {
     "data": {
      "text/plain": [
       "Promise { <pending> }"
      ]
     },
     "execution_count": 4,
     "metadata": {},
     "output_type": "execute_result"
    },
    {
     "name": "stderr",
     "output_type": "stream",
     "text": [
      "Caught an error: Delay must be a non-negative number\n"
     ]
    },
    {
     "name": "stdout",
     "output_type": "stream",
     "text": [
      "Time out\n",
      "async run finished: true\n"
     ]
    }
   ],
   "source": [
    "// Async-await function using the printWithDelay function\n",
    "\n",
    "// To define an asynchronous function use 'async' keyword before 'function'. \n",
    "// The result will be returned in a 'Promise'\n",
    "async function awaitForPrint(d) {\n",
    "    // Await for the returned promise.\n",
    "    const message = await printWithDelay(d); // Await for the result of printWithDelay\n",
    "    console.log(message); // Log the message\n",
    "    return true; // Return true if no errors occur\n",
    "}\n",
    "\n",
    "// Call the async function and handle the promise\n",
    "awaitForPrint(1000)\n",
    "    .then(res => console.log('async run finished:', res))\n",
    "    .catch(err => console.error('Caught an error:', err));\n",
    "\n",
    "// Call the async function with a negative delay to trigger an error\n",
    "awaitForPrint(-1)\n",
    "    .then(res => console.log('async run finished:', res))\n",
    "    .catch(err => console.error('Caught an error:', err));"
   ]
  },
  {
   "cell_type": "markdown",
   "id": "02381cfd-e3ed-42bf-bdce-99b294e2fc9b",
   "metadata": {},
   "source": [
    "## Events"
   ]
  },
  {
   "cell_type": "code",
   "execution_count": 5,
   "id": "7c7e0bc2-bf54-4b83-8865-4fb2f3619d39",
   "metadata": {},
   "outputs": [
    {
     "data": {
      "text/plain": [
       "EventEmitter {\n",
       "  _events: [Object: null prototype] {\n",
       "    event1: [Function (anonymous)],\n",
       "    event2: [Function: bound onceWrapper] { listener: [Function (anonymous)] }\n",
       "  },\n",
       "  _eventsCount: 2,\n",
       "  _maxListeners: undefined,\n",
       "  [Symbol(kCapture)]: false\n",
       "}"
      ]
     },
     "execution_count": 5,
     "metadata": {},
     "output_type": "execute_result"
    }
   ],
   "source": [
    "// Creating event\n",
    "\n",
    "const eventEmitter = new EventEmitter();\n",
    "\n",
    "// Add a permanent listener for the 'event1' event\n",
    "eventEmitter.on('event1', (arg) => {\n",
    "    console.log('event1 occurred:', arg);\n",
    "});\n",
    "\n",
    "// Add a one-time listener for the 'event2' event\n",
    "eventEmitter.once('event2', () => {\n",
    "    console.log('event2 occurred.');\n",
    "});"
   ]
  },
  {
   "cell_type": "code",
   "execution_count": 6,
   "id": "5fd9cd5f-9b26-43c8-9094-ef799cd86f73",
   "metadata": {},
   "outputs": [
    {
     "name": "stdout",
     "output_type": "stream",
     "text": [
      "event1 occurred: 1\n",
      "event2 occurred.\n"
     ]
    },
    {
     "data": {
      "text/plain": [
       "true"
      ]
     },
     "execution_count": 6,
     "metadata": {},
     "output_type": "execute_result"
    }
   ],
   "source": [
    "// Emitting\n",
    "\n",
    "eventEmitter.emit('event1', 1);\n",
    "eventEmitter.emit('event2');"
   ]
  }
 ],
 "metadata": {
  "kernelspec": {
   "display_name": "JavaScript (Node.js)",
   "language": "javascript",
   "name": "javascript"
  },
  "language_info": {
   "file_extension": ".js",
   "mimetype": "application/javascript",
   "name": "javascript",
   "version": "18.14.2"
  }
 },
 "nbformat": 4,
 "nbformat_minor": 5
}
