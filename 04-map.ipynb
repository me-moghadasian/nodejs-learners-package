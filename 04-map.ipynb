{
 "cells": [
  {
   "cell_type": "markdown",
   "id": "5f29a2da-12a5-4478-bb00-fbb452df867a",
   "metadata": {},
   "source": [
    "# Working with Maps"
   ]
  },
  {
   "cell_type": "markdown",
   "id": "33c86117-1c6b-485b-8c94-176059b49f2d",
   "metadata": {},
   "source": [
    "## Creating and modifying maps"
   ]
  },
  {
   "cell_type": "code",
   "execution_count": 1,
   "id": "ad4b8be7-d37c-4517-a0bf-192110c2cd30",
   "metadata": {
    "editable": true,
    "slideshow": {
     "slide_type": ""
    },
    "tags": []
   },
   "outputs": [
    {
     "name": "stdout",
     "output_type": "stream",
     "text": [
      "map1 size: 3\n",
      "map1 Map(3) { 'a' => 1, 'b' => 2, 'c' => 3 }\n",
      "map1 2\n",
      "map1 has b as key: true\n",
      "map1 after delete: Map(2) { 'a' => 1, 'c' => 3 }\n",
      "map1 size after clear: 0\n",
      "[ [ 'a', 1 ], [ 'b', 2 ], [ 'c', 3 ] ]\n"
     ]
    }
   ],
   "source": [
    "// Maps: creation\n",
    "\n",
    "const map1 = new Map([\n",
    "    ['a', 1]\n",
    "]);  // Create a new Map with an initial key-value pair\n",
    "\n",
    "map1.set('b', 2);  // Add a new key-value pair\n",
    "map1.set('c', 3);  // Add another key-value pair\n",
    "\n",
    "console.log('map1 size:', map1.size);  // Get the size of the map\n",
    "\n",
    "console.log('map1', map1);  // Log the entire map\n",
    "\n",
    "const mi = map1.get('b');  // Get the value associated with the key 'b'\n",
    "console.log('map1', mi);  // Log the value\n",
    "\n",
    "console.log('map1 has b as key:', map1.has('b'));  // Check if the map contains the key 'b'\n",
    "\n",
    "map1.delete('b');  // Remove the key-value pair with the key 'b'\n",
    "console.log('map1 after delete:', map1);  // Log the map after deletion\n",
    "\n",
    "map1.clear();  // Remove all key-value pairs from the map\n",
    "console.log('map1 size after clear:', map1.size);  // Log the size of the empty map\n",
    "\n",
    "const map2 = new Map([\n",
    "    ['a', 1],\n",
    "    ['b', 2],\n",
    "    ['c', 3],\n",
    "]);  // Create a new Map with multiple key-value pairs\n",
    "\n",
    "// Unpack the Map into an array of key-value pairs\n",
    "const entries = [...map2];\n",
    "console.log(entries); // Output: [['a', 1], ['b', 2], ['c', 3]]"
   ]
  },
  {
   "cell_type": "markdown",
   "id": "2b1f7ca8-7f98-4f6c-a147-fdbe3a2e6f3d",
   "metadata": {},
   "source": [
    "## Looping and iterations on maps"
   ]
  },
  {
   "cell_type": "code",
   "execution_count": 2,
   "id": "8a934990-785e-4966-a7e5-ef4c700fd275",
   "metadata": {
    "editable": true,
    "slideshow": {
     "slide_type": ""
    },
    "tags": []
   },
   "outputs": [
    {
     "name": "stdout",
     "output_type": "stream",
     "text": [
      "map items: [ 'a', 1 ]\n",
      "map items: [ 'b', 2 ]\n",
      "map items: [ 'c', 3 ]\n",
      "map entries: [ 'a', 1 ]\n",
      "map entries: [ 'b', 2 ]\n",
      "map entries: [ 'c', 3 ]\n",
      "map keys: a\n",
      "map keys: b\n",
      "map keys: c\n",
      "map values: 1\n",
      "map values: 2\n",
      "map values: 3\n",
      "map values and keys: 1 a\n",
      "map values and keys: 2 b\n",
      "map values and keys: 3 c\n"
     ]
    }
   ],
   "source": [
    "// Maps: iteration\n",
    "\n",
    "for (const e of map2) {\n",
    "    console.log('map items:', e); // Output: map items: ['a', 1], map items: ['b', 2], map items: ['c', 3]\n",
    "}\n",
    "\n",
    "for (const e of map2.entries()) {\n",
    "    console.log('map entries:', e); // Output: map entries: ['a', 1], map entries: ['b', 2], map entries: ['c', 3]\n",
    "}\n",
    "\n",
    "for (const e of map2.keys()) {\n",
    "    console.log('map keys:', e); // Output: map keys: a, map keys: b, map keys: c\n",
    "}\n",
    "\n",
    "for (const e of map2.values()) {\n",
    "    console.log('map values:', e); // Output: map values: 1, map values: 2, map values: 3\n",
    "}\n",
    "\n",
    "map2.forEach((v, k) => {\n",
    "    console.log('map values and keys:', v, k); // Output: map values and keys: 1 a, map values and keys: 2 b, map values and keys: 3 c\n",
    "});"
   ]
  },
  {
   "cell_type": "code",
   "execution_count": null,
   "id": "b02ecad0-68fb-46ff-b4c1-7bc3afd4df91",
   "metadata": {},
   "outputs": [],
   "source": []
  }
 ],
 "metadata": {
  "kernelspec": {
   "display_name": "JavaScript (Node.js)",
   "language": "javascript",
   "name": "javascript"
  },
  "language_info": {
   "file_extension": ".js",
   "mimetype": "application/javascript",
   "name": "javascript",
   "version": "18.14.2"
  }
 },
 "nbformat": 4,
 "nbformat_minor": 5
}
