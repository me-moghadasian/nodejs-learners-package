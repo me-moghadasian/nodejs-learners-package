{
 "cells": [
  {
   "cell_type": "markdown",
   "id": "f51018de-1f5c-45fd-a557-8886940ac3b5",
   "metadata": {},
   "source": [
    "# Working with Objects"
   ]
  },
  {
   "cell_type": "markdown",
   "id": "6e6cbbd0-74d5-4b8e-a86c-bf98ba5b4a9d",
   "metadata": {},
   "source": [
    "## Creating and modifying objects"
   ]
  },
  {
   "cell_type": "code",
   "execution_count": 1,
   "id": "94c14c71-1f58-440c-9995-29e9313859e8",
   "metadata": {
    "editable": true,
    "slideshow": {
     "slide_type": ""
    },
    "tags": []
   },
   "outputs": [
    {
     "name": "stdout",
     "output_type": "stream",
     "text": [
      "Object property access 1:  1\n",
      "Object property access 2:  1\n",
      "Some info from object: undefined\n",
      "Object after field delete:  { a: 1, c: 3, f: [Function (anonymous)] }\n",
      "true\n",
      "false\n"
     ]
    }
   ],
   "source": [
    "// Object 1: defining\n",
    "const obj = {a: 1, b: 2};\n",
    "obj.c = 3;\n",
    "obj.f = () => {console.info('Some info from object:', this.a);}\n",
    "console.log('Object property access 1: ', obj['a']);\n",
    "console.log('Object property access 2: ', obj.a);\n",
    "obj.f();\n",
    "\n",
    "delete obj.b\n",
    "console.log('Object after field delete: ', obj);\n",
    "console.log('a' in obj);  // true\n",
    "console.log(obj.hasOwnProperty('b'));  // false"
   ]
  },
  {
   "cell_type": "markdown",
   "id": "e1b6fc48-901c-41ee-a3fe-422b4bda767d",
   "metadata": {},
   "source": [
    "## Parsing and getting objects specs"
   ]
  },
  {
   "cell_type": "code",
   "execution_count": 2,
   "id": "00cc356c-e6dc-4eda-9da5-83a27382ea67",
   "metadata": {
    "editable": true,
    "slideshow": {
     "slide_type": ""
    },
    "tags": []
   },
   "outputs": [
    {
     "name": "stdout",
     "output_type": "stream",
     "text": [
      "Object stringify:  {\"a\":1,\"c\":3}\n",
      "Object stringify:  { a: 111, b: 'some data' }\n"
     ]
    }
   ],
   "source": [
    "// Object 2: parsing\n",
    "console.log('Object stringify: ', JSON.stringify(obj));\n",
    "console.log('Object stringify: ', JSON.parse('{\"a\": 111, \"b\": \"some data\"}'));"
   ]
  },
  {
   "cell_type": "code",
   "execution_count": 3,
   "id": "1bb7bc04-9350-420f-80a6-3477533ed168",
   "metadata": {
    "editable": true,
    "slideshow": {
     "slide_type": ""
    },
    "tags": []
   },
   "outputs": [
    {
     "name": "stdout",
     "output_type": "stream",
     "text": [
      "Object keys:  [ 'a', 'c', 'f' ]\n",
      "Object values:  [ 1, 3, [Function (anonymous)] ]\n",
      "Object entries:  [ [ 'a', 1 ], [ 'c', 3 ], [ 'f', [Function (anonymous)] ] ]\n"
     ]
    }
   ],
   "source": [
    "// Object 3: specs\n",
    "console.log('Object keys: ', Object.keys(obj));\n",
    "console.log('Object values: ', Object.values(obj));\n",
    "console.log('Object entries: ', Object.entries(obj));"
   ]
  },
  {
   "cell_type": "markdown",
   "id": "e73c635b-12e3-4159-8567-3689de79d72d",
   "metadata": {},
   "source": [
    "## Objects loops"
   ]
  },
  {
   "cell_type": "code",
   "execution_count": 12,
   "id": "0e80333f-f7fa-425d-b792-e71e1183fdf2",
   "metadata": {
    "editable": true,
    "slideshow": {
     "slide_type": ""
    },
    "tags": []
   },
   "outputs": [
    {
     "name": "stdout",
     "output_type": "stream",
     "text": [
      "Object key:  a\n",
      "Object value:  1\n",
      "Object key:  c\n",
      "Object value:  3\n",
      "Object key:  f\n",
      "Object value:  [Function (anonymous)]\n",
      "object keys: a\n",
      "object keys: c\n",
      "object keys: f\n",
      "object values: 1\n",
      "object values: 3\n",
      "object values: () => {console.info('Some info from object:', this.a);}\n"
     ]
    }
   ],
   "source": [
    "// Object 4: looping\n",
    "for (const k in obj) {\n",
    "    console.log('Object key: ', k);\n",
    "    console.log('Object value: ', obj[k]);\n",
    "}\n",
    "const keys = Object.keys(obj);\n",
    "const values = Object.values(obj);\n",
    "keys.forEach((v)=>{\n",
    "    console.log(`object keys: ${v}`);\n",
    "});\n",
    "values.forEach((v)=>{\n",
    "    console.log(`object values: ${v}`);\n",
    "});"
   ]
  },
  {
   "cell_type": "markdown",
   "id": "235902df-40a8-4637-9303-c59655c37329",
   "metadata": {},
   "source": [
    "## Merging and Destructuring"
   ]
  },
  {
   "cell_type": "code",
   "execution_count": 5,
   "id": "d962f434-f392-424e-a6af-179464470dde",
   "metadata": {
    "editable": true,
    "slideshow": {
     "slide_type": ""
    },
    "tags": []
   },
   "outputs": [
    {
     "name": "stdout",
     "output_type": "stream",
     "text": [
      "Merging objects with ... :  { a: 1, b: 2 }\n",
      "Merging objects with assign :  { b: 2 }\n",
      "Merging objects with ... after \"a\" changed:  { a: 1, b: 2 }\n",
      "Merging objects with assign after \"a\" changed:  { a: 11, b: 2 }\n"
     ]
    }
   ],
   "source": [
    "// Object 5: merging\n",
    "const obj1 = {'a': 1};\n",
    "const obj2 = {'b': 2};\n",
    "const obj3 = {...obj1, ...obj2}; // Shallow copy\n",
    "const obj4 = Object.assign(obj1, obj2); // Deep copy\n",
    "console.log('Merging objects with ... : ', obj3);\n",
    "console.log('Merging objects with assign : ', obj2);\n",
    "obj1.a = 11;\n",
    "console.log('Merging objects with ... after \"a\" changed: ', obj3);\n",
    "console.log('Merging objects with assign after \"a\" changed: ', obj4);"
   ]
  },
  {
   "cell_type": "code",
   "execution_count": 6,
   "id": "6f4949cf-9b56-4d4f-8821-4865a52e256a",
   "metadata": {
    "editable": true,
    "slideshow": {
     "slide_type": ""
    },
    "tags": []
   },
   "outputs": [],
   "source": [
    "// Object 6: freezing and sealing\n",
    "const objFreezed = Object.freeze({a: 1}); // Prevents adding, deleting, modifying\n",
    "const objSealed = Object.seal({a: 1}); // Prevents modifying"
   ]
  },
  {
   "cell_type": "code",
   "execution_count": 7,
   "id": "fe659e86-00be-41db-94df-7d96ca1efc75",
   "metadata": {
    "editable": true,
    "slideshow": {
     "slide_type": ""
    },
    "tags": []
   },
   "outputs": [
    {
     "name": "stdout",
     "output_type": "stream",
     "text": [
      "\"d\" form obj5: 4\n"
     ]
    }
   ],
   "source": [
    "// Object 7: destructuring\n",
    "const obj5 = {\n",
    "    a: 1,\n",
    "    b: 2,\n",
    "    c: 3,\n",
    "    d: 4\n",
    "}\n",
    "const {a, d} = obj5\n",
    "console.log('\"d\" form obj5:', d);"
   ]
  },
  {
   "cell_type": "code",
   "execution_count": null,
   "id": "6085e928-7387-4fe8-9ca2-ee01e1ff9d77",
   "metadata": {
    "editable": true,
    "slideshow": {
     "slide_type": ""
    },
    "tags": []
   },
   "outputs": [],
   "source": []
  }
 ],
 "metadata": {
  "kernelspec": {
   "display_name": "JavaScript (Node.js)",
   "language": "javascript",
   "name": "javascript"
  },
  "language_info": {
   "file_extension": ".js",
   "mimetype": "application/javascript",
   "name": "javascript",
   "version": "18.14.2"
  }
 },
 "nbformat": 4,
 "nbformat_minor": 5
}
