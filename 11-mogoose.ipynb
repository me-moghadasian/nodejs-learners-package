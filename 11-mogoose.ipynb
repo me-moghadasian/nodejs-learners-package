{
 "cells": [
  {
   "cell_type": "markdown",
   "id": "0beba2c6-2b2c-4ce9-818d-e19331a51fb0",
   "metadata": {},
   "source": [
    "# Working with MongoDB/Mongoose\n",
    "- You need to install [MongoDB](https://www.mongodb.com/) to use this notebook."
   ]
  },
  {
   "cell_type": "code",
   "execution_count": 1,
   "id": "0cf3c374-07e6-4b95-8964-7676898441e7",
   "metadata": {},
   "outputs": [],
   "source": [
    "const mongoose = require('mongoose');"
   ]
  },
  {
   "cell_type": "code",
   "execution_count": 2,
   "id": "e9f2f187-fee1-4d6b-bfcd-9a0be4514eba",
   "metadata": {},
   "outputs": [],
   "source": [
    "const dbName = \"nodejs-learners-package-db\";\n",
    "const dbPort = '27017'; // Set your MongoDB port\n",
    "const uri = `mongodb://127.0.0.1:${dbPort}/${dbName}`; // Replace with your actual connection uri"
   ]
  },
  {
   "cell_type": "markdown",
   "id": "f063d785-cb92-4477-9c37-f4e7030dd37c",
   "metadata": {},
   "source": [
    "# Connecting to the database "
   ]
  },
  {
   "cell_type": "code",
   "execution_count": 3,
   "id": "54e1740a-8f3e-4344-9831-2b3b12fc2d90",
   "metadata": {},
   "outputs": [
    {
     "data": {
      "text/plain": [
       "Promise { <pending> }"
      ]
     },
     "execution_count": 3,
     "metadata": {},
     "output_type": "execute_result"
    },
    {
     "name": "stdout",
     "output_type": "stream",
     "text": [
      "Connected to MongoDB\n"
     ]
    }
   ],
   "source": [
    "mongoose.connect(uri)\n",
    "    .then(() => {\n",
    "      console.log('Connected to MongoDB');\n",
    "    }).catch((err) => {\n",
    "      console.error('MongoDB connection error:', err);\n",
    "    });"
   ]
  },
  {
   "cell_type": "markdown",
   "id": "3f17766d-afc9-4220-a3e0-0ce7e2fb1469",
   "metadata": {},
   "source": [
    "# Defining a schema and model"
   ]
  },
  {
   "cell_type": "code",
   "execution_count": 4,
   "id": "396bdaee-8b6d-44da-9590-012da0e0159a",
   "metadata": {},
   "outputs": [],
   "source": [
    "// Define a schema\n",
    "/*\n",
    "The { strict: true } option in Mongoose is used to enforce strict schema validation. \n",
    "When this option is enabled, Mongoose will prevent you from saving documents that contain fields\n",
    "that are not defined in the schema.\n",
    "*/\n",
    "const customerSchema = new mongoose.Schema({\n",
    "  name: String,\n",
    "  email: { type: String, unique: true },\n",
    "  age: Number,\n",
    "  createdAt: { type: Date, default: Date.now }\n",
    "}, { strict: true }); \n",
    "\n",
    "// Create a model\n",
    "const Customer = mongoose.model('customers', customerSchema);"
   ]
  },
  {
   "cell_type": "markdown",
   "id": "e249c749-47de-48b1-b7ed-385e942dbfff",
   "metadata": {},
   "source": [
    "### Detailed schema creation\n",
    "\n",
    "```\n",
    "// Define the customer schema\n",
    "const customerSchema = new mongoose.Schema({\n",
    "\n",
    "  // Basic data types\n",
    "  name: {\n",
    "    type: String, // String data type for the customer's name\n",
    "    required: true, // Makes the \"name\" field mandatory\n",
    "    trim: true, // Removes leading and trailing whitespace\n",
    "  },\n",
    "\n",
    "  // Unique email with validation\n",
    "  email: {\n",
    "    type: String,\n",
    "    required: true,\n",
    "    unique: true, // Ensures no duplicate emails in the collection\n",
    "    validate: {\n",
    "      validator: (value) => /^[^\\s@]+@[^\\s@]+\\.[^\\s@]+$/.test(value), // for email validation\n",
    "      message: 'Invalid email format', // Custom error message for invalid emails\n",
    "    },\n",
    "  },\n",
    "\n",
    "  // Number with minimum and maximum value\n",
    "  age: {\n",
    "    type: Number,\n",
    "    required: true,\n",
    "    min: 18, // Minimum age limit\n",
    "    max: 120, // Maximum age limit\n",
    "  },\n",
    "\n",
    "  // Date with default value\n",
    "  createdAt: {\n",
    "    type: Date,\n",
    "    default: Date.now, // Sets the creation time automatically\n",
    "  },\n",
    "\n",
    "  // Embedded document for address details (optional)\n",
    "  address: {\n",
    "    type: {\n",
    "      street: String, // Street address\n",
    "      city: String, // City\n",
    "      state: String, // State/Province\n",
    "      country: String, // Country\n",
    "    },\n",
    "  },\n",
    "\n",
    "  // Virtual field (not stored in database)\n",
    "  fullName: {\n",
    "    type: String,\n",
    "    virtual: true, // Indicates it's a virtual field\n",
    "    get() { // Getter function to combine name parts\n",
    "      return `${this.name.first} ${this.name.last}`; // assuming \"name\" has \"first\" and \"last\"\n",
    "    },\n",
    "  },\n",
    "\n",
    "  // Custom validation using a function\n",
    "  validateAge: {\n",
    "    validator: function (value) {\n",
    "      return value >= 18; // Custom validation for minimum age\n",
    "    },\n",
    "    message: 'Age must be 18 or older',\n",
    "  },\n",
    "\n",
    "}, { strict: true }); // Enable strict mode for better data validation\n",
    "\n",
    "```"
   ]
  },
  {
   "cell_type": "markdown",
   "id": "f0f67b8b-5a8b-4bc6-a82f-30b95fc18018",
   "metadata": {},
   "source": [
    "# Simple database operations"
   ]
  },
  {
   "cell_type": "code",
   "execution_count": 5,
   "id": "8712f73e-96be-458b-ad91-3bdb5dbdd7b2",
   "metadata": {},
   "outputs": [
    {
     "data": {
      "text/plain": [
       "Promise { <pending> }"
      ]
     },
     "execution_count": 5,
     "metadata": {},
     "output_type": "execute_result"
    },
    {
     "name": "stdout",
     "output_type": "stream",
     "text": [
      "Deleted: 0\n"
     ]
    }
   ],
   "source": [
    "const newCustomer = new Customer({\n",
    "  name: 'Alice',\n",
    "  email: 'alice@example.com',\n",
    "  age: 30\n",
    "});\n",
    "\n",
    "// Delete all docs to clear the collection\n",
    "Customer.deleteMany({})\n",
    "  .then(result => console.log('Deleted:', result.deletedCount))\n",
    "  .catch(err => console.error(err));"
   ]
  },
  {
   "cell_type": "code",
   "execution_count": 6,
   "id": "3f9bb9fd-21c5-4ef9-838c-19e95463cae7",
   "metadata": {},
   "outputs": [
    {
     "data": {
      "text/plain": [
       "Promise { <pending> }"
      ]
     },
     "execution_count": 6,
     "metadata": {},
     "output_type": "execute_result"
    },
    {
     "name": "stdout",
     "output_type": "stream",
     "text": [
      "Customer saved: {\n",
      "  name: 'Alice',\n",
      "  email: 'alice@example.com',\n",
      "  age: 30,\n",
      "  _id: new ObjectId('66c99096e512124241efcb58'),\n",
      "  createdAt: 2024-08-24T07:49:42.165Z,\n",
      "  __v: 0\n",
      "}\n"
     ]
    }
   ],
   "source": [
    "// Save one document to the database\n",
    "newCustomer.save()\n",
    "    .then(customer => console.log('Customer saved:', customer))\n",
    "    .catch(err => console.error(err));"
   ]
  },
  {
   "cell_type": "code",
   "execution_count": 7,
   "id": "8b7626cc-6eba-4386-a3aa-54b09a578dca",
   "metadata": {},
   "outputs": [
    {
     "data": {
      "text/plain": [
       "Promise { <pending> }"
      ]
     },
     "execution_count": 7,
     "metadata": {},
     "output_type": "execute_result"
    },
    {
     "name": "stdout",
     "output_type": "stream",
     "text": [
      "Customers saved: [\n",
      "  {\n",
      "    name: 'Bob',\n",
      "    email: 'bob@example.com',\n",
      "    age: 25,\n",
      "    _id: new ObjectId('66c9909ae512124241efcb5b'),\n",
      "    createdAt: 2024-08-24T07:49:46.828Z,\n",
      "    __v: 0\n",
      "  },\n",
      "  {\n",
      "    name: 'Charlie',\n",
      "    email: 'charlie@example.com',\n",
      "    age: 32,\n",
      "    _id: new ObjectId('66c9909ae512124241efcb5c'),\n",
      "    createdAt: 2024-08-24T07:49:46.829Z,\n",
      "    __v: 0\n",
      "  },\n",
      "  {\n",
      "    name: 'David',\n",
      "    email: 'david@example.com',\n",
      "    age: 40,\n",
      "    _id: new ObjectId('66c9909ae512124241efcb5d'),\n",
      "    createdAt: 2024-08-24T07:49:46.830Z,\n",
      "    __v: 0\n",
      "  }\n",
      "]\n"
     ]
    }
   ],
   "source": [
    "// Insert many docs\n",
    "Customer.insertMany([\n",
    "  { name: 'Bob', email: 'bob@example.com', age: 25 },\n",
    "  { name: 'Charlie', email: 'charlie@example.com', age: 32 },\n",
    "  { name: 'David', email: 'david@example.com', age: 40 }\n",
    "]).then(savedCustomers => console.log('Customers saved:', savedCustomers))\n",
    "  .catch(err => console.error(err));"
   ]
  },
  {
   "cell_type": "code",
   "execution_count": 8,
   "id": "02d1e16e-d0b9-4d1d-ad7a-34a7f8018f23",
   "metadata": {},
   "outputs": [
    {
     "data": {
      "text/plain": [
       "Promise { <pending> }"
      ]
     },
     "execution_count": 8,
     "metadata": {},
     "output_type": "execute_result"
    },
    {
     "name": "stdout",
     "output_type": "stream",
     "text": [
      "Customer: null\n",
      "Customers: [\n",
      "  {\n",
      "    _id: new ObjectId('66c99096e512124241efcb58'),\n",
      "    name: 'Alice',\n",
      "    email: 'alice@example.com',\n",
      "    age: 30,\n",
      "    createdAt: 2024-08-24T07:49:42.165Z,\n",
      "    __v: 0\n",
      "  },\n",
      "  {\n",
      "    _id: new ObjectId('66c9909ae512124241efcb5b'),\n",
      "    name: 'Bob',\n",
      "    email: 'bob@example.com',\n",
      "    age: 25,\n",
      "    createdAt: 2024-08-24T07:49:46.828Z,\n",
      "    __v: 0\n",
      "  },\n",
      "  {\n",
      "    _id: new ObjectId('66c9909ae512124241efcb5c'),\n",
      "    name: 'Charlie',\n",
      "    email: 'charlie@example.com',\n",
      "    age: 32,\n",
      "    createdAt: 2024-08-24T07:49:46.829Z,\n",
      "    __v: 0\n",
      "  },\n",
      "  {\n",
      "    _id: new ObjectId('66c9909ae512124241efcb5d'),\n",
      "    name: 'David',\n",
      "    email: 'david@example.com',\n",
      "    age: 40,\n",
      "    createdAt: 2024-08-24T07:49:46.830Z,\n",
      "    __v: 0\n",
      "  }\n",
      "]\n",
      "Customers over 30: [\n",
      "  {\n",
      "    _id: new ObjectId('66c9909ae512124241efcb5c'),\n",
      "    name: 'Charlie',\n",
      "    email: 'charlie@example.com',\n",
      "    age: 32,\n",
      "    createdAt: 2024-08-24T07:49:46.829Z,\n",
      "    __v: 0\n",
      "  },\n",
      "  {\n",
      "    _id: new ObjectId('66c9909ae512124241efcb5d'),\n",
      "    name: 'David',\n",
      "    email: 'david@example.com',\n",
      "    age: 40,\n",
      "    createdAt: 2024-08-24T07:49:46.830Z,\n",
      "    __v: 0\n",
      "  }\n",
      "]\n"
     ]
    }
   ],
   "source": [
    "// Find all documents\n",
    "Customer.find({})\n",
    "  .then(customers => console.log('Customers:', customers))\n",
    "  .catch(err => console.error(err));\n",
    "\n",
    "// Find documents with specific criteria (e.g., age greater than 30)\n",
    "Customer.find({ age: { $gt: 30 } })\n",
    "  .then(customers => { \n",
    "      // We can use customers.toArray() to load all docs into memory\n",
    "      console.log('Customers over 30:', customers);\n",
    "      // customers is a curser: the cursor is iterable, allowing you to process documents one by one without loading them all into memory.\n",
    "  })\n",
    "  .catch(err => console.error(err));\n",
    "\n",
    "// Find a single document by ID (use findById for efficiency)\n",
    "Customer.findById('64e1234567890abc12345678') // Replace with actual ID\n",
    "  .then(customer => console.log('Customer:', customer))\n",
    "  .catch(err => console.error(err));"
   ]
  },
  {
   "cell_type": "code",
   "execution_count": 9,
   "id": "03bf8dee-d3c9-40d1-a7b2-0ace9d54b6ab",
   "metadata": {},
   "outputs": [
    {
     "data": {
      "text/plain": [
       "Promise { <pending> }"
      ]
     },
     "execution_count": 9,
     "metadata": {},
     "output_type": "execute_result"
    },
    {
     "name": "stdout",
     "output_type": "stream",
     "text": [
      "Updated customer: {\n",
      "  _id: new ObjectId('66c99096e512124241efcb58'),\n",
      "  name: 'Alice',\n",
      "  email: 'alice@example.com',\n",
      "  age: 40,\n",
      "  createdAt: 2024-08-24T07:49:42.165Z,\n",
      "  __v: 0\n",
      "}\n",
      "Updated: {\n",
      "  acknowledged: true,\n",
      "  modifiedCount: 2,\n",
      "  upsertedId: null,\n",
      "  upsertedCount: 0,\n",
      "  matchedCount: 2\n",
      "}\n"
     ]
    }
   ],
   "source": [
    "// Update all documents where age is greater than 30\n",
    "Customer.updateMany({ age: { $gt: 30 } }, { $set: { age: 35 } })\n",
    "  .then(result => console.log('Updated:', result))\n",
    "  .catch(err => console.error(err));"
   ]
  },
  {
   "cell_type": "code",
   "execution_count": null,
   "id": "b9a4f546-6413-40ed-bc51-d092ce6eaf2d",
   "metadata": {},
   "outputs": [],
   "source": [
    "// Update the first document that matches the query\n",
    "/*\n",
    "In Mongoose, the { new: true } option is used with update operations (like findOneAndUpdate or updateOne)\n",
    "to specify that you want the updated document to be returned as the result instead of the original document\n",
    "*/\n",
    "Customer.findOneAndUpdate({ email: 'alice@example.com' }, { $set: { age: 40 } }, { new: true })\n",
    "  .then(updatedCustomer => console.log('Updated customer:', updatedCustomer))\n",
    "  .catch(err => console.error(err));"
   ]
  },
  {
   "cell_type": "code",
   "execution_count": 10,
   "id": "22a3221e-e215-4a2f-ac56-3410c2b168e1",
   "metadata": {},
   "outputs": [
    {
     "data": {
      "text/plain": [
       "Promise { <pending> }"
      ]
     },
     "execution_count": 10,
     "metadata": {},
     "output_type": "execute_result"
    },
    {
     "name": "stdout",
     "output_type": "stream",
     "text": [
      "Deleted: 3\n",
      "Deleted customer: {\n",
      "  _id: new ObjectId('66c9909ae512124241efcb5b'),\n",
      "  name: 'Bob',\n",
      "  email: 'bob@example.com',\n",
      "  age: 25,\n",
      "  createdAt: 2024-08-24T07:49:46.828Z,\n",
      "  __v: 0\n",
      "}\n",
      "Deleted: 0\n"
     ]
    }
   ],
   "source": [
    "// Delete all documents where age is greater than 33\n",
    "Customer.deleteMany({ age: { $gt: 33 } })\n",
    "  .then(result => console.log('Deleted:', result.deletedCount))\n",
    "  .catch(err => console.error(err));"
   ]
  },
  {
   "cell_type": "code",
   "execution_count": null,
   "id": "6fc84576-9ee7-4939-bed0-a539cc61c61c",
   "metadata": {},
   "outputs": [],
   "source": [
    "// Delete the first document that matches the query\n",
    "Customer.findOneAndDelete({ name: 'Bob' })\n",
    "  .then(deletedCustomer => console.log('Deleted customer:', deletedCustomer))\n",
    "  .catch(err => console.error(err));"
   ]
  },
  {
   "cell_type": "code",
   "execution_count": null,
   "id": "eb5a1232-d270-4499-b8a9-9712d04bdf6c",
   "metadata": {},
   "outputs": [],
   "source": [
    "// Delete all docs\n",
    "Customer.deleteMany({})\n",
    "  .then(result => console.log('Deleted:', result.deletedCount))\n",
    "  .catch(err => console.error(err));"
   ]
  },
  {
   "cell_type": "markdown",
   "id": "941b8083-34b3-4707-b5d4-fdfb12332a2a",
   "metadata": {},
   "source": [
    "## Closing the Database Connection"
   ]
  },
  {
   "cell_type": "code",
   "execution_count": 11,
   "id": "f7d45eb1-a406-4886-ad0b-52485be76ec7",
   "metadata": {},
   "outputs": [
    {
     "data": {
      "text/plain": [
       "Promise { <pending> }"
      ]
     },
     "execution_count": 11,
     "metadata": {},
     "output_type": "execute_result"
    },
    {
     "name": "stdout",
     "output_type": "stream",
     "text": [
      "Disconnected from MongoDB\n"
     ]
    }
   ],
   "source": [
    "// Closing the connection\n",
    "mongoose.disconnect()\n",
    "  .then(() => console.log('Disconnected from MongoDB'))\n",
    "  .catch(err => console.error(err));"
   ]
  }
 ],
 "metadata": {
  "kernelspec": {
   "display_name": "JavaScript (Node.js)",
   "language": "javascript",
   "name": "javascript"
  },
  "language_info": {
   "file_extension": ".js",
   "mimetype": "application/javascript",
   "name": "javascript",
   "version": "18.14.2"
  }
 },
 "nbformat": 4,
 "nbformat_minor": 5
}
