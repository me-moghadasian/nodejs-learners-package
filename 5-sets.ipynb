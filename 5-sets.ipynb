{
 "cells": [
  {
   "cell_type": "code",
   "execution_count": 2,
   "id": "4aefd31b-67f1-4f99-817d-06963c081ccc",
   "metadata": {
    "editable": true,
    "slideshow": {
     "slide_type": ""
    },
    "tags": []
   },
   "outputs": [
    {
     "name": "stdout",
     "output_type": "stream",
     "text": [
      "set1 size: 4\n",
      "set1: Set(3) { 'a', 'c', 'd' }\n",
      "set1 has \"a\": true\n",
      "set1 size: 0\n"
     ]
    }
   ],
   "source": [
    "// Sets: defining\n",
    "const set1 = new Set(['a', 'b', 'c']);\n",
    "set1.add('d');\n",
    "console.log('set1 size:', set1.size);\n",
    "set1.delete('b');\n",
    "console.log('set1:', set1);\n",
    "console.log('set1 has \"a\":', set1.has('a'));\n",
    "set1.clear();\n",
    "console.log('set1 size:', set1.size);\n",
    "const set2 = new Set(['a', 'b', 'c']);"
   ]
  },
  {
   "cell_type": "code",
   "execution_count": 9,
   "id": "e28e4de0-5a54-4344-a449-eec4ea3f1dd1",
   "metadata": {
    "editable": true,
    "slideshow": {
     "slide_type": ""
    },
    "tags": []
   },
   "outputs": [
    {
     "name": "stdout",
     "output_type": "stream",
     "text": [
      "set items: a\n",
      "set items: b\n",
      "set items: c\n",
      "set keys: a\n",
      "set keys: b\n",
      "set keys: c\n",
      "set values: a\n",
      "set values: b\n",
      "set values: c\n",
      "set values: a\n",
      "set values: b\n",
      "set values: c\n"
     ]
    }
   ],
   "source": [
    "for(const e of set2) console.log('set items:',  e)\n",
    "for(const e of set2.keys()) console.log('set keys:',  e)\n",
    "for(const e of set2.values()) console.log('set values:',  e)\n",
    "set2.forEach(v => console.log('set values:',  v))"
   ]
  },
  {
   "cell_type": "code",
   "execution_count": 10,
   "id": "8799d91c-7d01-467f-a9e6-080c421e385d",
   "metadata": {
    "editable": true,
    "slideshow": {
     "slide_type": ""
    },
    "tags": []
   },
   "outputs": [
    {
     "name": "stdout",
     "output_type": "stream",
     "text": [
      "[ 'a', 'b', 'c' ]\n"
     ]
    }
   ],
   "source": [
    "// Map: unpacking\n",
    "const entries = [...set2];\n",
    "console.log(entries);  // Output: ['a', 'b', 'c']"
   ]
  },
  {
   "cell_type": "code",
   "execution_count": null,
   "id": "66cb00f3-fe6c-4c28-a7cf-17ccc00dd65b",
   "metadata": {
    "editable": true,
    "slideshow": {
     "slide_type": ""
    },
    "tags": []
   },
   "outputs": [],
   "source": []
  }
 ],
 "metadata": {
  "kernelspec": {
   "display_name": "JavaScript (Node.js)",
   "language": "javascript",
   "name": "javascript"
  },
  "language_info": {
   "file_extension": ".js",
   "mimetype": "application/javascript",
   "name": "javascript",
   "version": "18.14.2"
  }
 },
 "nbformat": 4,
 "nbformat_minor": 5
}
